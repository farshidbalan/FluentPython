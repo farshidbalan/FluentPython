{
  "nbformat": 4,
  "nbformat_minor": 0,
  "metadata": {
    "colab": {
      "name": "Chapter14.ipynb",
      "version": "0.3.2",
      "provenance": [],
      "include_colab_link": true
    },
    "kernelspec": {
      "name": "python3",
      "display_name": "Python 3"
    }
  },
  "cells": [
    {
      "cell_type": "markdown",
      "metadata": {
        "id": "view-in-github",
        "colab_type": "text"
      },
      "source": [
        "<a href=\"https://colab.research.google.com/github/farshidbalan/FluentPython/blob/master/Chapter14.ipynb\" target=\"_parent\"><img src=\"https://colab.research.google.com/assets/colab-badge.svg\" alt=\"Open In Colab\"/></a>"
      ]
    },
    {
      "cell_type": "markdown",
      "metadata": {
        "id": "bMSum6O2kW-X",
        "colab_type": "text"
      },
      "source": [
        "# Iterables, Iterators, and Generators"
      ]
    },
    {
      "cell_type": "markdown",
      "metadata": {
        "id": "FFsPKbPzlRqh",
        "colab_type": "text"
      },
      "source": [
        "## Sentence Take #1: A Sequence of Words\n",
        "\n",
        "We’ll start our exploration of iterables by implementing a Sentence class: you give its\n",
        "constructor a string with some text, and then you can iterate word by word. The first\n",
        "version will implement the sequence protocol, and it’s iterable because all sequences are\n",
        "iterable, as we’ve seen before, but now we’ll see exactly why."
      ]
    },
    {
      "cell_type": "code",
      "metadata": {
        "id": "F-KqezFblr7o",
        "colab_type": "code",
        "colab": {}
      },
      "source": [
        "# Example 14-1 shows a Sentence class that extracts words from a text by index.\n",
        "import re\n",
        "import reprlib\n",
        "\n",
        "RE_WORD = re.compile('\\w+')\n",
        "\n",
        "class Sentence:\n",
        "  def __init__(self, text):\n",
        "    self.text = text\n",
        "    self.words = RE_WORD.findall(text) # re.findall returns a list with all nonoverlapping matches of the regular\n",
        "                                      # expression, as a list of strings.\n",
        "    \n",
        "  def __getitem__(self, index):\n",
        "    return self.words[index]  # self.words holds the result of .findall, so we simply return the word at the given index\n",
        "  \n",
        "  def __len__(self):\n",
        "    return len(self.words) # To complete the sequence protocol, we implement __len__—but it is not needed to make an iterable object.\n",
        "  \n",
        "  def __repr__(self):\n",
        "    return f'Sentence({reprlib.repr(self.text)})' # reprlib.repr is a utility function to generate abbreviated string representations\n",
        "                                                  # of data structures that can be very large.\n"
      ],
      "execution_count": 0,
      "outputs": []
    },
    {
      "cell_type": "code",
      "metadata": {
        "id": "xa5R5U3hnB7C",
        "colab_type": "code",
        "outputId": "71b15982-fc7b-44ca-aedd-1e8d984b0001",
        "colab": {
          "base_uri": "https://localhost:8080/",
          "height": 34
        }
      },
      "source": [
        "s = Sentence('The time has come, the walrus said')\n",
        "s"
      ],
      "execution_count": 0,
      "outputs": [
        {
          "output_type": "execute_result",
          "data": {
            "text/plain": [
              "Sentence('The time has...e walrus said')"
            ]
          },
          "metadata": {
            "tags": []
          },
          "execution_count": 2
        }
      ]
    },
    {
      "cell_type": "markdown",
      "metadata": {
        "id": "EutR5dN1r1zm",
        "colab_type": "text"
      },
      "source": [
        "## Why Sequences Are Iterable: The iter Function\n",
        "\n",
        "Whenever the interpreter needs to iterate over an object x, it automatically calls iter(x).\n",
        "The iter built-in function:\n",
        "1. Checks whether the object implements \\_\\_iter\\_\\_, and calls that to obtain an iterator.\n",
        "2. If \\_\\_iter\\_\\_ is not implemented, but \\_\\_getitem\\_\\_ is implemented, Python creates\n",
        "an iterator that attempts to fetch items in order, starting from index 0 (zero).\n",
        "3. If that fails, Python raises TypeError, usually saying “C object is not iterable,” where\n",
        "C is the class of the target object.\n",
        "\n",
        "That is why any Python sequence is iterable: they all implement \\_\\_getitem\\_\\_. In fact,\n",
        "the standard sequences also implement \\_\\_iter\\_\\_, and yours should too, because the\n",
        "special handling of \\_\\_getitem\\_\\_ exists for backward compatibility reasons and may be\n",
        "gone in the future (although it is not deprecated as I write this)."
      ]
    },
    {
      "cell_type": "markdown",
      "metadata": {
        "id": "fsdbbc5lsXR3",
        "colab_type": "text"
      },
      "source": [
        "### Remark\n",
        "\n",
        "As of Python 3.4, the most accurate way to check whether an ob‐\n",
        "ject x is iterable is to call iter(x) and handle a TypeError excep‐\n",
        "tion if it isn’t. This is more accurate than using isinstance(x,\n",
        "abc.Iterable), because iter(x) also considers the legacy\n",
        "\\_\\_getitem\\_\\_ method, while the Iterable ABC does not."
      ]
    },
    {
      "cell_type": "markdown",
      "metadata": {
        "id": "0oged967tzhb",
        "colab_type": "text"
      },
      "source": [
        "## Iterator and Iterable\n",
        "\n",
        "iterable\n",
        "Any object from which the iter built-in function can obtain an iterator. Objects\n",
        "implementing an \\_\\_iter\\_\\_ method returning an iterator are iterable. Sequences are always iterable; as are objects implementing a \\_\\_getitem\\_\\_ method that takes 0-based indexes."
      ]
    },
    {
      "cell_type": "code",
      "metadata": {
        "id": "YfWl1NAYsGvt",
        "colab_type": "code",
        "outputId": "cf2c79b7-7098-45b2-c0a5-20c9eb12bcf6",
        "colab": {
          "base_uri": "https://localhost:8080/",
          "height": 68
        }
      },
      "source": [
        "# If there was no for statement and we had to emulate the for machinery by hand with a while loop, this is what we’d have to write:\n",
        "s = 'ABC'\n",
        "it = iter(s)\n",
        "\n",
        "while True:\n",
        "  try:\n",
        "    print(next(it))\n",
        "  except StopIteration:\n",
        "    del it\n",
        "    break"
      ],
      "execution_count": 0,
      "outputs": [
        {
          "output_type": "stream",
          "text": [
            "A\n",
            "B\n",
            "C\n"
          ],
          "name": "stdout"
        }
      ]
    },
    {
      "cell_type": "markdown",
      "metadata": {
        "id": "x-Pz69asGcaD",
        "colab_type": "text"
      },
      "source": [
        "The standard interface for an iterator has two methods:\n",
        "1. \\_\\_next\\_\\_\n",
        "Returns the next available item, raising StopIteration when there are no more\n",
        "items.\n",
        "\n",
        "2. \\_\\_iter\\_\\_ Returns self; this allows iterators to be used where an iterable is expected, for\n",
        "example, in a for loop."
      ]
    },
    {
      "cell_type": "code",
      "metadata": {
        "id": "ZKTMIDsbGNu6",
        "colab_type": "code",
        "colab": {}
      },
      "source": [
        "# Example 14-3. abc.Iterator class; extracted from Lib/_collections_abc.py\n",
        "class Iterator(Iterable):\n",
        "  \n",
        "  __slots__ = ()\n",
        "  @abstractmethod\n",
        "  def __next__(self):\n",
        "    # 'Return the next item from the iterator. When exhausted, raise StopIteration'\n",
        "    raise StopIteration\n",
        "  \n",
        "  def __iter__(self):\n",
        "    return self\n",
        "  \n",
        "  @classmethod\n",
        "  def __subclasshook__(cls, C): understand\n",
        "    if cls is Iterator:\n",
        "      if (any(\"__next__\" in B.__dict__ for B in C.__mro__) and\n",
        "          any(\"__iter__\" in B.__dict__ for B in C.__mro__)):\n",
        "        return True\n",
        "    return NotImplemented"
      ],
      "execution_count": 0,
      "outputs": []
    },
    {
      "cell_type": "markdown",
      "metadata": {
        "id": "7MlRnqoEKZRM",
        "colab_type": "text"
      },
      "source": [
        "### remark\n",
        "\n",
        "Iterators in Python aren't a matter of type but of protocol. A large and changing number of builtin types implement *some* flavor of\n",
        "iterator. Don't check the type! Use hasattr to check for both \"\\_\\_iter\\_\\_\" and \"\\_\\_next\\_\\_\" attributes instead."
      ]
    },
    {
      "cell_type": "markdown",
      "metadata": {
        "id": "aIbqk3wKKxkb",
        "colab_type": "text"
      },
      "source": [
        "## Best way to check if an object is iterable\n",
        "\n",
        "The best way to check if an\n",
        "object x is an iterator is to call isinstance(x, abc.Iterator).\n",
        "Thanks to Iterator.\\_\\_subclasshook\\_\\_, this test works even if the\n",
        "class of x is not a real or virtual subclass of Iterator."
      ]
    },
    {
      "cell_type": "markdown",
      "metadata": {
        "id": "3UqnPoTiUl25",
        "colab_type": "text"
      },
      "source": [
        "## Sentence Take #2: A Classic Iterator"
      ]
    },
    {
      "cell_type": "code",
      "metadata": {
        "id": "ggbAI0jHKkDL",
        "colab_type": "code",
        "colab": {}
      },
      "source": [
        "# Example 14-4. sentence_iter.py: Sentence implemented using the Iterator pattern\n",
        "import re\n",
        "import reprlib\n",
        "\n",
        "RE_WORD = re.compile('\\w+')\n",
        "\n",
        "class Sentence:\n",
        "  \n",
        "  def __init__(self, text):\n",
        "    self.text = text\n",
        "    self.words = RE_WORD.findall(text)\n",
        "    \n",
        "  def __repr(self):\n",
        "    return f'Sentence({reprlib.repr(self.text)})' # The __iter__ method is the only addition to the previous Sentence\n",
        "                                                  # implementation. This version has no __getitem__, to make it clear that the class\n",
        "                                                  # is iterable because it implements __iter__\n",
        "  \n",
        "  def __iter__(self):\n",
        "    return SentenceIterator(self.words)  # __iter__ fulfills the iterable protocol by instantiating and returning an iterator.\n",
        "  \n",
        "  \n",
        "  class SentenceIterator(self, words):\n",
        "    \n",
        "    def __init__(self, words):\n",
        "      self.words = words\n",
        "      self.index = index\n",
        "      \n",
        "    def __next__(self):\n",
        "      try:\n",
        "        word = self.words[self.index]\n",
        "        except IndexError:\n",
        "          raise StopIteration()\n",
        "        self.index += 1\n",
        "        return word\n",
        "      \n",
        "    def __iter__(self):\n",
        "      return self"
      ],
      "execution_count": 0,
      "outputs": []
    },
    {
      "cell_type": "markdown",
      "metadata": {
        "id": "pEF0KgVCb_js",
        "colab_type": "text"
      },
      "source": [
        "### Remark\n",
        "\n",
        "An iterable should never act as an iterator over itself. In other\n",
        "words, iterables must implement \\_\\_iter\\_\\_, but not \\_\\_next\\_\\_.\n",
        "On the other hand, for convenience, iterators should be iterable.\n",
        "An iterator’s \\_\\_iter\\_\\_ should just return self"
      ]
    },
    {
      "cell_type": "markdown",
      "metadata": {
        "id": "ik_Rb65Kci4F",
        "colab_type": "text"
      },
      "source": [
        "## Sentence Take #3: A Generator Function"
      ]
    },
    {
      "cell_type": "code",
      "metadata": {
        "id": "vRHE9EYUL79o",
        "colab_type": "code",
        "colab": {}
      },
      "source": [
        "#Example 14-5. sentence_gen.py: Sentence implemented using a generator function\n",
        "import re\n",
        "import reprlib\n",
        "\n",
        "RE_WORD = re.compile('\\w+')\n",
        "\n",
        "class Sentence:\n",
        "  \n",
        "  def __init__(self, text):\n",
        "    self.text = text\n",
        "    self.words = RE_WORD.findall(text)\n",
        "    \n",
        "  def __repr__(self):\n",
        "    return f'Sentence(reprlib.repr(self.text))'\n",
        "  \n",
        "  def __iter__(self):\n",
        "    for word in self.words:  # Iterate over self.word\n",
        "      yield word             # yield word \n",
        "    return"
      ],
      "execution_count": 0,
      "outputs": []
    },
    {
      "cell_type": "markdown",
      "metadata": {
        "id": "HWer7TMdd4c_",
        "colab_type": "text"
      },
      "source": [
        "### Remark\n",
        "Back in the Sentence code in Example 14-4, \\_\\_iter\\_\\_ called the SentenceIterator\n",
        "constructor to build an iterator and return it. Now the iterator in Example 14-5 is in\n",
        "fact a generator object, built automatically when the \\_\\_iter\\_\\_ method is called, because\n",
        "\\_\\_iter\\_\\_ here is a generator function."
      ]
    },
    {
      "cell_type": "code",
      "metadata": {
        "id": "zpdT3fizeBot",
        "colab_type": "code",
        "outputId": "7bab4a84-3220-4271-d941-d12d1ec7cba3",
        "colab": {
          "base_uri": "https://localhost:8080/",
          "height": 103
        }
      },
      "source": [
        "def gen_AB():\n",
        "  print('start')\n",
        "  yield 'A'  # yield 'A' in the generator function body produces the value A consumed by\n",
        "             # the for loop, which gets assigned to the c variable and results in the output --> A.\n",
        "    \n",
        "  print('continue')  # Iteration continues with a second call next(g), advancing the generator function\n",
        "                     # body from yield 'A' to yield 'B'. The text continue is output because of the\n",
        "                     # second print in the generator function body.\n",
        "  yield 'B'\n",
        "  print('end')\n",
        "  \n",
        "for c in gen_AB():\n",
        "  print('-->', c)"
      ],
      "execution_count": 0,
      "outputs": [
        {
          "output_type": "stream",
          "text": [
            "start\n",
            "--> A\n",
            "continue\n",
            "--> B\n",
            "end\n"
          ],
          "name": "stdout"
        }
      ]
    },
    {
      "cell_type": "markdown",
      "metadata": {
        "id": "vp18jmXailLS",
        "colab_type": "text"
      },
      "source": [
        "## Another Example: Arithmetic Progression Generator"
      ]
    },
    {
      "cell_type": "code",
      "metadata": {
        "id": "YuzL2E0Rg4Mq",
        "colab_type": "code",
        "colab": {}
      },
      "source": [
        "# Example 14-11 lists the implementation of the ArithmeticProgression class\n",
        "class ArithmeticProgression:\n",
        "  def __init__(self, begin, step, end=None):\n",
        "    self.begin = begin\n",
        "    self.step = step\n",
        "    self.end = end\n",
        "    \n",
        "  def __iter__(self):\n",
        "    result = type(self.begin + self.step)(self.begin) # This line produces a result value equal to self.begin, but coerced to the type of the subsequent additions.\n",
        "    forever = self.end is None  # For readability, the forever flag will be True if the self.end attribute is None, resulting in an unbounded series.\n",
        "    index = 0\n",
        "    while forever or result < self.end:  # This loop runs forever or until the result matches or exceeds self.end. When this loop exits, so does the function\n",
        "      yield result  # The current result is produced.\n",
        "      index += 1\n",
        "      result = self.begin + self.step * index   # The next potential result is calculated. It may never be yielded, because the while loop may terminate"
      ],
      "execution_count": 0,
      "outputs": []
    },
    {
      "cell_type": "code",
      "metadata": {
        "id": "hNNKF6CrfgPC",
        "colab_type": "code",
        "colab": {
          "base_uri": "https://localhost:8080/",
          "height": 34
        },
        "outputId": "b6929e58-02fd-4329-a3f2-84553e829c52"
      },
      "source": [
        "ap = ArithmeticProgression(0, 1, 3)\n",
        "list(ap)"
      ],
      "execution_count": 3,
      "outputs": [
        {
          "output_type": "execute_result",
          "data": {
            "text/plain": [
              "[0, 1, 2]"
            ]
          },
          "metadata": {
            "tags": []
          },
          "execution_count": 3
        }
      ]
    },
    {
      "cell_type": "code",
      "metadata": {
        "id": "ls_o7HxZfmmV",
        "colab_type": "code",
        "colab": {
          "base_uri": "https://localhost:8080/",
          "height": 34
        },
        "outputId": "74f50162-02af-465f-e164-785ee1c581c5"
      },
      "source": [
        "ap = ArithmeticProgression(1, 0.5, 3)\n",
        "list(ap)"
      ],
      "execution_count": 4,
      "outputs": [
        {
          "output_type": "execute_result",
          "data": {
            "text/plain": [
              "[1.0, 1.5, 2.0, 2.5]"
            ]
          },
          "metadata": {
            "tags": []
          },
          "execution_count": 4
        }
      ]
    },
    {
      "cell_type": "code",
      "metadata": {
        "id": "UnZacQoJfmuo",
        "colab_type": "code",
        "colab": {
          "base_uri": "https://localhost:8080/",
          "height": 34
        },
        "outputId": "be5c8244-eaaa-4eb7-ae08-3adfe79c8316"
      },
      "source": [
        "ap = ArithmeticProgression(0, 1/3, 1)\n",
        "list(ap)"
      ],
      "execution_count": 5,
      "outputs": [
        {
          "output_type": "execute_result",
          "data": {
            "text/plain": [
              "[0.0, 0.3333333333333333, 0.6666666666666666]"
            ]
          },
          "metadata": {
            "tags": []
          },
          "execution_count": 5
        }
      ]
    },
    {
      "cell_type": "code",
      "metadata": {
        "id": "BpYci6L1fmy6",
        "colab_type": "code",
        "colab": {
          "base_uri": "https://localhost:8080/",
          "height": 34
        },
        "outputId": "02c6f058-c80c-4eef-dc05-1191bcc52b6f"
      },
      "source": [
        "# Example 14-12. The aritprog_gen generator function\n",
        "def aritprog_gen(begin, step, end=None):\n",
        "  result = type(begin + step)(begin)\n",
        "  forever = end is None\n",
        "  while forever or result < end:\n",
        "    yield result\n",
        "    index += 1\n",
        "    result = begin + step * index\n",
        "    \n",
        "type(1+ 3)(1)"
      ],
      "execution_count": 11,
      "outputs": [
        {
          "output_type": "execute_result",
          "data": {
            "text/plain": [
              "1"
            ]
          },
          "metadata": {
            "tags": []
          },
          "execution_count": 11
        }
      ]
    },
    {
      "cell_type": "markdown",
      "metadata": {
        "id": "XMG0OkVDi10r",
        "colab_type": "text"
      },
      "source": [
        "### Arithmetic Progression with itertools\n",
        "The itertools module in Python 3.4 has 19 generator functions that can be combined\n",
        "in a variety of interesting ways.\n",
        "For example, the itertools.count function returns a generator that produces numbers.\n",
        "Without arguments, it produces a series of integers starting with 0. But you can provide\n",
        "optional start and step values to achieve a result very similar to our aritprog_gen\n",
        "functions."
      ]
    },
    {
      "cell_type": "code",
      "metadata": {
        "id": "yBDoLcgti88j",
        "colab_type": "code",
        "colab": {
          "base_uri": "https://localhost:8080/",
          "height": 34
        },
        "outputId": "b4d981d0-7ee4-41d5-92d7-6f8e56683e35"
      },
      "source": [
        "import itertools\n",
        "gen = itertools.count(1, .2)\n",
        "type(gen)"
      ],
      "execution_count": 13,
      "outputs": [
        {
          "output_type": "execute_result",
          "data": {
            "text/plain": [
              "itertools.count"
            ]
          },
          "metadata": {
            "tags": []
          },
          "execution_count": 13
        }
      ]
    },
    {
      "cell_type": "code",
      "metadata": {
        "id": "4RqoD4JwkF6Z",
        "colab_type": "code",
        "colab": {
          "base_uri": "https://localhost:8080/",
          "height": 34
        },
        "outputId": "ea5fb733-3213-4df0-9149-b288b6371376"
      },
      "source": [
        "next(gen)"
      ],
      "execution_count": 14,
      "outputs": [
        {
          "output_type": "execute_result",
          "data": {
            "text/plain": [
              "1"
            ]
          },
          "metadata": {
            "tags": []
          },
          "execution_count": 14
        }
      ]
    },
    {
      "cell_type": "code",
      "metadata": {
        "id": "d1jsgSmNkIu4",
        "colab_type": "code",
        "colab": {
          "base_uri": "https://localhost:8080/",
          "height": 34
        },
        "outputId": "7b4927dd-93c9-4f3f-f996-522d8dd29f17"
      },
      "source": [
        "next(gen)"
      ],
      "execution_count": 15,
      "outputs": [
        {
          "output_type": "execute_result",
          "data": {
            "text/plain": [
              "1.2"
            ]
          },
          "metadata": {
            "tags": []
          },
          "execution_count": 15
        }
      ]
    },
    {
      "cell_type": "code",
      "metadata": {
        "id": "TooB76dTkLqI",
        "colab_type": "code",
        "colab": {
          "base_uri": "https://localhost:8080/",
          "height": 34
        },
        "outputId": "8ac97898-a02b-4047-df0b-fb3b5b6ab911"
      },
      "source": [
        "next(gen)"
      ],
      "execution_count": 16,
      "outputs": [
        {
          "output_type": "execute_result",
          "data": {
            "text/plain": [
              "1.4"
            ]
          },
          "metadata": {
            "tags": []
          },
          "execution_count": 16
        }
      ]
    },
    {
      "cell_type": "code",
      "metadata": {
        "id": "WZgzucYAkTZa",
        "colab_type": "code",
        "colab": {}
      },
      "source": [
        "# Example 14-13. aritprog_v3.py: this works like the previous aritprog_gen functions\n",
        "def aritprog_gen(begin, step, end=None):\n",
        "  first = type(begin + step)(begin)\n",
        "  ap_gen = itertools.count(first, step)\n",
        "  if end is not None:\n",
        "    ap_gen = itertools.takewhile(lambda n: n < end, ap_gen)\n",
        "  return ap_gen\n",
        "    "
      ],
      "execution_count": 0,
      "outputs": []
    },
    {
      "cell_type": "markdown",
      "metadata": {
        "id": "j-QBElEwnSrT",
        "colab_type": "text"
      },
      "source": [
        "### Remark\n",
        "The point of Example 14-13 is: when implementing generators, know what is available\n",
        "in the standard library, otherwise there’s a good chance you’ll reinvent the wheel."
      ]
    },
    {
      "cell_type": "markdown",
      "metadata": {
        "id": "10s16YIrnyrb",
        "colab_type": "text"
      },
      "source": [
        "### Filtering generator functions\n",
        "1. itertools.compress(it, selector_it): Consumes two iterables in parallel; yields items from it whenever the corresponding item in selector_it is truthy\n",
        "2. itertools.dropwhile(predicate, it): Consumes it skipping items while predicate computes truthy, then yields every remaining item (no further checks are made)\n",
        "3. (built-in) filter(predicate,it): Applies predicate to each item of iterable, yielding the item if predicate(item) is truthy; if predicate is None, only truthy items are yielded\n",
        "4. itertools.filterfalse(predicate, it): Same as filter, with the predicate logic negated: yields items whenever predicate computes falsy\n",
        "5. itertools.islice(it, stop) or islice(it,start, stop,step=1): Yields items from a slice of it, similar to s[:stop] or s[start:stop:step] except it can be any iterable, and the operation is lazy\n",
        "6. itertools.takewhile(predicate, it): Yields items while predicate computes truthy, then stops and no further checks are made"
      ]
    },
    {
      "cell_type": "code",
      "metadata": {
        "id": "21BsrBxInDob",
        "colab_type": "code",
        "colab": {}
      },
      "source": [
        "# Example 14-14. Filtering generator functions examples\n",
        "def vowel(c):\n",
        "  return c.lower() in 'aeiou'"
      ],
      "execution_count": 0,
      "outputs": []
    },
    {
      "cell_type": "code",
      "metadata": {
        "id": "EGIIDn_npnyJ",
        "colab_type": "code",
        "colab": {
          "base_uri": "https://localhost:8080/",
          "height": 34
        },
        "outputId": "2ea72724-cc33-4b76-80cb-81933cf704c1"
      },
      "source": [
        "list(filter(vowel, 'Farshid'))\n"
      ],
      "execution_count": 26,
      "outputs": [
        {
          "output_type": "execute_result",
          "data": {
            "text/plain": [
              "['a', 'i']"
            ]
          },
          "metadata": {
            "tags": []
          },
          "execution_count": 26
        }
      ]
    },
    {
      "cell_type": "code",
      "metadata": {
        "id": "Xeasq5i6p1zE",
        "colab_type": "code",
        "colab": {
          "base_uri": "https://localhost:8080/",
          "height": 34
        },
        "outputId": "ab59dffd-60f4-491e-e756-862d232f54d9"
      },
      "source": [
        "import itertools\n",
        "list(itertools.filterfalse(vowel, 'Farshid'))"
      ],
      "execution_count": 27,
      "outputs": [
        {
          "output_type": "execute_result",
          "data": {
            "text/plain": [
              "['F', 'r', 's', 'h', 'd']"
            ]
          },
          "metadata": {
            "tags": []
          },
          "execution_count": 27
        }
      ]
    },
    {
      "cell_type": "code",
      "metadata": {
        "id": "6Q6SyPcop2hZ",
        "colab_type": "code",
        "colab": {
          "base_uri": "https://localhost:8080/",
          "height": 34
        },
        "outputId": "1ddc98c5-f4f8-4ba4-face-837d321911bd"
      },
      "source": [
        "list(itertools.dropwhile(vowel, 'Aardvark'))"
      ],
      "execution_count": 33,
      "outputs": [
        {
          "output_type": "execute_result",
          "data": {
            "text/plain": [
              "['r', 'd', 'v', 'a', 'r', 'k']"
            ]
          },
          "metadata": {
            "tags": []
          },
          "execution_count": 33
        }
      ]
    },
    {
      "cell_type": "code",
      "metadata": {
        "id": "gDUiYyoSp2oE",
        "colab_type": "code",
        "colab": {
          "base_uri": "https://localhost:8080/",
          "height": 34
        },
        "outputId": "ccca9f55-8528-4517-c03c-c1173681d364"
      },
      "source": [
        "list(itertools.takewhile(vowel, 'Faaarsaahid'))"
      ],
      "execution_count": 37,
      "outputs": [
        {
          "output_type": "execute_result",
          "data": {
            "text/plain": [
              "[]"
            ]
          },
          "metadata": {
            "tags": []
          },
          "execution_count": 37
        }
      ]
    },
    {
      "cell_type": "code",
      "metadata": {
        "id": "P0JGNPB0p2uK",
        "colab_type": "code",
        "colab": {
          "base_uri": "https://localhost:8080/",
          "height": 34
        },
        "outputId": "278e523b-1391-411d-90c3-5ddfe443cb26"
      },
      "source": [
        "list(itertools.compress('Aardvark', (1, 0, 1, 1, 0, 1)))"
      ],
      "execution_count": 38,
      "outputs": [
        {
          "output_type": "execute_result",
          "data": {
            "text/plain": [
              "['A', 'r', 'd', 'a']"
            ]
          },
          "metadata": {
            "tags": []
          },
          "execution_count": 38
        }
      ]
    },
    {
      "cell_type": "code",
      "metadata": {
        "id": "nyUlrbPstxgG",
        "colab_type": "code",
        "colab": {
          "base_uri": "https://localhost:8080/",
          "height": 34
        },
        "outputId": "3a9e0fa1-b536-46f4-fde6-30f45cfb4870"
      },
      "source": [
        "list(itertools.islice('Aardvark', 4))"
      ],
      "execution_count": 39,
      "outputs": [
        {
          "output_type": "execute_result",
          "data": {
            "text/plain": [
              "['A', 'a', 'r', 'd']"
            ]
          },
          "metadata": {
            "tags": []
          },
          "execution_count": 39
        }
      ]
    },
    {
      "cell_type": "code",
      "metadata": {
        "id": "ZFuhDBa0uJMj",
        "colab_type": "code",
        "colab": {
          "base_uri": "https://localhost:8080/",
          "height": 34
        },
        "outputId": "f2a3a32e-f09c-4847-f3f3-8fc94a7c463d"
      },
      "source": [
        "list(itertools.islice('Aardvark', 4, 7))"
      ],
      "execution_count": 40,
      "outputs": [
        {
          "output_type": "execute_result",
          "data": {
            "text/plain": [
              "['v', 'a', 'r']"
            ]
          },
          "metadata": {
            "tags": []
          },
          "execution_count": 40
        }
      ]
    },
    {
      "cell_type": "code",
      "metadata": {
        "id": "CQoP_efouXJ4",
        "colab_type": "code",
        "colab": {
          "base_uri": "https://localhost:8080/",
          "height": 34
        },
        "outputId": "233a8c99-8aad-4fad-ddcc-ef8d4ade0490"
      },
      "source": [
        "list(itertools.islice('Aardvark', 1, 7, 2))"
      ],
      "execution_count": 41,
      "outputs": [
        {
          "output_type": "execute_result",
          "data": {
            "text/plain": [
              "['a', 'd', 'a']"
            ]
          },
          "metadata": {
            "tags": []
          },
          "execution_count": 41
        }
      ]
    },
    {
      "cell_type": "markdown",
      "metadata": {
        "id": "HxbuXGF1vsgL",
        "colab_type": "text"
      },
      "source": [
        "### Mapping Generator Functions\n",
        "\n",
        "1. itertools accumulate(it,\n",
        "[func])\n",
        "Yields accumulated sums; if func is provided, yields the result of applying it to the\n",
        "first pair of items, then to the first result and next item, etc.\n",
        "2. (built-in) enumerate(itera\n",
        "ble, start=0)\n",
        "Yields 2-tuples of the form (index, item), where index is counted from\n",
        "start, and item is taken from the iterable\n",
        "3. (built-in) map(func, it1,\n",
        "[it2, …, itN])\n",
        "Applies func to each item of it, yielding the result; if N iterables are given, func\n",
        "must take N arguments and the iterables will be consumed in parallel\n",
        "4. itertools starmap(func, it) Applies func to each item of it, yielding the result; the input iterable should yield\n",
        "iterable items iit, and func is applied as func(*iit)"
      ]
    },
    {
      "cell_type": "code",
      "metadata": {
        "id": "2Y1KylaywGNt",
        "colab_type": "code",
        "colab": {
          "base_uri": "https://localhost:8080/",
          "height": 34
        },
        "outputId": "3ff458e8-7fba-48e9-9d95-ec1af029a5ab"
      },
      "source": [
        "### Example 14-15. itertools.accumulate generator function examples\n",
        "import itertools\n",
        "sample = [5, 4, 2, 8, 7, 6, 3, 0, 9, 1]\n",
        "list(itertools.accumulate(sample))"
      ],
      "execution_count": 42,
      "outputs": [
        {
          "output_type": "execute_result",
          "data": {
            "text/plain": [
              "[5, 9, 11, 19, 26, 32, 35, 35, 44, 45]"
            ]
          },
          "metadata": {
            "tags": []
          },
          "execution_count": 42
        }
      ]
    },
    {
      "cell_type": "code",
      "metadata": {
        "id": "4VJ2JjlOw8TV",
        "colab_type": "code",
        "colab": {
          "base_uri": "https://localhost:8080/",
          "height": 34
        },
        "outputId": "88511ac9-9411-4279-cb11-83f7a5a6fd1e"
      },
      "source": [
        "list(itertools.accumulate(sample, min))"
      ],
      "execution_count": 43,
      "outputs": [
        {
          "output_type": "execute_result",
          "data": {
            "text/plain": [
              "[5, 4, 2, 2, 2, 2, 2, 0, 0, 0]"
            ]
          },
          "metadata": {
            "tags": []
          },
          "execution_count": 43
        }
      ]
    },
    {
      "cell_type": "code",
      "metadata": {
        "id": "zi7n8ywrxFiX",
        "colab_type": "code",
        "colab": {
          "base_uri": "https://localhost:8080/",
          "height": 34
        },
        "outputId": "742976f7-5089-46cc-82b1-411d8d954d78"
      },
      "source": [
        "list(itertools.accumulate(sample, max))"
      ],
      "execution_count": 44,
      "outputs": [
        {
          "output_type": "execute_result",
          "data": {
            "text/plain": [
              "[5, 5, 5, 8, 8, 8, 8, 8, 9, 9]"
            ]
          },
          "metadata": {
            "tags": []
          },
          "execution_count": 44
        }
      ]
    },
    {
      "cell_type": "code",
      "metadata": {
        "id": "m1D5a-gbxQUY",
        "colab_type": "code",
        "colab": {
          "base_uri": "https://localhost:8080/",
          "height": 34
        },
        "outputId": "5da4e681-f823-4b37-e5fe-492c11ecc30d"
      },
      "source": [
        "import operator\n",
        "list(itertools.accumulate(sample, operator.mul))"
      ],
      "execution_count": 45,
      "outputs": [
        {
          "output_type": "execute_result",
          "data": {
            "text/plain": [
              "[5, 20, 40, 320, 2240, 13440, 40320, 0, 0, 0]"
            ]
          },
          "metadata": {
            "tags": []
          },
          "execution_count": 45
        }
      ]
    },
    {
      "cell_type": "code",
      "metadata": {
        "id": "7fmTxMDYxd6B",
        "colab_type": "code",
        "colab": {
          "base_uri": "https://localhost:8080/",
          "height": 34
        },
        "outputId": "5f1e9420-121d-444e-9e98-7983deb46faf"
      },
      "source": [
        "list(itertools.accumulate(range(1, 11), operator.add))"
      ],
      "execution_count": 48,
      "outputs": [
        {
          "output_type": "execute_result",
          "data": {
            "text/plain": [
              "[1, 3, 6, 10, 15, 21, 28, 36, 45, 55]"
            ]
          },
          "metadata": {
            "tags": []
          },
          "execution_count": 48
        }
      ]
    },
    {
      "cell_type": "code",
      "metadata": {
        "id": "xRnXJCWbyGwr",
        "colab_type": "code",
        "colab": {
          "base_uri": "https://localhost:8080/",
          "height": 291
        },
        "outputId": "01631c74-7b87-48fa-ea6d-a9037a1f2dfb"
      },
      "source": [
        "list(itertools.starmap(operator.mul, enumerate('Farshid Balaneji', 1)))"
      ],
      "execution_count": 49,
      "outputs": [
        {
          "output_type": "execute_result",
          "data": {
            "text/plain": [
              "['F',\n",
              " 'aa',\n",
              " 'rrr',\n",
              " 'ssss',\n",
              " 'hhhhh',\n",
              " 'iiiiii',\n",
              " 'ddddddd',\n",
              " '        ',\n",
              " 'BBBBBBBBB',\n",
              " 'aaaaaaaaaa',\n",
              " 'lllllllllll',\n",
              " 'aaaaaaaaaaaa',\n",
              " 'nnnnnnnnnnnnn',\n",
              " 'eeeeeeeeeeeeee',\n",
              " 'jjjjjjjjjjjjjjj',\n",
              " 'iiiiiiiiiiiiiiii']"
            ]
          },
          "metadata": {
            "tags": []
          },
          "execution_count": 49
        }
      ]
    },
    {
      "cell_type": "code",
      "metadata": {
        "id": "MJ7WKMe-zW0c",
        "colab_type": "code",
        "colab": {
          "base_uri": "https://localhost:8080/",
          "height": 188
        },
        "outputId": "9cc7720a-2a77-42f3-8ecf-1757c36a97e7"
      },
      "source": [
        "sample = [5, 4, 2, 8, 7, 6, 3, 0, 9, 1]\n",
        "\n",
        "list(itertools.starmap(lambda a, b: b/a, enumerate(itertools.accumulate(sample), 1)))"
      ],
      "execution_count": 50,
      "outputs": [
        {
          "output_type": "execute_result",
          "data": {
            "text/plain": [
              "[5.0,\n",
              " 4.5,\n",
              " 3.6666666666666665,\n",
              " 4.75,\n",
              " 5.2,\n",
              " 5.333333333333333,\n",
              " 5.0,\n",
              " 4.375,\n",
              " 4.888888888888889,\n",
              " 4.5]"
            ]
          },
          "metadata": {
            "tags": []
          },
          "execution_count": 50
        }
      ]
    },
    {
      "cell_type": "code",
      "metadata": {
        "id": "OuB1h_1vzzNw",
        "colab_type": "code",
        "colab": {
          "base_uri": "https://localhost:8080/",
          "height": 188
        },
        "outputId": "f1018c93-b115-472e-ebf7-5746589b6478"
      },
      "source": [
        "for a, b in enumerate(itertools.accumulate(sample), 1):\n",
        "  print(a, b)"
      ],
      "execution_count": 52,
      "outputs": [
        {
          "output_type": "stream",
          "text": [
            "1 5\n",
            "2 9\n",
            "3 11\n",
            "4 19\n",
            "5 26\n",
            "6 32\n",
            "7 35\n",
            "8 35\n",
            "9 44\n",
            "10 45\n"
          ],
          "name": "stdout"
        }
      ]
    },
    {
      "cell_type": "markdown",
      "metadata": {
        "id": "m_Iv9TQnGZGm",
        "colab_type": "text"
      },
      "source": [
        "### Generator functions that merge multiple input iterables\n",
        "\n",
        "1. itertools chain(it1, …, itN) Yield all items from it1, then from it2 etc., seamlessly\n",
        "2. itertools chain.from_iterable(it) Yield all items from each iterable produced by it, one after the other,\n",
        "seamlessly; it should yield iterable items, for example, a list of iterables\n",
        "3. itertools product(it1, …, itN, re\n",
        "peat=1)\n",
        "Cartesian product: yields N-tuples made by combining items from each\n",
        "input iterable like nested for loops could produce; repeat allows the\n",
        "input iterables to be consumed more than once\n",
        "4. (built-in) zip(it1, …, itN) Yields N-tuples built from items taken from the iterables in parallel, silently\n",
        "stopping when the first iterable is exhausted\n",
        "5. itertools zip_longest(it1, …,\n",
        "itN, fillvalue=None)\n",
        "Yields N-tuples built from items taken from the iterables in parallel,\n",
        "stopping only when the last iterable is exhausted, filling the blanks with\n",
        "the fillvalue"
      ]
    },
    {
      "cell_type": "code",
      "metadata": {
        "id": "PL3_Nh14GDFq",
        "colab_type": "code",
        "colab": {
          "base_uri": "https://localhost:8080/",
          "height": 34
        },
        "outputId": "4ce9881d-44e4-42b2-bc4f-1382602af189"
      },
      "source": [
        "list(itertools.chain('ABC', range(4), range(3)))"
      ],
      "execution_count": 57,
      "outputs": [
        {
          "output_type": "execute_result",
          "data": {
            "text/plain": [
              "['A', 'B', 'C', 0, 1, 2, 3, 0, 1, 2]"
            ]
          },
          "metadata": {
            "tags": []
          },
          "execution_count": 57
        }
      ]
    },
    {
      "cell_type": "code",
      "metadata": {
        "id": "eAikoYtkHjWS",
        "colab_type": "code",
        "colab": {
          "base_uri": "https://localhost:8080/",
          "height": 34
        },
        "outputId": "d44cf375-aed6-4d11-fc99-dbdc8d118d06"
      },
      "source": [
        "list(itertools.chain(enumerate('ABC')))"
      ],
      "execution_count": 58,
      "outputs": [
        {
          "output_type": "execute_result",
          "data": {
            "text/plain": [
              "[(0, 'A'), (1, 'B'), (2, 'C')]"
            ]
          },
          "metadata": {
            "tags": []
          },
          "execution_count": 58
        }
      ]
    },
    {
      "cell_type": "code",
      "metadata": {
        "id": "92y_-oWwHpVu",
        "colab_type": "code",
        "colab": {
          "base_uri": "https://localhost:8080/",
          "height": 34
        },
        "outputId": "01d3bbd7-8ed1-48f4-e262-8b04d6395c12"
      },
      "source": [
        "list(enumerate('ABC'))"
      ],
      "execution_count": 59,
      "outputs": [
        {
          "output_type": "execute_result",
          "data": {
            "text/plain": [
              "[(0, 'A'), (1, 'B'), (2, 'C')]"
            ]
          },
          "metadata": {
            "tags": []
          },
          "execution_count": 59
        }
      ]
    },
    {
      "cell_type": "code",
      "metadata": {
        "id": "t3ifq5q7HvBw",
        "colab_type": "code",
        "colab": {
          "base_uri": "https://localhost:8080/",
          "height": 34
        },
        "outputId": "a53d1dcf-b566-4c95-a731-5eae38f9aaec"
      },
      "source": [
        "list(itertools.chain.from_iterable(enumerate('ABC')))"
      ],
      "execution_count": 60,
      "outputs": [
        {
          "output_type": "execute_result",
          "data": {
            "text/plain": [
              "[0, 'A', 1, 'B', 2, 'C']"
            ]
          },
          "metadata": {
            "tags": []
          },
          "execution_count": 60
        }
      ]
    },
    {
      "cell_type": "code",
      "metadata": {
        "id": "tC4EFBPgHvFP",
        "colab_type": "code",
        "colab": {
          "base_uri": "https://localhost:8080/",
          "height": 34
        },
        "outputId": "22286b58-0bc6-47a5-dfa7-f86c93cd4baf"
      },
      "source": [
        "list(zip('ABC', range(4)))"
      ],
      "execution_count": 66,
      "outputs": [
        {
          "output_type": "execute_result",
          "data": {
            "text/plain": [
              "[('A', 0), ('B', 1), ('C', 2)]"
            ]
          },
          "metadata": {
            "tags": []
          },
          "execution_count": 66
        }
      ]
    },
    {
      "cell_type": "code",
      "metadata": {
        "id": "_Gg7EDpDIOSF",
        "colab_type": "code",
        "colab": {
          "base_uri": "https://localhost:8080/",
          "height": 34
        },
        "outputId": "559b490b-05c7-4f23-ba7c-23e88d1cc9b2"
      },
      "source": [
        "list(itertools.zip_longest('ABC', range(5), fillvalue='no_val'))"
      ],
      "execution_count": 68,
      "outputs": [
        {
          "output_type": "execute_result",
          "data": {
            "text/plain": [
              "[('A', 0), ('B', 1), ('C', 2), ('no_val', 3), ('no_val', 4)]"
            ]
          },
          "metadata": {
            "tags": []
          },
          "execution_count": 68
        }
      ]
    },
    {
      "cell_type": "code",
      "metadata": {
        "id": "tImyIW02IwU_",
        "colab_type": "code",
        "colab": {
          "base_uri": "https://localhost:8080/",
          "height": 34
        },
        "outputId": "e062897f-1caa-4858-de5e-589e914c31e8"
      },
      "source": [
        "list(itertools.product('ABC', range(2)))"
      ],
      "execution_count": 69,
      "outputs": [
        {
          "output_type": "execute_result",
          "data": {
            "text/plain": [
              "[('A', 0), ('A', 1), ('B', 0), ('B', 1), ('C', 0), ('C', 1)]"
            ]
          },
          "metadata": {
            "tags": []
          },
          "execution_count": 69
        }
      ]
    },
    {
      "cell_type": "code",
      "metadata": {
        "id": "9dkePNUNIwYm",
        "colab_type": "code",
        "colab": {
          "base_uri": "https://localhost:8080/",
          "height": 291
        },
        "outputId": "6e08f12e-6fec-43e6-d4c5-69e9b022ac3a"
      },
      "source": [
        "suits = 'spades hearts diamonds clubs'.split()\n",
        "list(itertools.product('JQKA', suits))"
      ],
      "execution_count": 73,
      "outputs": [
        {
          "output_type": "execute_result",
          "data": {
            "text/plain": [
              "[('J', 'spades'),\n",
              " ('J', 'hearts'),\n",
              " ('J', 'diamonds'),\n",
              " ('J', 'clubs'),\n",
              " ('Q', 'spades'),\n",
              " ('Q', 'hearts'),\n",
              " ('Q', 'diamonds'),\n",
              " ('Q', 'clubs'),\n",
              " ('K', 'spades'),\n",
              " ('K', 'hearts'),\n",
              " ('K', 'diamonds'),\n",
              " ('K', 'clubs'),\n",
              " ('A', 'spades'),\n",
              " ('A', 'hearts'),\n",
              " ('A', 'diamonds'),\n",
              " ('A', 'clubs')]"
            ]
          },
          "metadata": {
            "tags": []
          },
          "execution_count": 73
        }
      ]
    },
    {
      "cell_type": "code",
      "metadata": {
        "id": "UNSJqwrhIwcB",
        "colab_type": "code",
        "colab": {
          "base_uri": "https://localhost:8080/",
          "height": 171
        },
        "outputId": "b0e790c7-066c-4074-9e5b-3669b4b0b5af"
      },
      "source": [
        "list(itertools.product('ABC', repeat=2))"
      ],
      "execution_count": 74,
      "outputs": [
        {
          "output_type": "execute_result",
          "data": {
            "text/plain": [
              "[('A', 'A'),\n",
              " ('A', 'B'),\n",
              " ('A', 'C'),\n",
              " ('B', 'A'),\n",
              " ('B', 'B'),\n",
              " ('B', 'C'),\n",
              " ('C', 'A'),\n",
              " ('C', 'B'),\n",
              " ('C', 'C')]"
            ]
          },
          "metadata": {
            "tags": []
          },
          "execution_count": 74
        }
      ]
    },
    {
      "cell_type": "markdown",
      "metadata": {
        "id": "OmAIpchmKC6a",
        "colab_type": "text"
      },
      "source": [
        "### Generator functions that expand each input item into multiple output items\n",
        "\n",
        "1. itertools combinations(it,\n",
        "out_len)\n",
        "Yield combinations of out_len items from the items yielded by it\n",
        "2. itertools combinations_with_re\n",
        "placement(it, out_len)\n",
        "Yield combinations of out_len items from the items yielded by it,\n",
        "including combinations with repeated items\n",
        "3. itertools count(start=0, step=1) Yields numbers starting at start, incremented by step, indefinitely\n",
        "4. itertools cycle(it) Yields items from it storing a copy of each, then yields the entire\n",
        "sequence repeatedly, indefinitely\n",
        "5. itertools permutations(it,\n",
        "out_len=None)\n",
        "Yield permutations of out_len items from the items yielded by it;\n",
        "by default, out_len is len(list(it))\n",
        "6. itertools repeat(item, [times]) Yield the given item repeadedly, indefinetly unless a number of times\n",
        "is given"
      ]
    },
    {
      "cell_type": "code",
      "metadata": {
        "id": "eplmzDoYJj_F",
        "colab_type": "code",
        "colab": {}
      },
      "source": [
        "import itertools\n",
        "import operator \n",
        "\n",
        "ct = itertools.count()"
      ],
      "execution_count": 0,
      "outputs": []
    },
    {
      "cell_type": "code",
      "metadata": {
        "id": "gQ-hSoNyJlCA",
        "colab_type": "code",
        "colab": {
          "base_uri": "https://localhost:8080/",
          "height": 34
        },
        "outputId": "39420654-f5aa-4017-cdfb-f02a7a143e93"
      },
      "source": [
        "next(ct)"
      ],
      "execution_count": 3,
      "outputs": [
        {
          "output_type": "execute_result",
          "data": {
            "text/plain": [
              "0"
            ]
          },
          "metadata": {
            "tags": []
          },
          "execution_count": 3
        }
      ]
    },
    {
      "cell_type": "code",
      "metadata": {
        "id": "m8gC9J-AJlIq",
        "colab_type": "code",
        "colab": {
          "base_uri": "https://localhost:8080/",
          "height": 34
        },
        "outputId": "c72eeb27-8648-4507-fa65-cde4c752a677"
      },
      "source": [
        "next(ct), next(ct), next(ct)"
      ],
      "execution_count": 4,
      "outputs": [
        {
          "output_type": "execute_result",
          "data": {
            "text/plain": [
              "(1, 2, 3)"
            ]
          },
          "metadata": {
            "tags": []
          },
          "execution_count": 4
        }
      ]
    },
    {
      "cell_type": "code",
      "metadata": {
        "id": "O1E_ZCeCPTB7",
        "colab_type": "code",
        "colab": {
          "base_uri": "https://localhost:8080/",
          "height": 34
        },
        "outputId": "fba74712-578d-4800-cf91-0ca8c755a7f2"
      },
      "source": [
        "list(itertools.islice(itertools.count(1, .3), 3))"
      ],
      "execution_count": 5,
      "outputs": [
        {
          "output_type": "execute_result",
          "data": {
            "text/plain": [
              "[1, 1.3, 1.6]"
            ]
          },
          "metadata": {
            "tags": []
          },
          "execution_count": 5
        }
      ]
    },
    {
      "cell_type": "code",
      "metadata": {
        "id": "hndPE8ymPvlp",
        "colab_type": "code",
        "colab": {}
      },
      "source": [
        "cy = itertools.cycle('ABC')"
      ],
      "execution_count": 0,
      "outputs": []
    },
    {
      "cell_type": "code",
      "metadata": {
        "id": "wINKCitgPTFp",
        "colab_type": "code",
        "colab": {
          "base_uri": "https://localhost:8080/",
          "height": 34
        },
        "outputId": "36f11b3a-d845-4550-e619-ba6e8bd0fb74"
      },
      "source": [
        "next(cy)"
      ],
      "execution_count": 7,
      "outputs": [
        {
          "output_type": "execute_result",
          "data": {
            "text/plain": [
              "'A'"
            ]
          },
          "metadata": {
            "tags": []
          },
          "execution_count": 7
        }
      ]
    },
    {
      "cell_type": "code",
      "metadata": {
        "id": "DTvGy4B_P8J7",
        "colab_type": "code",
        "colab": {
          "base_uri": "https://localhost:8080/",
          "height": 34
        },
        "outputId": "15b3fe3a-6068-4dea-a5e1-0e1f308972c9"
      },
      "source": [
        "list(itertools.islice(cy, 7))"
      ],
      "execution_count": 8,
      "outputs": [
        {
          "output_type": "execute_result",
          "data": {
            "text/plain": [
              "['B', 'C', 'A', 'B', 'C', 'A', 'B']"
            ]
          },
          "metadata": {
            "tags": []
          },
          "execution_count": 8
        }
      ]
    },
    {
      "cell_type": "code",
      "metadata": {
        "id": "g3eThOH6Q0CE",
        "colab_type": "code",
        "colab": {}
      },
      "source": [
        "rp = itertools.repeat(7)\n"
      ],
      "execution_count": 0,
      "outputs": []
    },
    {
      "cell_type": "code",
      "metadata": {
        "id": "l-DiRbWURCRm",
        "colab_type": "code",
        "colab": {
          "base_uri": "https://localhost:8080/",
          "height": 34
        },
        "outputId": "2ad1f2b7-c6d3-4e86-d326-0c30fb844a41"
      },
      "source": [
        "next(rp), next(rp), next(rp)"
      ],
      "execution_count": 10,
      "outputs": [
        {
          "output_type": "execute_result",
          "data": {
            "text/plain": [
              "(7, 7, 7)"
            ]
          },
          "metadata": {
            "tags": []
          },
          "execution_count": 10
        }
      ]
    },
    {
      "cell_type": "code",
      "metadata": {
        "id": "AIe77zDjRH7o",
        "colab_type": "code",
        "colab": {
          "base_uri": "https://localhost:8080/",
          "height": 34
        },
        "outputId": "c6c9af82-d6e1-4c63-d763-ba9f5899a715"
      },
      "source": [
        "list(itertools.repeat(8, 4))"
      ],
      "execution_count": 11,
      "outputs": [
        {
          "output_type": "execute_result",
          "data": {
            "text/plain": [
              "[8, 8, 8, 8]"
            ]
          },
          "metadata": {
            "tags": []
          },
          "execution_count": 11
        }
      ]
    },
    {
      "cell_type": "code",
      "metadata": {
        "id": "z3tS_qnLRH_t",
        "colab_type": "code",
        "colab": {
          "base_uri": "https://localhost:8080/",
          "height": 34
        },
        "outputId": "cd847fa3-6183-4f67-8840-8152691e58c9"
      },
      "source": [
        "list(map(operator.mul, range(11),  itertools.repeat(5)))"
      ],
      "execution_count": 19,
      "outputs": [
        {
          "output_type": "execute_result",
          "data": {
            "text/plain": [
              "[0, 5, 10, 15, 20, 25, 30, 35, 40, 45, 50]"
            ]
          },
          "metadata": {
            "tags": []
          },
          "execution_count": 19
        }
      ]
    },
    {
      "cell_type": "code",
      "metadata": {
        "id": "7Ln1TFxJRcks",
        "colab_type": "code",
        "colab": {
          "base_uri": "https://localhost:8080/",
          "height": 377
        },
        "outputId": "704ad86c-6e8d-4815-c933-09cf834ca108"
      },
      "source": [
        "list(itertools.combinations('Farshid', 5))"
      ],
      "execution_count": 24,
      "outputs": [
        {
          "output_type": "execute_result",
          "data": {
            "text/plain": [
              "[('F', 'a', 'r', 's', 'h'),\n",
              " ('F', 'a', 'r', 's', 'i'),\n",
              " ('F', 'a', 'r', 's', 'd'),\n",
              " ('F', 'a', 'r', 'h', 'i'),\n",
              " ('F', 'a', 'r', 'h', 'd'),\n",
              " ('F', 'a', 'r', 'i', 'd'),\n",
              " ('F', 'a', 's', 'h', 'i'),\n",
              " ('F', 'a', 's', 'h', 'd'),\n",
              " ('F', 'a', 's', 'i', 'd'),\n",
              " ('F', 'a', 'h', 'i', 'd'),\n",
              " ('F', 'r', 's', 'h', 'i'),\n",
              " ('F', 'r', 's', 'h', 'd'),\n",
              " ('F', 'r', 's', 'i', 'd'),\n",
              " ('F', 'r', 'h', 'i', 'd'),\n",
              " ('F', 's', 'h', 'i', 'd'),\n",
              " ('a', 'r', 's', 'h', 'i'),\n",
              " ('a', 'r', 's', 'h', 'd'),\n",
              " ('a', 'r', 's', 'i', 'd'),\n",
              " ('a', 'r', 'h', 'i', 'd'),\n",
              " ('a', 's', 'h', 'i', 'd'),\n",
              " ('r', 's', 'h', 'i', 'd')]"
            ]
          },
          "metadata": {
            "tags": []
          },
          "execution_count": 24
        }
      ]
    },
    {
      "cell_type": "markdown",
      "metadata": {
        "id": "K9ge9_yJXpMn",
        "colab_type": "text"
      },
      "source": [
        "### . Rearranging generator functions\n",
        "\n",
        "1. itertools groupby(it,\n",
        "key=None)\n",
        "Yields 2-tuples of the form (key, group), where key is the grouping criterion\n",
        "and group is a generator yielding the items in the group\n",
        "\n",
        "2. (built-in) reversed(seq) Yields items from seq in reverse order, from last to first; seq must be a sequence\n",
        "or implement the __reversed__ special method\n",
        "3. itertools tee(it, n=2) Yields a tuple of n generators, each yielding the items of the input iterable\n",
        "independently"
      ]
    },
    {
      "cell_type": "code",
      "metadata": {
        "id": "EZ2Ku2m5S18m",
        "colab_type": "code",
        "colab": {
          "base_uri": "https://localhost:8080/",
          "height": 240
        },
        "outputId": "71eb2844-1567-4d4c-92d1-874ca5c54185"
      },
      "source": [
        "string = 'AAFGAHHHGFDCVFDDC'\n",
        "list(itertools.groupby(string))"
      ],
      "execution_count": 26,
      "outputs": [
        {
          "output_type": "execute_result",
          "data": {
            "text/plain": [
              "[('A', <itertools._grouper at 0x7f255e6884e0>),\n",
              " ('F', <itertools._grouper at 0x7f255e688dd8>),\n",
              " ('G', <itertools._grouper at 0x7f255e688630>),\n",
              " ('A', <itertools._grouper at 0x7f255e688c18>),\n",
              " ('H', <itertools._grouper at 0x7f255e688f98>),\n",
              " ('G', <itertools._grouper at 0x7f255e688a58>),\n",
              " ('F', <itertools._grouper at 0x7f255e688b38>),\n",
              " ('D', <itertools._grouper at 0x7f255e6881d0>),\n",
              " ('C', <itertools._grouper at 0x7f255e688390>),\n",
              " ('V', <itertools._grouper at 0x7f255e688908>),\n",
              " ('F', <itertools._grouper at 0x7f255e6888d0>),\n",
              " ('D', <itertools._grouper at 0x7f255e688f60>),\n",
              " ('C', <itertools._grouper at 0x7f255e6886d8>)]"
            ]
          },
          "metadata": {
            "tags": []
          },
          "execution_count": 26
        }
      ]
    },
    {
      "cell_type": "code",
      "metadata": {
        "id": "ZlEXul-AYX86",
        "colab_type": "code",
        "colab": {
          "base_uri": "https://localhost:8080/",
          "height": 240
        },
        "outputId": "8dece1ac-25aa-4fcf-af0e-ac34911c214c"
      },
      "source": [
        "for char, group in itertools.groupby(string):\n",
        "  print(char, '->', list(group))"
      ],
      "execution_count": 27,
      "outputs": [
        {
          "output_type": "stream",
          "text": [
            "A -> ['A', 'A']\n",
            "F -> ['F']\n",
            "G -> ['G']\n",
            "A -> ['A']\n",
            "H -> ['H', 'H', 'H']\n",
            "G -> ['G']\n",
            "F -> ['F']\n",
            "D -> ['D']\n",
            "C -> ['C']\n",
            "V -> ['V']\n",
            "F -> ['F']\n",
            "D -> ['D', 'D']\n",
            "C -> ['C']\n"
          ],
          "name": "stdout"
        }
      ]
    },
    {
      "cell_type": "code",
      "metadata": {
        "id": "a-tNQRMqYu-w",
        "colab_type": "code",
        "colab": {
          "base_uri": "https://localhost:8080/",
          "height": 34
        },
        "outputId": "bafb94ee-0275-49aa-c478-6bf3268cc803"
      },
      "source": [
        "animals = ['duck', 'eagle', 'rat', 'giraffe', 'bear', 'bat', 'dolphin', 'shark', 'lion']\n",
        "animals.sort(key=len) # To use groupby, the input should be sorted; here the words are sorted by length.\n",
        "animals"
      ],
      "execution_count": 28,
      "outputs": [
        {
          "output_type": "execute_result",
          "data": {
            "text/plain": [
              "['rat', 'bat', 'duck', 'bear', 'lion', 'eagle', 'shark', 'giraffe', 'dolphin']"
            ]
          },
          "metadata": {
            "tags": []
          },
          "execution_count": 28
        }
      ]
    },
    {
      "cell_type": "code",
      "metadata": {
        "id": "BSBQQay0ZGij",
        "colab_type": "code",
        "colab": {
          "base_uri": "https://localhost:8080/",
          "height": 86
        },
        "outputId": "68f2c749-ddcf-4e3c-aebb-25570e36bce6"
      },
      "source": [
        "for length, group in itertools.groupby(animals, len):\n",
        "  print(length, '-->', list(group))"
      ],
      "execution_count": 29,
      "outputs": [
        {
          "output_type": "stream",
          "text": [
            "3 --> ['rat', 'bat']\n",
            "4 --> ['duck', 'bear', 'lion']\n",
            "5 --> ['eagle', 'shark']\n",
            "7 --> ['giraffe', 'dolphin']\n"
          ],
          "name": "stdout"
        }
      ]
    },
    {
      "cell_type": "code",
      "metadata": {
        "id": "gXH_3daEZcDF",
        "colab_type": "code",
        "colab": {
          "base_uri": "https://localhost:8080/",
          "height": 86
        },
        "outputId": "891ffb6f-c154-402d-ba91-279dcce8cb11"
      },
      "source": [
        "for length, group in itertools.groupby(reversed(animals), len): \n",
        "  print(length, '-->', list(group))"
      ],
      "execution_count": 30,
      "outputs": [
        {
          "output_type": "stream",
          "text": [
            "7 --> ['dolphin', 'giraffe']\n",
            "5 --> ['shark', 'eagle']\n",
            "4 --> ['lion', 'bear', 'duck']\n",
            "3 --> ['bat', 'rat']\n"
          ],
          "name": "stdout"
        }
      ]
    },
    {
      "cell_type": "markdown",
      "metadata": {
        "id": "qMsQ6Oosq864",
        "colab_type": "text"
      },
      "source": [
        "### New Syntax in Python 3.3: yield from\n",
        "\n",
        "Nested for loops are the traditional solution when a generator function needs to yield\n",
        "values produced from another generator."
      ]
    },
    {
      "cell_type": "code",
      "metadata": {
        "id": "94WH6mKfZyL4",
        "colab_type": "code",
        "colab": {
          "base_uri": "https://localhost:8080/",
          "height": 34
        },
        "outputId": "88e3513d-e51a-47d4-9eea-82f42d4ae8b7"
      },
      "source": [
        "def chain(*iterables):\n",
        "  for it in iterables:\n",
        "    for i in it:\n",
        "      yield i\n",
        "      \n",
        "s = 'AbcFd'\n",
        "l = [1, 2, 3]\n",
        "t = tuple(range(5))\n",
        "list(chain(s, l, t))"
      ],
      "execution_count": 2,
      "outputs": [
        {
          "output_type": "execute_result",
          "data": {
            "text/plain": [
              "['A', 'b', 'c', 'F', 'd', 1, 2, 3, 0, 1, 2, 3, 4]"
            ]
          },
          "metadata": {
            "tags": []
          },
          "execution_count": 2
        }
      ]
    },
    {
      "cell_type": "markdown",
      "metadata": {
        "id": "cpKgynUartqH",
        "colab_type": "text"
      },
      "source": [
        "The chain generator function is delegating to each received iterable in turn. PEP 380\n",
        "— Syntax for Delegating to a Subgenerator introduced new syntax for doing that"
      ]
    },
    {
      "cell_type": "code",
      "metadata": {
        "id": "YM-wSuzErnG9",
        "colab_type": "code",
        "colab": {
          "base_uri": "https://localhost:8080/",
          "height": 34
        },
        "outputId": "34c4e3d0-d64a-474a-899a-f9b54727f6f9"
      },
      "source": [
        "def chain(*iterables):\n",
        "  for i in iterables:\n",
        "    yield from i\n",
        "    \n",
        "list(chain(s, l, t))"
      ],
      "execution_count": 3,
      "outputs": [
        {
          "output_type": "execute_result",
          "data": {
            "text/plain": [
              "['A', 'b', 'c', 'F', 'd', 1, 2, 3, 0, 1, 2, 3, 4]"
            ]
          },
          "metadata": {
            "tags": []
          },
          "execution_count": 3
        }
      ]
    },
    {
      "cell_type": "markdown",
      "metadata": {
        "id": "esWRurq5sOCC",
        "colab_type": "text"
      },
      "source": [
        "### Remark\n",
        "\n",
        "As you can see, __yield from__ i replaces the inner for loop completely. The use of yield\n",
        "from in this example is correct, and the code reads better, but it seems like mere syntactic\n",
        "sugar. Besides replacing a loop, yield from creates a channel connecting the inner\n",
        "generator directly to the client of the outer generator. This channel becomes really im‐\n",
        "portant when generators are used as coroutines and not only produce but also consume\n",
        "values from the client code"
      ]
    },
    {
      "cell_type": "markdown",
      "metadata": {
        "id": "cdUwV32Gsim2",
        "colab_type": "text"
      },
      "source": [
        "## Iterable Reducing Functions\n",
        "#### Built-in functions that read iterables and return single values\n",
        "1. (built-in) all(it) Returns True if all items in it are truthy, otherwise False; all([])\n",
        "returns True\n",
        "2. (built-in) any(it) Returns True if any item in it is truthy, otherwise False; any([])\n",
        "returns False\n",
        "3. (built-in) max(it, [key=,] [de\n",
        "fault=])\n",
        "Returns the maximum value of the items in it;a key is an ordering\n",
        "function, as in sorted; default is returned if the iterable is empty\n",
        "4. (built-in) min(it, [key=,] [de\n",
        "fault=])\n",
        "Returns the minimum value of the items init.bkeyis an ordering function,\n",
        "as in sorted; default is returned if the iterable is empty\n",
        "5. functools reduce(func, it, [ini\n",
        "tial])\n",
        "Returns the result of applying func to the first pair of items, then to that\n",
        "result and the third item and so on; if given, initial forms the initial\n",
        "pair with the first item\n",
        "6. (built-in) sum(it, start=0) The sum of all items in it, with the optional start value added (use\n",
        "math.fsum for better precision when adding floats)"
      ]
    },
    {
      "cell_type": "code",
      "metadata": {
        "id": "Fw1UufPesUbs",
        "colab_type": "code",
        "colab": {}
      },
      "source": [
        ""
      ],
      "execution_count": 0,
      "outputs": []
    }
  ]
}