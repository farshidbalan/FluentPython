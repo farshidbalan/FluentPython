{
  "nbformat": 4,
  "nbformat_minor": 0,
  "metadata": {
    "colab": {
      "name": "Chapter14.ipynb",
      "version": "0.3.2",
      "provenance": [],
      "include_colab_link": true
    },
    "kernelspec": {
      "name": "python3",
      "display_name": "Python 3"
    }
  },
  "cells": [
    {
      "cell_type": "markdown",
      "metadata": {
        "id": "view-in-github",
        "colab_type": "text"
      },
      "source": [
        "<a href=\"https://colab.research.google.com/github/farshidbalan/FluentPython/blob/master/Chapter14.ipynb\" target=\"_parent\"><img src=\"https://colab.research.google.com/assets/colab-badge.svg\" alt=\"Open In Colab\"/></a>"
      ]
    },
    {
      "cell_type": "markdown",
      "metadata": {
        "id": "bMSum6O2kW-X",
        "colab_type": "text"
      },
      "source": [
        "# Iterables, Iterators, and Generators"
      ]
    },
    {
      "cell_type": "markdown",
      "metadata": {
        "id": "FFsPKbPzlRqh",
        "colab_type": "text"
      },
      "source": [
        "## Sentence Take #1: A Sequence of Words\n",
        "\n",
        "We’ll start our exploration of iterables by implementing a Sentence class: you give its\n",
        "constructor a string with some text, and then you can iterate word by word. The first\n",
        "version will implement the sequence protocol, and it’s iterable because all sequences are\n",
        "iterable, as we’ve seen before, but now we’ll see exactly why."
      ]
    },
    {
      "cell_type": "code",
      "metadata": {
        "id": "F-KqezFblr7o",
        "colab_type": "code",
        "colab": {}
      },
      "source": [
        "# Example 14-1 shows a Sentence class that extracts words from a text by index.\n",
        "import re\n",
        "import reprlib\n",
        "\n",
        "RE_WORD = re.compile('\\w+')\n",
        "\n",
        "class Sentence:\n",
        "  def __init__(self, text):\n",
        "    self.text = text\n",
        "    self.words = RE_WORD.findall(text) # re.findall returns a list with all nonoverlapping matches of the regular\n",
        "                                      # expression, as a list of strings.\n",
        "    \n",
        "  def __getitem__(self, index):\n",
        "    return self.words[index]  # self.words holds the result of .findall, so we simply return the word at the given index\n",
        "  \n",
        "  def __len__(self):\n",
        "    return len(self.words) # To complete the sequence protocol, we implement __len__—but it is not needed to make an iterable object.\n",
        "  \n",
        "  def __repr__(self):\n",
        "    return f'Sentence({reprlib.repr(self.text)})' # reprlib.repr is a utility function to generate abbreviated string representations\n",
        "                                                  # of data structures that can be very large.\n"
      ],
      "execution_count": 0,
      "outputs": []
    },
    {
      "cell_type": "code",
      "metadata": {
        "id": "xa5R5U3hnB7C",
        "colab_type": "code",
        "outputId": "71b15982-fc7b-44ca-aedd-1e8d984b0001",
        "colab": {
          "base_uri": "https://localhost:8080/",
          "height": 34
        }
      },
      "source": [
        "s = Sentence('The time has come, the walrus said')\n",
        "s"
      ],
      "execution_count": 0,
      "outputs": [
        {
          "output_type": "execute_result",
          "data": {
            "text/plain": [
              "Sentence('The time has...e walrus said')"
            ]
          },
          "metadata": {
            "tags": []
          },
          "execution_count": 2
        }
      ]
    },
    {
      "cell_type": "markdown",
      "metadata": {
        "id": "EutR5dN1r1zm",
        "colab_type": "text"
      },
      "source": [
        "## Why Sequences Are Iterable: The iter Function\n",
        "\n",
        "Whenever the interpreter needs to iterate over an object x, it automatically calls iter(x).\n",
        "The iter built-in function:\n",
        "1. Checks whether the object implements \\_\\_iter\\_\\_, and calls that to obtain an iterator.\n",
        "2. If \\_\\_iter\\_\\_ is not implemented, but \\_\\_getitem\\_\\_ is implemented, Python creates\n",
        "an iterator that attempts to fetch items in order, starting from index 0 (zero).\n",
        "3. If that fails, Python raises TypeError, usually saying “C object is not iterable,” where\n",
        "C is the class of the target object.\n",
        "\n",
        "That is why any Python sequence is iterable: they all implement \\_\\_getitem\\_\\_. In fact,\n",
        "the standard sequences also implement \\_\\_iter\\_\\_, and yours should too, because the\n",
        "special handling of \\_\\_getitem\\_\\_ exists for backward compatibility reasons and may be\n",
        "gone in the future (although it is not deprecated as I write this)."
      ]
    },
    {
      "cell_type": "markdown",
      "metadata": {
        "id": "fsdbbc5lsXR3",
        "colab_type": "text"
      },
      "source": [
        "### Remark\n",
        "\n",
        "As of Python 3.4, the most accurate way to check whether an ob‐\n",
        "ject x is iterable is to call iter(x) and handle a TypeError excep‐\n",
        "tion if it isn’t. This is more accurate than using isinstance(x,\n",
        "abc.Iterable), because iter(x) also considers the legacy\n",
        "\\_\\_getitem\\_\\_ method, while the Iterable ABC does not."
      ]
    },
    {
      "cell_type": "markdown",
      "metadata": {
        "id": "0oged967tzhb",
        "colab_type": "text"
      },
      "source": [
        "## Iterator and Iterable\n",
        "\n",
        "iterable\n",
        "Any object from which the iter built-in function can obtain an iterator. Objects\n",
        "implementing an \\_\\_iter\\_\\_ method returning an iterator are iterable. Sequences are always iterable; as are objects implementing a \\_\\_getitem\\_\\_ method that takes 0-based indexes."
      ]
    },
    {
      "cell_type": "code",
      "metadata": {
        "id": "YfWl1NAYsGvt",
        "colab_type": "code",
        "outputId": "cf2c79b7-7098-45b2-c0a5-20c9eb12bcf6",
        "colab": {
          "base_uri": "https://localhost:8080/",
          "height": 68
        }
      },
      "source": [
        "# If there was no for statement and we had to emulate the for machinery by hand with a while loop, this is what we’d have to write:\n",
        "s = 'ABC'\n",
        "it = iter(s)\n",
        "\n",
        "while True:\n",
        "  try:\n",
        "    print(next(it))\n",
        "  except StopIteration:\n",
        "    del it\n",
        "    break"
      ],
      "execution_count": 0,
      "outputs": [
        {
          "output_type": "stream",
          "text": [
            "A\n",
            "B\n",
            "C\n"
          ],
          "name": "stdout"
        }
      ]
    },
    {
      "cell_type": "markdown",
      "metadata": {
        "id": "x-Pz69asGcaD",
        "colab_type": "text"
      },
      "source": [
        "The standard interface for an iterator has two methods:\n",
        "1. \\_\\_next\\_\\_\n",
        "Returns the next available item, raising StopIteration when there are no more\n",
        "items.\n",
        "\n",
        "2. \\_\\_iter\\_\\_ Returns self; this allows iterators to be used where an iterable is expected, for\n",
        "example, in a for loop."
      ]
    },
    {
      "cell_type": "code",
      "metadata": {
        "id": "ZKTMIDsbGNu6",
        "colab_type": "code",
        "colab": {}
      },
      "source": [
        "# Example 14-3. abc.Iterator class; extracted from Lib/_collections_abc.py\n",
        "class Iterator(Iterable):\n",
        "  \n",
        "  __slots__ = ()\n",
        "  @abstractmethod\n",
        "  def __next__(self):\n",
        "    # 'Return the next item from the iterator. When exhausted, raise StopIteration'\n",
        "    raise StopIteration\n",
        "  \n",
        "  def __iter__(self):\n",
        "    return self\n",
        "  \n",
        "  @classmethod\n",
        "  def __subclasshook__(cls, C): understand\n",
        "    if cls is Iterator:\n",
        "      if (any(\"__next__\" in B.__dict__ for B in C.__mro__) and\n",
        "          any(\"__iter__\" in B.__dict__ for B in C.__mro__)):\n",
        "        return True\n",
        "    return NotImplemented"
      ],
      "execution_count": 0,
      "outputs": []
    },
    {
      "cell_type": "markdown",
      "metadata": {
        "id": "7MlRnqoEKZRM",
        "colab_type": "text"
      },
      "source": [
        "### remark\n",
        "\n",
        "Iterators in Python aren't a matter of type but of protocol. A large and changing number of builtin types implement *some* flavor of\n",
        "iterator. Don't check the type! Use hasattr to check for both \"\\_\\_iter\\_\\_\" and \"\\_\\_next\\_\\_\" attributes instead."
      ]
    },
    {
      "cell_type": "markdown",
      "metadata": {
        "id": "aIbqk3wKKxkb",
        "colab_type": "text"
      },
      "source": [
        "## Best way to check if an object is iterable\n",
        "\n",
        "The best way to check if an\n",
        "object x is an iterator is to call isinstance(x, abc.Iterator).\n",
        "Thanks to Iterator.\\_\\_subclasshook\\_\\_, this test works even if the\n",
        "class of x is not a real or virtual subclass of Iterator."
      ]
    },
    {
      "cell_type": "markdown",
      "metadata": {
        "id": "3UqnPoTiUl25",
        "colab_type": "text"
      },
      "source": [
        "## Sentence Take #2: A Classic Iterator"
      ]
    },
    {
      "cell_type": "code",
      "metadata": {
        "id": "ggbAI0jHKkDL",
        "colab_type": "code",
        "colab": {}
      },
      "source": [
        "# Example 14-4. sentence_iter.py: Sentence implemented using the Iterator pattern\n",
        "import re\n",
        "import reprlib\n",
        "\n",
        "RE_WORD = re.compile('\\w+')\n",
        "\n",
        "class Sentence:\n",
        "  \n",
        "  def __init__(self, text):\n",
        "    self.text = text\n",
        "    self.words = RE_WORD.findall(text)\n",
        "    \n",
        "  def __repr(self):\n",
        "    return f'Sentence({reprlib.repr(self.text)})' # The __iter__ method is the only addition to the previous Sentence\n",
        "                                                  # implementation. This version has no __getitem__, to make it clear that the class\n",
        "                                                  # is iterable because it implements __iter__\n",
        "  \n",
        "  def __iter__(self):\n",
        "    return SentenceIterator(self.words)  # __iter__ fulfills the iterable protocol by instantiating and returning an iterator.\n",
        "  \n",
        "  \n",
        "  class SentenceIterator(self, words):\n",
        "    \n",
        "    def __init__(self, words):\n",
        "      self.words = words\n",
        "      self.index = index\n",
        "      \n",
        "    def __next__(self):\n",
        "      try:\n",
        "        word = self.words[self.index]\n",
        "        except IndexError:\n",
        "          raise StopIteration()\n",
        "        self.index += 1\n",
        "        return word\n",
        "      \n",
        "    def __iter__(self):\n",
        "      return self"
      ],
      "execution_count": 0,
      "outputs": []
    },
    {
      "cell_type": "markdown",
      "metadata": {
        "id": "pEF0KgVCb_js",
        "colab_type": "text"
      },
      "source": [
        "### Remark\n",
        "\n",
        "An iterable should never act as an iterator over itself. In other\n",
        "words, iterables must implement \\_\\_iter\\_\\_, but not \\_\\_next\\_\\_.\n",
        "On the other hand, for convenience, iterators should be iterable.\n",
        "An iterator’s \\_\\_iter\\_\\_ should just return self"
      ]
    },
    {
      "cell_type": "markdown",
      "metadata": {
        "id": "ik_Rb65Kci4F",
        "colab_type": "text"
      },
      "source": [
        "## Sentence Take #3: A Generator Function"
      ]
    },
    {
      "cell_type": "code",
      "metadata": {
        "id": "vRHE9EYUL79o",
        "colab_type": "code",
        "colab": {}
      },
      "source": [
        "#Example 14-5. sentence_gen.py: Sentence implemented using a generator function\n",
        "import re\n",
        "import reprlib\n",
        "\n",
        "RE_WORD = re.compile('\\w+')\n",
        "\n",
        "class Sentence:\n",
        "  \n",
        "  def __init__(self, text):\n",
        "    self.text = text\n",
        "    self.words = RE_WORD.findall(text)\n",
        "    \n",
        "  def __repr__(self):\n",
        "    return f'Sentence(reprlib.repr(self.text))'\n",
        "  \n",
        "  def __iter__(self):\n",
        "    for word in self.words:  # Iterate over self.word\n",
        "      yield word             # yield word \n",
        "    return"
      ],
      "execution_count": 0,
      "outputs": []
    },
    {
      "cell_type": "markdown",
      "metadata": {
        "id": "HWer7TMdd4c_",
        "colab_type": "text"
      },
      "source": [
        "### Remark\n",
        "Back in the Sentence code in Example 14-4, \\_\\_iter\\_\\_ called the SentenceIterator\n",
        "constructor to build an iterator and return it. Now the iterator in Example 14-5 is in\n",
        "fact a generator object, built automatically when the \\_\\_iter\\_\\_ method is called, because\n",
        "\\_\\_iter\\_\\_ here is a generator function."
      ]
    },
    {
      "cell_type": "code",
      "metadata": {
        "id": "zpdT3fizeBot",
        "colab_type": "code",
        "colab": {
          "base_uri": "https://localhost:8080/",
          "height": 103
        },
        "outputId": "7bab4a84-3220-4271-d941-d12d1ec7cba3"
      },
      "source": [
        "def gen_AB():\n",
        "  print('start')\n",
        "  yield 'A'  # yield 'A' in the generator function body produces the value A consumed by\n",
        "             # the for loop, which gets assigned to the c variable and results in the output --> A.\n",
        "    \n",
        "  print('continue')  # Iteration continues with a second call next(g), advancing the generator function\n",
        "                     # body from yield 'A' to yield 'B'. The text continue is output because of the\n",
        "                     # second print in the generator function body.\n",
        "  yield 'B'\n",
        "  print('end')\n",
        "  \n",
        "for c in gen_AB():\n",
        "  print('-->', c)"
      ],
      "execution_count": 2,
      "outputs": [
        {
          "output_type": "stream",
          "text": [
            "start\n",
            "--> A\n",
            "continue\n",
            "--> B\n",
            "end\n"
          ],
          "name": "stdout"
        }
      ]
    },
    {
      "cell_type": "markdown",
      "metadata": {
        "id": "vp18jmXailLS",
        "colab_type": "text"
      },
      "source": [
        "# Sentence Take #4: A Lazy Implementation"
      ]
    },
    {
      "cell_type": "code",
      "metadata": {
        "id": "YuzL2E0Rg4Mq",
        "colab_type": "code",
        "colab": {}
      },
      "source": [
        ""
      ],
      "execution_count": 0,
      "outputs": []
    }
  ]
}