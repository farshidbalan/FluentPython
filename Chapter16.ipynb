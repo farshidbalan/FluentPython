{
  "nbformat": 4,
  "nbformat_minor": 0,
  "metadata": {
    "colab": {
      "name": "Chapter16.ipynb",
      "version": "0.3.2",
      "provenance": [],
      "include_colab_link": true
    },
    "kernelspec": {
      "name": "python3",
      "display_name": "Python 3"
    }
  },
  "cells": [
    {
      "cell_type": "markdown",
      "metadata": {
        "id": "view-in-github",
        "colab_type": "text"
      },
      "source": [
        "<a href=\"https://colab.research.google.com/github/farshidbalan/FluentPython/blob/master/Chapter16.ipynb\" target=\"_parent\"><img src=\"https://colab.research.google.com/assets/colab-badge.svg\" alt=\"Open In Colab\"/></a>"
      ]
    },
    {
      "cell_type": "markdown",
      "metadata": {
        "id": "JSWN09NbXXgt",
        "colab_type": "text"
      },
      "source": [
        "# Coroutines"
      ]
    },
    {
      "cell_type": "markdown",
      "metadata": {
        "id": "56VDvosIX9mI",
        "colab_type": "text"
      },
      "source": [
        "A coroutine is syntactically like a generator: just a function with the yield keyword in\n",
        "its body. However, in a coroutine, yield usually appears on the right side of an expression (e.g., datum = yield), and it may or may not produce a value—if there is no expression after the yield keyword, the generator yields None. The coroutine may receive data from the caller, which uses .send(datum) instead of next(…) to feed the\n",
        "coroutine. Usually, the caller pushes values into the coroutine.\n",
        "\n",
        "It is even possible that no data goes in or out through the yield keyword. Regardless of\n",
        "the flow of data, yield is a control flow device that can be used to implement cooperative\n",
        "multitasking: each coroutine yields control to a central scheduler so that other coroutines can be activated.\n",
        "\n"
      ]
    },
    {
      "cell_type": "markdown",
      "metadata": {
        "id": "6axNA5fkaZKe",
        "colab_type": "text"
      },
      "source": [
        "## Basic Behavior of a Generator Used as a Coroutine"
      ]
    },
    {
      "cell_type": "code",
      "metadata": {
        "id": "U8TOQnMKXal5",
        "colab_type": "code",
        "outputId": "1b4d3dc6-ebc1-4674-ef9a-43c847a8a8cd",
        "colab": {
          "base_uri": "https://localhost:8080/",
          "height": 34
        }
      },
      "source": [
        "# Example 16-1. Simplest possible demonstration of coroutine in action\n",
        "def simple_coroutine():\n",
        "  print('-> coroutine started')  # A coroutine is defined as a generator function: with yield in its body.\n",
        "  x = yield\n",
        "  print('-> coroutine recieved:', x)  # yield is used in an expression; when the coroutine is designed just to receive data from the client it yields \n",
        "                                      # None—this is implicit because there is no expression to the right of the yield keyword.\n",
        "  \n",
        "my_coro = simple_coroutine()\n",
        "my_coro"
      ],
      "execution_count": 4,
      "outputs": [
        {
          "output_type": "execute_result",
          "data": {
            "text/plain": [
              "<generator object simple_coroutine at 0x7fa9c8097620>"
            ]
          },
          "metadata": {
            "tags": []
          },
          "execution_count": 4
        }
      ]
    },
    {
      "cell_type": "code",
      "metadata": {
        "id": "Us2oCDvAbTQj",
        "colab_type": "code",
        "outputId": "2c515cfe-9d41-4db0-a861-7caae77c28ef",
        "colab": {
          "base_uri": "https://localhost:8080/",
          "height": 34
        }
      },
      "source": [
        "next(my_coro)"
      ],
      "execution_count": 5,
      "outputs": [
        {
          "output_type": "stream",
          "text": [
            "-> coroutine started\n"
          ],
          "name": "stdout"
        }
      ]
    },
    {
      "cell_type": "code",
      "metadata": {
        "id": "HYuhJrchbWWF",
        "colab_type": "code",
        "outputId": "474a9eff-a459-460c-8e32-3eae2f22d11a",
        "colab": {
          "base_uri": "https://localhost:8080/",
          "height": 182
        }
      },
      "source": [
        "my_coro.send(42) # This call makes the yield in the coroutine body evaluate to 42; now the coroutine resumes and runs until the next yield or termination."
      ],
      "execution_count": 6,
      "outputs": [
        {
          "output_type": "stream",
          "text": [
            "-> coroutine recieved: 42\n"
          ],
          "name": "stdout"
        },
        {
          "output_type": "error",
          "ename": "StopIteration",
          "evalue": "ignored",
          "traceback": [
            "\u001b[0;31m---------------------------------------------------------------------------\u001b[0m",
            "\u001b[0;31mStopIteration\u001b[0m                             Traceback (most recent call last)",
            "\u001b[0;32m<ipython-input-6-a1936e172a72>\u001b[0m in \u001b[0;36m<module>\u001b[0;34m()\u001b[0m\n\u001b[0;32m----> 1\u001b[0;31m \u001b[0mmy_coro\u001b[0m\u001b[0;34m.\u001b[0m\u001b[0msend\u001b[0m\u001b[0;34m(\u001b[0m\u001b[0;36m42\u001b[0m\u001b[0;34m)\u001b[0m \u001b[0;31m# This call makes the yield in the coroutine body evaluate to 42; now the coroutine resumes and runs until the next yield or termination.\u001b[0m\u001b[0;34m\u001b[0m\u001b[0;34m\u001b[0m\u001b[0m\n\u001b[0m",
            "\u001b[0;31mStopIteration\u001b[0m: "
          ]
        }
      ]
    },
    {
      "cell_type": "markdown",
      "metadata": {
        "id": "97ddR7SycqZz",
        "colab_type": "text"
      },
      "source": [
        "### Remark\n",
        "\n",
        "A coroutine can be in one of four states. You can determine the current state using the\n",
        "inspect.getgeneratorstate(…) function, which returns one of these strings:\n",
        "\n",
        "- 'GEN_CREATED'\n",
        "Waiting to start execution.\n",
        "\n",
        "- 'GEN_RUNNING'\n",
        "Currently being executed by the interpreter\n",
        "\n",
        "- 'GEN_SUSPENDED'\n",
        "Currently suspended at a yield expression.\n",
        "\n",
        "- 'GEN_CLOSED'\n",
        "Execution has completed\n",
        "\n",
        "Because the argument to the send method will become the value of the pending yield\n",
        "expression, it follows that you can only make a call like my_coro.send(42) if the coro‐\n",
        "utine is currently suspended. But that’s not the case if the coroutine has never been\n",
        "activated—when its state is 'GEN_CREATED'. That’s why the first activation of a coroutine\n",
        "is always done with next(my_coro)—you can also call my_coro.send(None), and the\n",
        "effect is the same."
      ]
    },
    {
      "cell_type": "code",
      "metadata": {
        "id": "gMa1hA9IdB__",
        "colab_type": "code",
        "colab": {}
      },
      "source": [
        "# Example 16-2. A coroutine that yields twice\n",
        "\n",
        "def simple_coro2(a):\n",
        "  print('-> Started: a = ', a)\n",
        "  b = yield a\n",
        "  print('-> Received: b=', b)\n",
        "  c = yield a + b\n",
        "  print('-> Received: c=', c)"
      ],
      "execution_count": 0,
      "outputs": []
    },
    {
      "cell_type": "code",
      "metadata": {
        "id": "E9HQESNarNem",
        "colab_type": "code",
        "colab": {
          "base_uri": "https://localhost:8080/",
          "height": 34
        },
        "outputId": "9841fdba-c841-4c33-e510-193b1d742283"
      },
      "source": [
        "from inspect import getgeneratorstate\n",
        "my_coro2 = simple_coro2(14)\n",
        "getgeneratorstate(my_coro2) # inspect.getgeneratorstate reports GEN_CREATED (i.e., the coroutine has not started)"
      ],
      "execution_count": 17,
      "outputs": [
        {
          "output_type": "execute_result",
          "data": {
            "text/plain": [
              "'GEN_CREATED'"
            ]
          },
          "metadata": {
            "tags": []
          },
          "execution_count": 17
        }
      ]
    },
    {
      "cell_type": "code",
      "metadata": {
        "id": "QW6d8pE2sqw7",
        "colab_type": "code",
        "colab": {
          "base_uri": "https://localhost:8080/",
          "height": 51
        },
        "outputId": "90b8ccd7-3a02-49a2-87cd-2e1e84dd4284"
      },
      "source": [
        "next(my_coro2) # Advance coroutine to first yield, printing -> Started: a = 14 message then yielding value of a and suspending to wait for value to be assigned to b."
      ],
      "execution_count": 18,
      "outputs": [
        {
          "output_type": "stream",
          "text": [
            "-> Started: a =  14\n"
          ],
          "name": "stdout"
        },
        {
          "output_type": "execute_result",
          "data": {
            "text/plain": [
              "14"
            ]
          },
          "metadata": {
            "tags": []
          },
          "execution_count": 18
        }
      ]
    },
    {
      "cell_type": "code",
      "metadata": {
        "id": "ThUvN6eLsq0b",
        "colab_type": "code",
        "colab": {
          "base_uri": "https://localhost:8080/",
          "height": 164
        },
        "outputId": "36126ac4-d936-4357-cc39-4f7298c8e772"
      },
      "source": [
        "getgeneratorstate(my_corob2)"
      ],
      "execution_count": 19,
      "outputs": [
        {
          "output_type": "error",
          "ename": "NameError",
          "evalue": "ignored",
          "traceback": [
            "\u001b[0;31m---------------------------------------------------------------------------\u001b[0m",
            "\u001b[0;31mNameError\u001b[0m                                 Traceback (most recent call last)",
            "\u001b[0;32m<ipython-input-19-3fa627648748>\u001b[0m in \u001b[0;36m<module>\u001b[0;34m()\u001b[0m\n\u001b[0;32m----> 1\u001b[0;31m \u001b[0mgetgeneratorstate\u001b[0m\u001b[0;34m(\u001b[0m\u001b[0mmy_corob2\u001b[0m\u001b[0;34m)\u001b[0m\u001b[0;34m\u001b[0m\u001b[0;34m\u001b[0m\u001b[0m\n\u001b[0m",
            "\u001b[0;31mNameError\u001b[0m: name 'my_corob2' is not defined"
          ]
        }
      ]
    },
    {
      "cell_type": "code",
      "metadata": {
        "id": "1PVZ75GGtO4X",
        "colab_type": "code",
        "colab": {
          "base_uri": "https://localhost:8080/",
          "height": 51
        },
        "outputId": "a275f605-9d87-4833-d94c-e5c065aadd22"
      },
      "source": [
        "my_coro2.send(28)   # Send number 28 to suspended coroutine; the yield expression evaluates to 28 and that number is bound to b. The -> Received: b = 28 message is displayed,\n",
        "                    # the value of a + b is yielded (42), and the coroutine is suspended waiting for the value to be assigned to c"
      ],
      "execution_count": 20,
      "outputs": [
        {
          "output_type": "stream",
          "text": [
            "-> Received: b= 28\n"
          ],
          "name": "stdout"
        },
        {
          "output_type": "execute_result",
          "data": {
            "text/plain": [
              "42"
            ]
          },
          "metadata": {
            "tags": []
          },
          "execution_count": 20
        }
      ]
    },
    {
      "cell_type": "code",
      "metadata": {
        "id": "9SscKBAJtO7P",
        "colab_type": "code",
        "colab": {
          "base_uri": "https://localhost:8080/",
          "height": 182
        },
        "outputId": "b0fdc2cb-b211-4b77-dec3-ee5a5018563a"
      },
      "source": [
        "my_coro2.send(99)  # Send number 99 to suspended coroutine; the yield expression evaluates to 99 the number is bound to c. The -> Received: c = 99 message is displayed, then\n",
        "                   # the coroutine terminates, causing the generator object to raise StopIteration."
      ],
      "execution_count": 21,
      "outputs": [
        {
          "output_type": "stream",
          "text": [
            "-> Received: c= 99\n"
          ],
          "name": "stdout"
        },
        {
          "output_type": "error",
          "ename": "StopIteration",
          "evalue": "ignored",
          "traceback": [
            "\u001b[0;31m---------------------------------------------------------------------------\u001b[0m",
            "\u001b[0;31mStopIteration\u001b[0m                             Traceback (most recent call last)",
            "\u001b[0;32m<ipython-input-21-977093b924ab>\u001b[0m in \u001b[0;36m<module>\u001b[0;34m()\u001b[0m\n\u001b[0;32m----> 1\u001b[0;31m \u001b[0mmy_coro2\u001b[0m\u001b[0;34m.\u001b[0m\u001b[0msend\u001b[0m\u001b[0;34m(\u001b[0m\u001b[0;36m99\u001b[0m\u001b[0;34m)\u001b[0m\u001b[0;34m\u001b[0m\u001b[0;34m\u001b[0m\u001b[0m\n\u001b[0m",
            "\u001b[0;31mStopIteration\u001b[0m: "
          ]
        }
      ]
    },
    {
      "cell_type": "code",
      "metadata": {
        "id": "k4em04bltPAM",
        "colab_type": "code",
        "colab": {
          "base_uri": "https://localhost:8080/",
          "height": 34
        },
        "outputId": "eb003c3b-05da-493a-979c-9be3a1edad4d"
      },
      "source": [
        "getgeneratorstate(my_coro2)  # getgeneratorstate reports GEN_CLOSED (i.e., the coroutine execution has completed)."
      ],
      "execution_count": 22,
      "outputs": [
        {
          "output_type": "execute_result",
          "data": {
            "text/plain": [
              "'GEN_CLOSED'"
            ]
          },
          "metadata": {
            "tags": []
          },
          "execution_count": 22
        }
      ]
    },
    {
      "cell_type": "markdown",
      "metadata": {
        "id": "0njZv4Mux1nj",
        "colab_type": "text"
      },
      "source": [
        "### Remark\n",
        "\n",
        "It’s crucial to understand that the execution of the coroutine is suspended exactly at the\n",
        "yield keyword. As mentioned before, in an assignment statement, the code to the right\n",
        "of the = is evaluated before the actual assignment happens. This means that in a line like\n",
        "b = yield a, the value of b will only be set when the coroutine is activated later by the\n",
        "client code. "
      ]
    },
    {
      "cell_type": "markdown",
      "metadata": {
        "id": "g-5lMPye18iJ",
        "colab_type": "text"
      },
      "source": [
        "### Example: Coroutine to Compute a Running Average"
      ]
    },
    {
      "cell_type": "code",
      "metadata": {
        "id": "sjAEXZCZtO_T",
        "colab_type": "code",
        "colab": {}
      },
      "source": [
        "# Example 16-3. coroaverager0.py: code for a running average coroutine\n",
        "def averager():\n",
        "  total = 0.0\n",
        "  count = 0\n",
        "  average = None\n",
        "  while True:             # This infinite loop means this coroutine will keep on accepting values and producing results as long as the caller sends them. This coroutine will only\n",
        "                          # terminate when the caller calls .close() on it, or when it’s garbage collected because there are no more references to it.\n",
        "      \n",
        "    term = yield average  # The yield statement here is used to suspend the coroutine, produce a result to\n",
        "                          # the caller, and—later—to get a value sent by the caller to the coroutine, which resumes its infinite loop.\n",
        "    total += term\n",
        "    count += 1\n",
        "    average = total/count"
      ],
      "execution_count": 0,
      "outputs": []
    },
    {
      "cell_type": "code",
      "metadata": {
        "id": "mRPL4loX3V61",
        "colab_type": "code",
        "colab": {}
      },
      "source": [
        "coro_avg = averager()\n",
        "next(coro_avg)"
      ],
      "execution_count": 0,
      "outputs": []
    },
    {
      "cell_type": "code",
      "metadata": {
        "id": "RhvWpnWx3eZY",
        "colab_type": "code",
        "colab": {
          "base_uri": "https://localhost:8080/",
          "height": 34
        },
        "outputId": "6900c520-cf3c-45e6-8b77-bfde0c430b15"
      },
      "source": [
        "coro_avg.send(10)"
      ],
      "execution_count": 26,
      "outputs": [
        {
          "output_type": "execute_result",
          "data": {
            "text/plain": [
              "10.0"
            ]
          },
          "metadata": {
            "tags": []
          },
          "execution_count": 26
        }
      ]
    },
    {
      "cell_type": "code",
      "metadata": {
        "id": "0vt9kcyf3i9R",
        "colab_type": "code",
        "colab": {
          "base_uri": "https://localhost:8080/",
          "height": 34
        },
        "outputId": "adefad12-ef2a-4e33-aba2-a98e23fc0ef4"
      },
      "source": [
        "coro_avg.send(30)"
      ],
      "execution_count": 27,
      "outputs": [
        {
          "output_type": "execute_result",
          "data": {
            "text/plain": [
              "20.0"
            ]
          },
          "metadata": {
            "tags": []
          },
          "execution_count": 27
        }
      ]
    },
    {
      "cell_type": "code",
      "metadata": {
        "id": "c2ibDtm53lGX",
        "colab_type": "code",
        "colab": {
          "base_uri": "https://localhost:8080/",
          "height": 34
        },
        "outputId": "010c9828-0620-44b8-d8bc-f9dab3bd0cdd"
      },
      "source": [
        "coro_avg.send(40)"
      ],
      "execution_count": 28,
      "outputs": [
        {
          "output_type": "execute_result",
          "data": {
            "text/plain": [
              "26.666666666666668"
            ]
          },
          "metadata": {
            "tags": []
          },
          "execution_count": 28
        }
      ]
    },
    {
      "cell_type": "markdown",
      "metadata": {
        "id": "Yhg1Fljw33R2",
        "colab_type": "text"
      },
      "source": [
        "### Remark\n",
        "\n",
        "In the doctest (Example 16-4), the call next(coro_avg) makes the coroutine advance\n",
        "to the yield, yielding the initial value for average, which is None, so it does not appear\n",
        "on the console. At this point, the coroutine is suspended at the yield, waiting for a value\n",
        "to be sent. The line coro_avg.send(10) provides that value, causing the coroutine to\n",
        "activate, assigning it to term, updating the total, count, and average variables, and\n",
        "then starting another iteration in the while loop, which yields the average and waits\n",
        "for another term."
      ]
    },
    {
      "cell_type": "code",
      "metadata": {
        "id": "3g-vVUK-35qY",
        "colab_type": "code",
        "colab": {}
      },
      "source": [
        ""
      ],
      "execution_count": 0,
      "outputs": []
    }
  ]
}