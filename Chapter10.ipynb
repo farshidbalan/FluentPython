{
  "nbformat": 4,
  "nbformat_minor": 0,
  "metadata": {
    "colab": {
      "name": "Chapter10.ipynb",
      "version": "0.3.2",
      "provenance": [],
      "include_colab_link": true
    },
    "kernelspec": {
      "name": "python3",
      "display_name": "Python 3"
    }
  },
  "cells": [
    {
      "cell_type": "markdown",
      "metadata": {
        "id": "view-in-github",
        "colab_type": "text"
      },
      "source": [
        "<a href=\"https://colab.research.google.com/github/farshidbalan/FluentPython/blob/master/Chapter10.ipynb\" target=\"_parent\"><img src=\"https://colab.research.google.com/assets/colab-badge.svg\" alt=\"Open In Colab\"/></a>"
      ]
    },
    {
      "cell_type": "markdown",
      "metadata": {
        "id": "4kQG8tVcDhFH",
        "colab_type": "text"
      },
      "source": [
        "##  Vector Take #1: Vector2d Compatible"
      ]
    },
    {
      "cell_type": "code",
      "metadata": {
        "id": "Sr8hYUHJDmQl",
        "colab_type": "code",
        "colab": {}
      },
      "source": [
        "from array import array\n",
        "import reprlib\n",
        "import math"
      ],
      "execution_count": 0,
      "outputs": []
    },
    {
      "cell_type": "code",
      "metadata": {
        "id": "Ualmgm6ODs1i",
        "colab_type": "code",
        "colab": {}
      },
      "source": [
        "class Vector:\n",
        "  typecode = 'd'\n",
        "  \n",
        "  def __init__(self, components):\n",
        "    # The self._components instance “protected” attribute will hold an array \n",
        "    # with the Vector components.\n",
        "    self._components = array(self.typecode, components)\n",
        "    \n",
        "  def __iter__(self):\n",
        "    # To allow iteration, we return an iterator over self._components\n",
        "    return iter(self._components)\n",
        "\n",
        "  def __repr__(self):\n",
        "    # Use reprlib.repr() to get a limited-length representation of \n",
        "    # self._components (e.g., array('d', [0.0, 1.0, 2.0, 3.0, 4.0, ...])).\n",
        "    components = reprlib.repr(self._components)\n",
        "    \n",
        "    # Remove the array('d', prefix and the trailing ) before plugging the string \n",
        "    # into a Vector constructor call.\n",
        "    components = components[components.find('['): -1]\n",
        "    return f'Vector({components})'\n",
        "  \n",
        "  def __bytes__(self):\n",
        "    # Build a bytes object directly from self._components\n",
        "    return bytes([ord(self.typecode)]) + bytes(self._components)\n",
        "  \n",
        "  def __eq__(self, other):\n",
        "    return tuple(self) == tuple(other)\n",
        "  \n",
        "  def __abs__(self):\n",
        "    return math.sqrt(sum(x*x for x in self))\n",
        "  \n",
        "  def __boll__(self):\n",
        "    return bool(abs(self))\n",
        "  \n",
        "  @classmethod\n",
        "  def frombytes(cls, octets):\n",
        "    typecode = chr(octets[0])\n",
        "    memv = memoryview(octets[1:]).cast(typecode)\n",
        "    #  we pass the memoryview directly to the constructor\n",
        "    return cls(memv)"
      ],
      "execution_count": 0,
      "outputs": []
    },
    {
      "cell_type": "markdown",
      "metadata": {
        "id": "6smtf9nKKYQD",
        "colab_type": "text"
      },
      "source": [
        "### Remark\n",
        "\n",
        "The way I used reprlib.repr deserves some elaboration. That function produces safe\n",
        "representations of large or recursive structures by limiting the length of the output string\n",
        "and marking the cut with '...'. I wanted the repr of a Vector to look like Vector([3.0,\n",
        "4.0, 5.0]) and not Vector(array('d', [3.0, 4.0, 5.0])), because the fact that\n",
        "there is an array inside a Vector is an implementation detail. Because these constructor\n",
        "calls build identical Vector objects, I prefer the simpler syntax using a list argument.\n",
        "\n",
        "\n",
        "### Protocol\n",
        "In the context of object-oriented programming, __a protocol is an informal interface,\n",
        "defined only in documentation and not in code__. For example, the sequence protocol in\n",
        "Python entails just the  --len-- and  --getitem-- methods. Any class Spam that imple‐\n",
        "ments those methods with the standard signature and semantics can be used anywhere\n",
        "a sequence is expected. Whether Spam is a subclass of this or that is irrelevant; all that"
      ]
    },
    {
      "cell_type": "code",
      "metadata": {
        "id": "NBF-mVDoKbbN",
        "colab_type": "code",
        "colab": {}
      },
      "source": [
        ""
      ],
      "execution_count": 0,
      "outputs": []
    },
    {
      "cell_type": "markdown",
      "metadata": {
        "id": "XPmRb7HsCWrU",
        "colab_type": "text"
      },
      "source": [
        "## Vector Take #2: A Sliceable Sequence"
      ]
    },
    {
      "cell_type": "code",
      "metadata": {
        "id": "xAatwPzLCYqw",
        "colab_type": "code",
        "colab": {}
      },
      "source": [
        "class Vector:\n",
        "  typecode = 'd'\n",
        "  \n",
        "  def __init__(self, components):\n",
        "    # The self._components instance “protected” attribute will hold an array \n",
        "    # with the Vector components.\n",
        "    self._components = array(self.typecode, components)\n",
        "    \n",
        "  def __iter__(self):\n",
        "    # To allow iteration, we return an iterator over self._components\n",
        "    return iter(self._components)\n",
        "\n",
        "  def __repr__(self):\n",
        "    # Use reprlib.repr() to get a limited-length representation of \n",
        "    # self._components (e.g., array('d', [0.0, 1.0, 2.0, 3.0, 4.0, ...])).\n",
        "    components = reprlib.repr(self._components)\n",
        "    \n",
        "    # Remove the array('d', prefix and the trailing ) before plugging the string \n",
        "    # into a Vector constructor call.\n",
        "    components = components[components.find('['): -1]\n",
        "    return f'Vector({components})'\n",
        "  \n",
        "  def __bytes__(self):\n",
        "    # Build a bytes object directly from self._components\n",
        "    return bytes([ord(self.typecode)]) + bytes(self._components)\n",
        "  \n",
        "  def __eq__(self, other):\n",
        "    return tuple(self) == tuple(other)\n",
        "  \n",
        "  def __abs__(self):\n",
        "    return math.sqrt(sum(x*x for x in self))\n",
        "  \n",
        "  def __boll__(self):\n",
        "    return bool(abs(self))\n",
        "  \n",
        "  @classmethod\n",
        "  def frombytes(cls, octets):\n",
        "    typecode = chr(octets[0])\n",
        "    memv = memoryview(octets[1:]).cast(typecode)\n",
        "    #  we pass the memoryview directly to the constructor\n",
        "    return cls(memv)\n",
        "  \n",
        "  def __len__(self):\n",
        "    return len(self._components)\n",
        "  \n",
        "  \n",
        "  def __getitem__(self, index):\n",
        "    return self._components[index]"
      ],
      "execution_count": 0,
      "outputs": []
    },
    {
      "cell_type": "code",
      "metadata": {
        "id": "cz4YGSyhC6B9",
        "colab_type": "code",
        "outputId": "c27c1e8a-6173-4a72-98b2-5a23afe1c99e",
        "colab": {
          "base_uri": "https://localhost:8080/",
          "height": 34
        }
      },
      "source": [
        "v1 = Vector([3, 4, 5])\n",
        "len(v1)"
      ],
      "execution_count": 0,
      "outputs": [
        {
          "output_type": "execute_result",
          "data": {
            "text/plain": [
              "3"
            ]
          },
          "metadata": {
            "tags": []
          },
          "execution_count": 7
        }
      ]
    },
    {
      "cell_type": "code",
      "metadata": {
        "id": "h3gbGiPZDIS4",
        "colab_type": "code",
        "outputId": "c4dd110d-093b-4c33-cc1e-ad02034ffefc",
        "colab": {
          "base_uri": "https://localhost:8080/",
          "height": 34
        }
      },
      "source": [
        "v2 = Vector(range(10))\n",
        "\n",
        "v2[1:4]"
      ],
      "execution_count": 0,
      "outputs": [
        {
          "output_type": "execute_result",
          "data": {
            "text/plain": [
              "array('d', [1.0, 2.0, 3.0])"
            ]
          },
          "metadata": {
            "tags": []
          },
          "execution_count": 9
        }
      ]
    },
    {
      "cell_type": "markdown",
      "metadata": {
        "id": "KCLiW2-AD5dm",
        "colab_type": "text"
      },
      "source": [
        "### Remark\n",
        "\n",
        "As you can see, even slicing is supported—but not very well. It would be better if a slice\n",
        "of a Vector was also a Vector instance and not a array. The old FrenchDeck class has\n",
        "a similar problem: when you slice it, you get a list. In the case of Vector, a lot of\n",
        "functionality is lost when slicing produces plain arrays.\n",
        "Consider the built-in sequence types: every one of them, when sliced, produces a new\n",
        "instance of its own type, and not of some other type.\n",
        "To make Vector produce slices as Vector instances, we can’t just delegate the slicing to\n",
        "array. We need to analyze the arguments we get in --getitem-- and do the right thing"
      ]
    },
    {
      "cell_type": "code",
      "metadata": {
        "id": "7mDzPqXVD96V",
        "colab_type": "code",
        "colab": {}
      },
      "source": [
        "import numbers\n",
        "class Vector:\n",
        "  typecode = 'd'\n",
        "  \n",
        "  def __init__(self, components):\n",
        "    # The self._components instance “protected” attribute will hold an array \n",
        "    # with the Vector components.\n",
        "    self._components = array(self.typecode, components)\n",
        "    \n",
        "  def __iter__(self):\n",
        "    # To allow iteration, we return an iterator over self._components\n",
        "    return iter(self._components)\n",
        "\n",
        "  def __repr__(self):\n",
        "    # Use reprlib.repr() to get a limited-length representation of \n",
        "    # self._components (e.g., array('d', [0.0, 1.0, 2.0, 3.0, 4.0, ...])).\n",
        "    components = reprlib.repr(self._components)\n",
        "    \n",
        "    # Remove the array('d', prefix and the trailing ) before plugging the string \n",
        "    # into a Vector constructor call.\n",
        "    components = components[components.find('['): -1]\n",
        "    return f'Vector({components})'\n",
        "  \n",
        "  def __bytes__(self):\n",
        "    # Build a bytes object directly from self._components\n",
        "    return bytes([ord(self.typecode)]) + bytes(self._components)\n",
        "  \n",
        "  def __eq__(self, other):\n",
        "    return tuple(self) == tuple(other)\n",
        "  \n",
        "  def __abs__(self):\n",
        "    return math.sqrt(sum(x*x for x in self))\n",
        "  \n",
        "  def __boll__(self):\n",
        "    return bool(abs(self))\n",
        "  \n",
        "  @classmethod\n",
        "  def frombytes(cls, octets):\n",
        "    typecode = chr(octets[0])\n",
        "    memv = memoryview(octets[1:]).cast(typecode)\n",
        "    \n",
        "    #  we pass the memoryview directly to the constructor\n",
        "    return cls(memv)\n",
        "  \n",
        "  def __len__(self):\n",
        "    return len(self._components)\n",
        "  \n",
        "  def __getitem__(self, index):\n",
        "    # Get the class of the instance (i.e., Vector) for later use.\n",
        "    cls = type(self)\n",
        "    \n",
        "    # If the index argument is a slice…\n",
        "    if isinstance(index, slice):\n",
        "      \n",
        "      # …invoke the class to build another Vector instance from a slice of the\n",
        "      # _components array.\n",
        "      return cls(self._components[index])\n",
        "    \n",
        "    # If the index is an int or some other kind of integer…\n",
        "    elif isinstance(index, numbers.Integral):\n",
        "      \n",
        "      # …just return the specific item from _components. \n",
        "      return self._components[index]\n",
        "    \n",
        "    else:\n",
        "      # Otherwise, raise an exception.\n",
        "      msg = '{cls.__name__} indices must be integers'\n",
        "      raise TypeError(msg.format(cls=cls))"
      ],
      "execution_count": 0,
      "outputs": []
    },
    {
      "cell_type": "code",
      "metadata": {
        "id": "hpFLjOOcXGgj",
        "colab_type": "code",
        "outputId": "b9e5bb37-122b-4f23-a271-a9a46d22c6ee",
        "colab": {
          "base_uri": "https://localhost:8080/",
          "height": 34
        }
      },
      "source": [
        "v3 = Vector(range(7))\n",
        "v3[-1]"
      ],
      "execution_count": 0,
      "outputs": [
        {
          "output_type": "execute_result",
          "data": {
            "text/plain": [
              "6.0"
            ]
          },
          "metadata": {
            "tags": []
          },
          "execution_count": 16
        }
      ]
    },
    {
      "cell_type": "code",
      "metadata": {
        "id": "5jni7O0wZydX",
        "colab_type": "code",
        "outputId": "cd592945-5539-4677-e2bf-b0e9d44c8f42",
        "colab": {
          "base_uri": "https://localhost:8080/",
          "height": 34
        }
      },
      "source": [
        "v3[1:3]"
      ],
      "execution_count": 0,
      "outputs": [
        {
          "output_type": "execute_result",
          "data": {
            "text/plain": [
              "Vector([1.0, 2.0])"
            ]
          },
          "metadata": {
            "tags": []
          },
          "execution_count": 17
        }
      ]
    },
    {
      "cell_type": "code",
      "metadata": {
        "id": "y3Q50VxOaMFh",
        "colab_type": "code",
        "outputId": "abd6a17d-62cb-41a4-e4ad-aedfe7026542",
        "colab": {
          "base_uri": "https://localhost:8080/",
          "height": 250
        }
      },
      "source": [
        "v3[1, 4]"
      ],
      "execution_count": 0,
      "outputs": [
        {
          "output_type": "error",
          "ename": "TypeError",
          "evalue": "ignored",
          "traceback": [
            "\u001b[0;31m---------------------------------------------------------------------------\u001b[0m",
            "\u001b[0;31mTypeError\u001b[0m                                 Traceback (most recent call last)",
            "\u001b[0;32m<ipython-input-18-fadcd438285e>\u001b[0m in \u001b[0;36m<module>\u001b[0;34m()\u001b[0m\n\u001b[0;32m----> 1\u001b[0;31m \u001b[0mv3\u001b[0m\u001b[0;34m[\u001b[0m\u001b[0;36m1\u001b[0m\u001b[0;34m,\u001b[0m \u001b[0;36m4\u001b[0m\u001b[0;34m]\u001b[0m\u001b[0;34m\u001b[0m\u001b[0;34m\u001b[0m\u001b[0m\n\u001b[0m",
            "\u001b[0;32m<ipython-input-15-29b25c3b2d55>\u001b[0m in \u001b[0;36m__getitem__\u001b[0;34m(self, index)\u001b[0m\n\u001b[1;32m     61\u001b[0m       \u001b[0;31m# Otherwise, raise an exception.\u001b[0m\u001b[0;34m\u001b[0m\u001b[0;34m\u001b[0m\u001b[0;34m\u001b[0m\u001b[0m\n\u001b[1;32m     62\u001b[0m       \u001b[0mmsg\u001b[0m \u001b[0;34m=\u001b[0m \u001b[0;34m'{cls.__name__} indices must be integers'\u001b[0m\u001b[0;34m\u001b[0m\u001b[0;34m\u001b[0m\u001b[0m\n\u001b[0;32m---> 63\u001b[0;31m       \u001b[0;32mraise\u001b[0m \u001b[0mTypeError\u001b[0m\u001b[0;34m(\u001b[0m\u001b[0mmsg\u001b[0m\u001b[0;34m.\u001b[0m\u001b[0mformat\u001b[0m\u001b[0;34m(\u001b[0m\u001b[0mcls\u001b[0m\u001b[0;34m=\u001b[0m\u001b[0mcls\u001b[0m\u001b[0;34m)\u001b[0m\u001b[0;34m)\u001b[0m\u001b[0;34m\u001b[0m\u001b[0;34m\u001b[0m\u001b[0m\n\u001b[0m",
            "\u001b[0;31mTypeError\u001b[0m: Vector indices must be integers"
          ]
        }
      ]
    },
    {
      "cell_type": "markdown",
      "metadata": {
        "id": "1UowXCF7agjF",
        "colab_type": "text"
      },
      "source": [
        "## Vector Take #3: Dynamic Attribute Access"
      ]
    },
    {
      "cell_type": "markdown",
      "metadata": {
        "id": "2LN08L5qpO9-",
        "colab_type": "text"
      },
      "source": [
        "### \\_\\_getattr\\_\\_ \n",
        "\n",
        "“The \\_\\_getattr\\_\\_  method is invoked by the interpreter when attribute lookup fails. In\n",
        "simple terms, given the expression my_obj.x, Python checks if the my_obj instance has\n",
        "an attribute named x; if not, the search goes to the class (my_obj.\\_\\_class\\_\\_ ), and then\n",
        "up the inheritance graph.2 If the x attribute is not found, then the \\_\\_getattr\\_\\_  method\n",
        "defined in the class of my_obj is called with self and the name of the attribute as a string\n",
        "(e.g., 'x')."
      ]
    },
    {
      "cell_type": "code",
      "metadata": {
        "id": "4g09RNRqpimm",
        "colab_type": "code",
        "colab": {}
      },
      "source": [
        "import numbers\n",
        "class Vector:\n",
        "  \n",
        "  shortcut_names = 'xyzt'\n",
        "  typecode = 'd'\n",
        "  \n",
        "  def __init__(self, components):\n",
        "    # The self._components instance “protected” attribute will hold an array \n",
        "    # with the Vector components.\n",
        "    self._components = array(self.typecode, components)\n",
        "    \n",
        "  def __iter__(self):\n",
        "    # To allow iteration, we return an iterator over self._components\n",
        "    return iter(self._components)\n",
        "\n",
        "  def __repr__(self):\n",
        "    # Use reprlib.repr() to get a limited-length representation of \n",
        "    # self._components (e.g., array('d', [0.0, 1.0, 2.0, 3.0, 4.0, ...])).\n",
        "    components = reprlib.repr(self._components)\n",
        "    \n",
        "    # Remove the array('d', prefix and the trailing ) before plugging the string \n",
        "    # into a Vector constructor call.\n",
        "    components = components[components.find('['): -1]\n",
        "    return f'Vector({components})'\n",
        "  \n",
        "  def __bytes__(self):\n",
        "    # Build a bytes object directly from self._components\n",
        "    return bytes([ord(self.typecode)]) + bytes(self._components)\n",
        "  \n",
        "  def __eq__(self, other):\n",
        "    return tuple(self) == tuple(other)\n",
        "  \n",
        "  def __abs__(self):\n",
        "    return math.sqrt(sum(x*x for x in self))\n",
        "  \n",
        "  def __boll__(self):\n",
        "    return bool(abs(self))\n",
        "  \n",
        "  @classmethod\n",
        "  def frombytes(cls, octets):\n",
        "    typecode = chr(octets[0])\n",
        "    memv = memoryview(octets[1:]).cast(typecode)\n",
        "    \n",
        "    #  we pass the memoryview directly to the constructor\n",
        "    return cls(memv)\n",
        "  \n",
        "  def __len__(self):\n",
        "    return len(self._components)\n",
        "  \n",
        "  def __getitem__(self, index):\n",
        "    # Get the class of the instance (i.e., Vector) for later use.\n",
        "    cls = type(self)\n",
        "    \n",
        "    # If the index argument is a slice…\n",
        "    if isinstance(index, slice):\n",
        "      \n",
        "      # …invoke the class to build another Vector instance from a slice of the\n",
        "      # _components array.\n",
        "      return cls(self._components[index])\n",
        "    \n",
        "    # If the index is an int or some other kind of integer…\n",
        "    elif isinstance(index, numbers.Integral):\n",
        "      \n",
        "      # …just return the specific item from _components. \n",
        "      return self._components[index]\n",
        "    \n",
        "    else:\n",
        "      # Otherwise, raise an exception.\n",
        "      msg = '{cls.__name__} indices must be integers'\n",
        "      raise TypeError(msg.format(cls=cls))\n",
        "      \n",
        "      \n",
        "  def __getattr__(self, name):\n",
        "    cls = type(self)\n",
        "    if len(name) == 1:\n",
        "      # Find position of 1-letter name; str.find would also locate 'yz' and we\n",
        "      # don’t want that, this is the reason for the test above\n",
        "       pos = cls.shortcut_names.find(name)\n",
        "       # If the position is within range, return the array element.\n",
        "       if 0 <= pos < len(self._components):\n",
        "          return self._components[pos]\n",
        "        \n",
        "    # If either test failed, raise AttributeError with a standard message text.\n",
        "    msg = '{.__name__!r} object has no attribute {!r}'\n",
        "    raise AttributeError(msg.format(cls, name))"
      ],
      "execution_count": 0,
      "outputs": []
    },
    {
      "cell_type": "code",
      "metadata": {
        "id": "ZfJEzmUjsO75",
        "colab_type": "code",
        "outputId": "cceb1d9a-fb3d-40d0-e020-70126ae88ccc",
        "colab": {
          "base_uri": "https://localhost:8080/",
          "height": 34
        }
      },
      "source": [
        "v = Vector(range(7))\n",
        "v"
      ],
      "execution_count": 0,
      "outputs": [
        {
          "output_type": "execute_result",
          "data": {
            "text/plain": [
              "Vector([0.0, 1.0, 2.0, 3.0, 4.0, ...])"
            ]
          },
          "metadata": {
            "tags": []
          },
          "execution_count": 22
        }
      ]
    },
    {
      "cell_type": "code",
      "metadata": {
        "id": "iWxG3jKisUEB",
        "colab_type": "code",
        "outputId": "d5483ec2-4209-461a-bff8-e7a8bd3a5567",
        "colab": {
          "base_uri": "https://localhost:8080/",
          "height": 34
        }
      },
      "source": [
        "v.z"
      ],
      "execution_count": 0,
      "outputs": [
        {
          "output_type": "execute_result",
          "data": {
            "text/plain": [
              "2.0"
            ]
          },
          "metadata": {
            "tags": []
          },
          "execution_count": 25
        }
      ]
    },
    {
      "cell_type": "code",
      "metadata": {
        "id": "LBOfe3OTsZzB",
        "colab_type": "code",
        "outputId": "88441f39-3149-4684-f568-9955649045fb",
        "colab": {
          "base_uri": "https://localhost:8080/",
          "height": 250
        }
      },
      "source": [
        "v.k"
      ],
      "execution_count": 0,
      "outputs": [
        {
          "output_type": "error",
          "ename": "AttributeError",
          "evalue": "ignored",
          "traceback": [
            "\u001b[0;31m---------------------------------------------------------------------------\u001b[0m",
            "\u001b[0;31mAttributeError\u001b[0m                            Traceback (most recent call last)",
            "\u001b[0;32m<ipython-input-26-79797bb02b27>\u001b[0m in \u001b[0;36m<module>\u001b[0;34m()\u001b[0m\n\u001b[0;32m----> 1\u001b[0;31m \u001b[0mv\u001b[0m\u001b[0;34m.\u001b[0m\u001b[0mk\u001b[0m\u001b[0;34m\u001b[0m\u001b[0;34m\u001b[0m\u001b[0m\n\u001b[0m",
            "\u001b[0;32m<ipython-input-21-a82c1aab5a47>\u001b[0m in \u001b[0;36m__getattr__\u001b[0;34m(self, name)\u001b[0m\n\u001b[1;32m     83\u001b[0m     \u001b[0;31m# If either test failed, raise AttributeError with a standard message text.\u001b[0m\u001b[0;34m\u001b[0m\u001b[0;34m\u001b[0m\u001b[0;34m\u001b[0m\u001b[0m\n\u001b[1;32m     84\u001b[0m     \u001b[0mmsg\u001b[0m \u001b[0;34m=\u001b[0m \u001b[0;34m'{.__name__!r} object has no attribute {!r}'\u001b[0m\u001b[0;34m\u001b[0m\u001b[0;34m\u001b[0m\u001b[0m\n\u001b[0;32m---> 85\u001b[0;31m     \u001b[0;32mraise\u001b[0m \u001b[0mAttributeError\u001b[0m\u001b[0;34m(\u001b[0m\u001b[0mmsg\u001b[0m\u001b[0;34m.\u001b[0m\u001b[0mformat\u001b[0m\u001b[0;34m(\u001b[0m\u001b[0mcls\u001b[0m\u001b[0;34m,\u001b[0m \u001b[0mname\u001b[0m\u001b[0;34m)\u001b[0m\u001b[0;34m)\u001b[0m\u001b[0;34m\u001b[0m\u001b[0;34m\u001b[0m\u001b[0m\n\u001b[0m",
            "\u001b[0;31mAttributeError\u001b[0m: 'Vector' object has no attribute 'k'"
          ]
        }
      ]
    },
    {
      "cell_type": "code",
      "metadata": {
        "id": "9eQBjQS1s10l",
        "colab_type": "code",
        "colab": {}
      },
      "source": [
        "v.z = 6\n",
        "\n",
        "v.f = 9"
      ],
      "execution_count": 0,
      "outputs": []
    },
    {
      "cell_type": "code",
      "metadata": {
        "id": "72GLlKN9tiOi",
        "colab_type": "code",
        "outputId": "fe580ae1-90ec-4518-a6d9-b9fd3ad3ed44",
        "colab": {
          "base_uri": "https://localhost:8080/",
          "height": 34
        }
      },
      "source": [
        "v, v.f"
      ],
      "execution_count": 0,
      "outputs": [
        {
          "output_type": "execute_result",
          "data": {
            "text/plain": [
              "(Vector([0.0, 1.0, 2.0, 3.0, 4.0, ...]), 9)"
            ]
          },
          "metadata": {
            "tags": []
          },
          "execution_count": 30
        }
      ]
    },
    {
      "cell_type": "markdown",
      "metadata": {
        "id": "ivpAhLKttnbl",
        "colab_type": "text"
      },
      "source": [
        "### Remark\n",
        "\n",
        "#### inconsistancy in \\_\\_getattr\\_\\_\n",
        "The inconsistency in Example 10-9 was introduced because of the way \\_\\_getattr\\_\\_\n",
        "works: Python only calls that method as a fall back, when the object does not have the\n",
        "named attribute. However, after we assign v.x = 10, the v object now has an x attribute,\n",
        "so \\_\\_getattr\\_\\_ will no longer be called to retrieve v.x: the interpreter will just return\n",
        "the value 10 that is bound to v.x. On the other hand, our implementation of \\_\\_get\n",
        "attr\\_\\_ pays no attention to instance attributes other than self._components, from\n",
        "where it retrieves the values of the “virtual attributes” listed in shortcut_names.\n",
        "\n",
        "__We need to customize the logic for setting attributes in our Vector class in order to\n",
        "avoid this inconsistency.__"
      ]
    },
    {
      "cell_type": "code",
      "metadata": {
        "id": "pQC9bn9At_7D",
        "colab_type": "code",
        "colab": {}
      },
      "source": [
        "import numbers\n",
        "class Vector:\n",
        "  \n",
        "  shortcut_names = 'xyzt'\n",
        "  typecode = 'd'\n",
        "  \n",
        "  def __init__(self, components):\n",
        "    # The self._components instance “protected” attribute will hold an array \n",
        "    # with the Vector components.\n",
        "    self._components = array(self.typecode, components)\n",
        "    \n",
        "  def __iter__(self):\n",
        "    # To allow iteration, we return an iterator over self._components\n",
        "    return iter(self._components)\n",
        "\n",
        "  def __repr__(self):\n",
        "    # Use reprlib.repr() to get a limited-length representation of \n",
        "    # self._components (e.g., array('d', [0.0, 1.0, 2.0, 3.0, 4.0, ...])).\n",
        "    components = reprlib.repr(self._components)\n",
        "    \n",
        "    # Remove the array('d', prefix and the trailing ) before plugging the string \n",
        "    # into a Vector constructor call.\n",
        "    components = components[components.find('['): -1]\n",
        "    return f'Vector({components})'\n",
        "  \n",
        "  def __bytes__(self):\n",
        "    # Build a bytes object directly from self._components\n",
        "    return bytes([ord(self.typecode)]) + bytes(self._components)\n",
        "  \n",
        "  def __eq__(self, other):\n",
        "    return tuple(self) == tuple(other)\n",
        "  \n",
        "  def __abs__(self):\n",
        "    return math.sqrt(sum(x*x for x in self))\n",
        "  \n",
        "  def __boll__(self):\n",
        "    return bool(abs(self))\n",
        "  \n",
        "  @classmethod\n",
        "  def frombytes(cls, octets):\n",
        "    typecode = chr(octets[0])\n",
        "    memv = memoryview(octets[1:]).cast(typecode)\n",
        "    \n",
        "    #  we pass the memoryview directly to the constructor\n",
        "    return cls(memv)\n",
        "  \n",
        "  def __len__(self):\n",
        "    return len(self._components)\n",
        "  \n",
        "  def __getitem__(self, index):\n",
        "    # Get the class of the instance (i.e., Vector) for later use.\n",
        "    cls = type(self)\n",
        "    \n",
        "    # If the index argument is a slice…\n",
        "    if isinstance(index, slice):\n",
        "      \n",
        "      # …invoke the class to build another Vector instance from a slice of the\n",
        "      # _components array.\n",
        "      return cls(self._components[index])\n",
        "    \n",
        "    # If the index is an int or some other kind of integer…\n",
        "    elif isinstance(index, numbers.Integral):\n",
        "      \n",
        "      # …just return the specific item from _components. \n",
        "      return self._components[index]\n",
        "    \n",
        "    else:\n",
        "      # Otherwise, raise an exception.\n",
        "      msg = '{cls.__name__} indices must be integers'\n",
        "      raise TypeError(msg.format(cls=cls))\n",
        "      \n",
        "      \n",
        "  def __getattr__(self, name):\n",
        "    cls = type(self)\n",
        "    if len(name) == 1:\n",
        "      # Find position of 1-letter name; str.find would also locate 'yz' and we\n",
        "      # don’t want that, this is the reason for the test above\n",
        "       pos = cls.shortcut_names.find(name)\n",
        "       # If the position is within range, return the array element.\n",
        "       if 0 <= pos < len(self._components):\n",
        "          return self._components[pos]\n",
        "        \n",
        "    # If either test failed, raise AttributeError with a standard message text.\n",
        "    msg = '{.__name__!r} object has no attribute {!r}'\n",
        "    raise AttributeError(msg.format(cls, name))\n",
        "    \n",
        "    \n",
        "  def __setattr__(self, name, value):\n",
        "    cls = type(self)\n",
        "    \n",
        "    if len(name) == 1:\n",
        "      if name in cls.shortcut_names:\n",
        "        # If name is one of xyzt, set specific error message\n",
        "        error = 'readonly attribute {attr_name!r}'\n",
        "      elif name.islower():\n",
        "        # If name is lowercase, set error message about all single-letter names.\n",
        "        error = \"can't set attributes 'a' to 'z' in {cls_name!r}\"\n",
        "      else:\n",
        "        error = ''\n",
        "        \n",
        "      if error:\n",
        "        msg = error.format(cls_name=cls.__name__, attr_name=name)\n",
        "        raise AttributeError(msg)\n",
        "    # Default case: call __setattr__ on superclass for standard behavior  \n",
        "    super().__setattr__(name, value)  # remark"
      ],
      "execution_count": 0,
      "outputs": []
    },
    {
      "cell_type": "markdown",
      "metadata": {
        "id": "jdgA2qDMwoE7",
        "colab_type": "text"
      },
      "source": [
        "### Remark\n",
        "\n",
        "The super() function provides a way to access methods of super‐\n",
        "classes dynamically, a necessity in a dynamic language support‐\n",
        "ing multiple inheritance like Python. It’s used to delegate some task\n",
        "from a method in a subclass to a suitable method in a superclass,"
      ]
    },
    {
      "cell_type": "markdown",
      "metadata": {
        "id": "cycif-5sxiBL",
        "colab_type": "text"
      },
      "source": [
        "### Takeaway\n",
        "\n",
        "Even without supporting writing to the Vector components, here is an important take‐away from \n",
        "this example: very often when you implement \\_\\_getattr\\_\\_ you need to code\n",
        "\\_\\_setattr\\_\\_ as well, to avoid inconsistent behavior in your objects.\n",
        "If we wanted to allow changing components, we could implement \\_\\_setitem\\_\\_ to en‐\n",
        "able v[0] = 1.1 and/or \\_\\_setattr\\_\\_ to make v.x = 1.1 work. But Vector will remain\n",
        "immutable because we want to make it hashable in the coming section."
      ]
    },
    {
      "cell_type": "code",
      "metadata": {
        "id": "7pIBD6PQxuDz",
        "colab_type": "code",
        "outputId": "b892b744-030e-47d4-9cf3-d5e388236887",
        "colab": {
          "base_uri": "https://localhost:8080/",
          "height": 103
        }
      },
      "source": [
        ""
      ],
      "execution_count": 0,
      "outputs": [
        {
          "output_type": "stream",
          "text": [
            "1\n",
            "3\n",
            "0\n",
            "4\n",
            "1\n"
          ],
          "name": "stdout"
        }
      ]
    },
    {
      "cell_type": "markdown",
      "metadata": {
        "id": "5O2Gt4Uk8k_x",
        "colab_type": "text"
      },
      "source": [
        "## Vector Take #4: Hashing and a Faster =="
      ]
    },
    {
      "cell_type": "code",
      "metadata": {
        "id": "AdzmO4596deU",
        "colab_type": "code",
        "colab": {}
      },
      "source": [
        "from array import array\n",
        "import reprlib\n",
        "import math\n",
        "import functools \n",
        "import operator\n",
        "import numbers\n",
        "\n",
        "class Vector:\n",
        "  \n",
        "  shortcut_names = 'xyzt'\n",
        "  typecode = 'd'\n",
        "  \n",
        "  def __init__(self, components):\n",
        "    # The self._components instance “protected” attribute will hold an array \n",
        "    # with the Vector components.\n",
        "    self._components = array(self.typecode, components)\n",
        "    \n",
        "  def __iter__(self):\n",
        "    # To allow iteration, we return an iterator over self._components\n",
        "    return iter(self._components)\n",
        "\n",
        "  def __repr__(self):\n",
        "    # Use reprlib.repr() to get a limited-length representation of \n",
        "    # self._components (e.g., array('d', [0.0, 1.0, 2.0, 3.0, 4.0, ...])).\n",
        "    components = reprlib.repr(self._components)\n",
        "    \n",
        "    # Remove the array('d', prefix and the trailing ) before plugging the string \n",
        "    # into a Vector constructor call.\n",
        "    components = components[components.find('['): -1]\n",
        "    return f'Vector({components})'\n",
        "  \n",
        "  def __bytes__(self):\n",
        "    # Build a bytes object directly from self._components\n",
        "    return bytes([ord(self.typecode)]) + bytes(self._components)\n",
        "  \n",
        "  def __eq__(self, other):\n",
        "    return tuple(self) == tuple(other)\n",
        "  \n",
        "  \n",
        "  def __hash__(self):\n",
        "    \n",
        "    # Create a generator expression to lazily compute the hash of each component\n",
        "    hashes = (hash(x) for x in self._components)\n",
        "    # better to write: map(hash, self._components) \n",
        "    \n",
        "    \n",
        "    # Feed hashes to reduce with the xor function to compute the aggregate hash\n",
        "    # value; the third argument, 0, is the initializer\n",
        "    return functools.reduce(operator.xor, hashes, 0)\n",
        "  \n",
        "  def __abs__(self):\n",
        "    return math.sqrt(sum(x*x for x in self))\n",
        "  \n",
        "  def __boll__(self):\n",
        "    return bool(abs(self))\n",
        "  \n",
        "  @classmethod\n",
        "  def frombytes(cls, octets):\n",
        "    typecode = chr(octets[0])\n",
        "    memv = memoryview(octets[1:]).cast(typecode)\n",
        "    \n",
        "    #  we pass the memoryview directly to the constructor\n",
        "    return cls(memv)\n",
        "  \n",
        "  def __len__(self):\n",
        "    return len(self._components)\n",
        "  \n",
        "  def __getitem__(self, index):\n",
        "    # Get the class of the instance (i.e., Vector) for later use.\n",
        "    cls = type(self)\n",
        "    \n",
        "    # If the index argument is a slice…\n",
        "    if isinstance(index, slice):\n",
        "      \n",
        "      # …invoke the class to build another Vector instance from a slice of the\n",
        "      # _components array.\n",
        "      return cls(self._components[index])\n",
        "    \n",
        "    # If the index is an int or some other kind of integer…\n",
        "    elif isinstance(index, numbers.Integral):\n",
        "      \n",
        "      # …just return the specific item from _components. \n",
        "      return self._components[index]\n",
        "    \n",
        "    else:\n",
        "      # Otherwise, raise an exception.\n",
        "      msg = '{cls.__name__} indices must be integers'\n",
        "      raise TypeError(msg.format(cls=cls))\n",
        "      \n",
        "      \n",
        "  def __getattr__(self, name):\n",
        "    cls = type(self)\n",
        "    if len(name) == 1:\n",
        "      # Find position of 1-letter name; str.find would also locate 'yz' and we\n",
        "      # don’t want that, this is the reason for the test above\n",
        "       pos = cls.shortcut_names.find(name)\n",
        "       # If the position is within range, return the array element.\n",
        "       if 0 <= pos < len(self._components):\n",
        "          return self._components[pos]\n",
        "        \n",
        "    # If either test failed, raise AttributeError with a standard message text.\n",
        "    msg = '{.__name__!r} object has no attribute {!r}'\n",
        "    raise AttributeError(msg.format(cls, name))\n",
        "    \n",
        "    \n",
        "  def __setattr__(self, name, value):\n",
        "    cls = type(self)\n",
        "    \n",
        "    if len(name) == 1:\n",
        "      if name in cls.shortcut_names:\n",
        "        # If name is one of xyzt, set specific error message\n",
        "        error = 'readonly attribute {attr_name!r}'\n",
        "      elif name.islower():\n",
        "        # If name is lowercase, set error message about all single-letter names.\n",
        "        error = \"can't set attributes 'a' to 'z' in {cls_name!r}\"\n",
        "      else:\n",
        "        error = ''\n",
        "        \n",
        "      if error:\n",
        "        msg = error.format(cls_name=cls.__name__, attr_name=name)\n",
        "        raise AttributeError(msg)\n",
        "    # Default case: call __setattr__ on superclass for standard behavior  \n",
        "    super().__setattr__(name, value)  # remark"
      ],
      "execution_count": 0,
      "outputs": []
    },
    {
      "cell_type": "markdown",
      "metadata": {
        "id": "PFOMdLxc-E7h",
        "colab_type": "text"
      },
      "source": [
        "### Remark\n",
        "\n",
        "When using reduce, it’s good practice to provide the third argu‐\n",
        "ment, reduce(function, iterable, initializer), to prevent\n",
        "this exception: TypeError: reduce() of empty sequence with\n",
        "no initial value (excellent message: explains the problem and\n",
        "how to fix it). The initializer is the value returned if the se quence is empty and is used as the first argument in the reducing\n",
        "loop, so it should be the identity value of the operation. "
      ]
    },
    {
      "cell_type": "markdown",
      "metadata": {
        "id": "yNMi2lZk-vxX",
        "colab_type": "text"
      },
      "source": [
        "### Remark\n",
        "\n",
        " in Python 3, map is lazy: it creates a generator that yields the results on demand, thus saving memory—just like the generator expression."
      ]
    },
    {
      "cell_type": "code",
      "metadata": {
        "id": "_8Hr2kGL-uSV",
        "colab_type": "code",
        "colab": {}
      },
      "source": [
        ""
      ],
      "execution_count": 0,
      "outputs": []
    },
    {
      "cell_type": "code",
      "metadata": {
        "id": "Gcn59nH1-KJd",
        "colab_type": "code",
        "colab": {}
      },
      "source": [
        ""
      ],
      "execution_count": 0,
      "outputs": []
    }
  ]
}