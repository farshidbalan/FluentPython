{
  "nbformat": 4,
  "nbformat_minor": 0,
  "metadata": {
    "colab": {
      "name": "Chapter11.ipynb",
      "version": "0.3.2",
      "provenance": [],
      "include_colab_link": true
    },
    "kernelspec": {
      "name": "python3",
      "display_name": "Python 3"
    }
  },
  "cells": [
    {
      "cell_type": "markdown",
      "metadata": {
        "id": "view-in-github",
        "colab_type": "text"
      },
      "source": [
        "<a href=\"https://colab.research.google.com/github/farshidbalan/FluentPython/blob/master/Chapter11.ipynb\" target=\"_parent\"><img src=\"https://colab.research.google.com/assets/colab-badge.svg\" alt=\"Open In Colab\"/></a>"
      ]
    },
    {
      "cell_type": "markdown",
      "metadata": {
        "id": "WHp2Oxvrarus",
        "colab_type": "text"
      },
      "source": [
        "# Interfaces: From Protocols to ABCs"
      ]
    },
    {
      "cell_type": "code",
      "metadata": {
        "id": "4Miq9_6Oa8oW",
        "colab_type": "code",
        "colab": {}
      },
      "source": [
        "# Example 11-1.  x and y are public data attributes \n",
        "\n",
        "class Vector2d:\n",
        "  typecode = 'd'\n",
        "  \n",
        "  def __init__(self, x, y):\n",
        "    self.x = float(x)\n",
        "    self.y = float(y)\n",
        "    \n",
        "  def __iter__(self):\n",
        "    return (i for i in (self.x, self.y))"
      ],
      "execution_count": 0,
      "outputs": []
    },
    {
      "cell_type": "code",
      "metadata": {
        "id": "VfIsH0ScciBu",
        "colab_type": "code",
        "outputId": "eebec632-5f80-408c-b5e9-ef0aa7410354",
        "colab": {
          "base_uri": "https://localhost:8080/",
          "height": 34
        }
      },
      "source": [
        "v = Vector2d(3, 4)\n",
        "v.x"
      ],
      "execution_count": 0,
      "outputs": [
        {
          "output_type": "execute_result",
          "data": {
            "text/plain": [
              "3.0"
            ]
          },
          "metadata": {
            "tags": []
          },
          "execution_count": 5
        }
      ]
    },
    {
      "cell_type": "markdown",
      "metadata": {
        "id": "Bd_FZmrEbZLM",
        "colab_type": "text"
      },
      "source": [
        "### Remark\n",
        "\n",
        "In Chapter 9, we turned x and y into read-only properties (Example 11-2). This is a significant refactoring, but an essential part of the interface of Vector2d is unchanged:\n",
        "users can still read my_vector.x and my_vector.y."
      ]
    },
    {
      "cell_type": "code",
      "metadata": {
        "id": "8beadZRWa8rE",
        "colab_type": "code",
        "colab": {}
      },
      "source": [
        "# Example 11-2. x and y reimplemented as properties\n",
        "\n",
        "class Vector2d:\n",
        "  typecode = 'd'\n",
        "  \n",
        "  def __init__(self, x, y):\n",
        "    self.__x = float(x)\n",
        "    self.__y = float(y)\n",
        "  \n",
        "  @property\n",
        "  def x(self):\n",
        "    return self.__x\n",
        "  \n",
        "  @property\n",
        "  def y(self):\n",
        "    return self.__y\n",
        "  \n",
        "  def __iter__(self):\n",
        "    return (i for i in (self.x, self.y))\n",
        "  \n",
        "  "
      ],
      "execution_count": 0,
      "outputs": []
    },
    {
      "cell_type": "code",
      "metadata": {
        "id": "4ujuWshua8t8",
        "colab_type": "code",
        "outputId": "544b27e4-0740-4821-db6d-1ffea1314c53",
        "colab": {
          "base_uri": "https://localhost:8080/",
          "height": 34
        }
      },
      "source": [
        "v = Vector2d(6, 7)\n",
        "v.x"
      ],
      "execution_count": 0,
      "outputs": [
        {
          "output_type": "execute_result",
          "data": {
            "text/plain": [
              "6.0"
            ]
          },
          "metadata": {
            "tags": []
          },
          "execution_count": 7
        }
      ]
    },
    {
      "cell_type": "markdown",
      "metadata": {
        "id": "rYy5eaAedN7y",
        "colab_type": "text"
      },
      "source": [
        "### What is interface?\n",
        "\n",
        "A useful complementary definition of __interface__ is: the subset of an object’s public methods that enable it to play a specific role in the system. That’s what is implied when the\n",
        "Python documentation mentions “a file-like object” or “an iterable,” without specifying\n",
        "a class. An interface seen as a set of methods to fulfill a __role__ is what Smalltalkers called\n",
        "a __procotol__, and the term spread to other dynamic language communities. __Protocols are\n",
        "independent of inheritance.__ A class may implement several protocols, enabling its in‐\n",
        "stances to fulfill several roles.\n",
        "\n",
        "Protocols are interfaces, but because they are informal—defined only by documentation\n",
        "and conventions—protocols cannot be enforced like formal interfaces can (we’ll see\n",
        "how ABCs enforce interface conformance later in this chapter). A protocol may be\n",
        "partially implemented in a particular class, and that’s OK. Sometimes all a specific API\n",
        "requires from “a file-like object” is that it has a .read() method that returns bytes. The\n",
        "remaining file methods may or may not be relevant in the context.\n",
        "\n",
        "### Remark\n",
        "\n",
        "that “X-like object,” “X protocol,” and “X interface” are synonyms in the\n",
        "minds of Pythonistas"
      ]
    },
    {
      "cell_type": "code",
      "metadata": {
        "id": "2mf5Ou5Icvwt",
        "colab_type": "code",
        "colab": {}
      },
      "source": [
        "# Example 11-3. Partial sequence protocol implementation with __getitem__: enough for item access, iteration, and the in operator\n",
        "\n",
        "class Foo:\n",
        "  def __getitem__(self, pos):\n",
        "    return range(0, 30, 10)[pos]"
      ],
      "execution_count": 0,
      "outputs": []
    },
    {
      "cell_type": "code",
      "metadata": {
        "id": "cu4Y0z6xffin",
        "colab_type": "code",
        "outputId": "213e8940-98f6-47d3-a1f7-3ecfd9e8b906",
        "colab": {
          "base_uri": "https://localhost:8080/",
          "height": 34
        }
      },
      "source": [
        "f = Foo()\n",
        "f[0]"
      ],
      "execution_count": 0,
      "outputs": [
        {
          "output_type": "execute_result",
          "data": {
            "text/plain": [
              "0"
            ]
          },
          "metadata": {
            "tags": []
          },
          "execution_count": 11
        }
      ]
    },
    {
      "cell_type": "markdown",
      "metadata": {
        "id": "EzYY_5xOf-Lt",
        "colab_type": "text"
      },
      "source": [
        "### Remark\n",
        "\n",
        "There is no method \\_\\_iter\\_\\_ yet Foo instances are iterable because—as a fallback—\n",
        "when Python sees a \\_\\_getitem\\_\\_ method, it tries to iterate over the object by calling\n",
        "that method with integer indexes starting with 0. Because Python is smart enough to\n",
        "iterate over Foo instances, it can also make the in operator work even if Foo has no\n",
        "\\_\\_contains\\_\\_ method: it does a full scan to check if an item is present.\n",
        "\n",
        "__summary__:\n",
        "\n",
        "given the importance of the sequence protocol, in the absence \\_\\_iter\\_\\_\n",
        "and \\_\\_contains\\_\\_ Python still manages to make iteration and the in operator work by\n",
        "invoking \\_\\_getitem\\_\\_."
      ]
    },
    {
      "cell_type": "code",
      "metadata": {
        "id": "LsvMk--DfpRl",
        "colab_type": "code",
        "colab": {}
      },
      "source": [
        "# Example 11-4. A deck as a sequence of cards (same as Example 1-1)\n",
        "\n",
        "import collections\n",
        "\n",
        "Card = collections.namedtuple('Card', ['rank', 'suit'])\n",
        "\n",
        "class FrenchDeck:\n",
        "  ranks = [str(n) for n in range(2, 11)] + list('JQAK')\n",
        "  suits =  'spades diamonds clubs hearts'.split()\n",
        "  \n",
        "  def __init__(self):\n",
        "    self._cards = [Card(rank, suit) for suit in self.suits \n",
        "                                    for rank in self.ranks]\n",
        "\n",
        "  def __len__(self):\n",
        "    return len(self._cards)\n",
        "  \n",
        "  def __getitem__(self, position):\n",
        "    return self._cards[position]"
      ],
      "execution_count": 0,
      "outputs": []
    },
    {
      "cell_type": "code",
      "metadata": {
        "id": "HtYPzQkghsb_",
        "colab_type": "code",
        "outputId": "8d3d03fd-7cfe-45a1-a1a4-0da8ab1975dc",
        "colab": {
          "base_uri": "https://localhost:8080/",
          "height": 319
        }
      },
      "source": [
        "from random import shuffle\n",
        ">>> deck = FrenchDeck()\n",
        ">>> shuffle(deck)"
      ],
      "execution_count": 0,
      "outputs": [
        {
          "output_type": "error",
          "ename": "TypeError",
          "evalue": "ignored",
          "traceback": [
            "\u001b[0;31m---------------------------------------------------------------------------\u001b[0m",
            "\u001b[0;31mTypeError\u001b[0m                                 Traceback (most recent call last)",
            "\u001b[0;32m<ipython-input-16-88006b0b9529>\u001b[0m in \u001b[0;36m<module>\u001b[0;34m()\u001b[0m\n\u001b[1;32m      1\u001b[0m \u001b[0;32mfrom\u001b[0m \u001b[0mrandom\u001b[0m \u001b[0;32mimport\u001b[0m \u001b[0mshuffle\u001b[0m\u001b[0;34m\u001b[0m\u001b[0;34m\u001b[0m\u001b[0m\n\u001b[1;32m      2\u001b[0m \u001b[0mdeck\u001b[0m \u001b[0;34m=\u001b[0m \u001b[0mFrenchDeck\u001b[0m\u001b[0;34m(\u001b[0m\u001b[0;34m)\u001b[0m\u001b[0;34m\u001b[0m\u001b[0;34m\u001b[0m\u001b[0m\n\u001b[0;32m----> 3\u001b[0;31m \u001b[0mshuffle\u001b[0m\u001b[0;34m(\u001b[0m\u001b[0mdeck\u001b[0m\u001b[0;34m)\u001b[0m\u001b[0;34m\u001b[0m\u001b[0;34m\u001b[0m\u001b[0m\n\u001b[0m",
            "\u001b[0;32m/usr/lib/python3.6/random.py\u001b[0m in \u001b[0;36mshuffle\u001b[0;34m(self, x, random)\u001b[0m\n\u001b[1;32m    275\u001b[0m                 \u001b[0;31m# pick an element in x[:i+1] with which to exchange x[i]\u001b[0m\u001b[0;34m\u001b[0m\u001b[0;34m\u001b[0m\u001b[0;34m\u001b[0m\u001b[0m\n\u001b[1;32m    276\u001b[0m                 \u001b[0mj\u001b[0m \u001b[0;34m=\u001b[0m \u001b[0mrandbelow\u001b[0m\u001b[0;34m(\u001b[0m\u001b[0mi\u001b[0m\u001b[0;34m+\u001b[0m\u001b[0;36m1\u001b[0m\u001b[0;34m)\u001b[0m\u001b[0;34m\u001b[0m\u001b[0;34m\u001b[0m\u001b[0m\n\u001b[0;32m--> 277\u001b[0;31m                 \u001b[0mx\u001b[0m\u001b[0;34m[\u001b[0m\u001b[0mi\u001b[0m\u001b[0;34m]\u001b[0m\u001b[0;34m,\u001b[0m \u001b[0mx\u001b[0m\u001b[0;34m[\u001b[0m\u001b[0mj\u001b[0m\u001b[0;34m]\u001b[0m \u001b[0;34m=\u001b[0m \u001b[0mx\u001b[0m\u001b[0;34m[\u001b[0m\u001b[0mj\u001b[0m\u001b[0;34m]\u001b[0m\u001b[0;34m,\u001b[0m \u001b[0mx\u001b[0m\u001b[0;34m[\u001b[0m\u001b[0mi\u001b[0m\u001b[0;34m]\u001b[0m\u001b[0;34m\u001b[0m\u001b[0;34m\u001b[0m\u001b[0m\n\u001b[0m\u001b[1;32m    278\u001b[0m         \u001b[0;32melse\u001b[0m\u001b[0;34m:\u001b[0m\u001b[0;34m\u001b[0m\u001b[0;34m\u001b[0m\u001b[0m\n\u001b[1;32m    279\u001b[0m             \u001b[0m_int\u001b[0m \u001b[0;34m=\u001b[0m \u001b[0mint\u001b[0m\u001b[0;34m\u001b[0m\u001b[0;34m\u001b[0m\u001b[0m\n",
            "\u001b[0;31mTypeError\u001b[0m: 'FrenchDeck' object does not support item assignment"
          ]
        }
      ]
    },
    {
      "cell_type": "markdown",
      "metadata": {
        "id": "eo7AdZzRispG",
        "colab_type": "text"
      },
      "source": [
        "### Remark\n",
        "\n",
        "The error message is quite clear:__ “'FrenchDeck' object does not support item assignment.”__ The problem is that shuffle operates by swapping items inside the collection,\n",
        "and FrenchDeck only implements the immutable sequence protocol. Mutable sequences\n",
        "must also provide a \\_\\_setitem\\__ method.\n"
      ]
    },
    {
      "cell_type": "code",
      "metadata": {
        "id": "t2afdvk7jNVI",
        "colab_type": "code",
        "outputId": "b91be66e-c53c-4688-e38e-38bffc418375",
        "colab": {
          "base_uri": "https://localhost:8080/",
          "height": 103
        }
      },
      "source": [
        "def set_card(deck, position, card):\n",
        "  deck._cards[position] = card\n",
        "    \n",
        "#Assign that function to an attribute named __setitem__ in the FrenchDeck class.    \n",
        "FrenchDeck.__setitem__ = set_card\n",
        "\n",
        "# deck can now be sorted because FrenchDeck now implements the necessary\n",
        "# method of the mutable sequence protocol.\n",
        "shuffle(deck)\n",
        "deck[:5]"
      ],
      "execution_count": 0,
      "outputs": [
        {
          "output_type": "execute_result",
          "data": {
            "text/plain": [
              "[Card(rank='3', suit='spades'),\n",
              " Card(rank='J', suit='diamonds'),\n",
              " Card(rank='4', suit='hearts'),\n",
              " Card(rank='A', suit='spades'),\n",
              " Card(rank='5', suit='clubs')]"
            ]
          },
          "metadata": {
            "tags": []
          },
          "execution_count": 20
        }
      ]
    },
    {
      "cell_type": "markdown",
      "metadata": {
        "id": "gL9X7LSNtDhL",
        "colab_type": "text"
      },
      "source": [
        "### Monkey Patching\n",
        "The trick is that set_card knows that the deck object has an attribute named _cards,\n",
        "and _cards must be a mutable sequence. The set_card function is then attached to the\n",
        "FrenchDeck class as the \\_\\_setitem\\____ special method. \n",
        "\n",
        "This is an example of __monkey\n",
        "patching__: changing a class or module at runtime, without touching the source code.\n",
        "Monkey patching is powerful, but the code that does the actual patching is very tightly\n",
        "coupled with the program to be patched, often handling private and undocumented\n",
        "parts."
      ]
    },
    {
      "cell_type": "markdown",
      "metadata": {
        "id": "R7QNS2exvuf7",
        "colab_type": "text"
      },
      "source": [
        "### Remark\n",
        "\n",
        "However, even with ABCs, you should beware that excessive use of isinstance checks\n",
        "may be a code smell—a symptom of bad OO design. It’s usually not OK to have a chain\n",
        "of if/elif/elif with insinstance checks performing different actions depending on\n",
        "the type of an object: you should be using polymorphism for that—i.e., designing your\n",
        "classes so that the interpreter dispatches calls to the proper methods, instead of you\n",
        "hardcoding the dispatch logic in if/elif/elif blocks."
      ]
    },
    {
      "cell_type": "code",
      "metadata": {
        "id": "T2xDKQdksnpA",
        "colab_type": "code",
        "colab": {}
      },
      "source": [
        "# Example 11-7. Duck typing to handle a string or an iterable of strings\n",
        "try:\n",
        "  field_names = field_names.replace(',', ' ').split()\n",
        "except AttributeError:\n",
        "  pass\n",
        "field_names = tuple(field_names)\n"
      ],
      "execution_count": 0,
      "outputs": []
    },
    {
      "cell_type": "markdown",
      "metadata": {
        "id": "Nsofkxphydub",
        "colab_type": "text"
      },
      "source": [
        "## Subclassing an ABC"
      ]
    },
    {
      "cell_type": "code",
      "metadata": {
        "id": "NBkyesInye8Y",
        "colab_type": "code",
        "colab": {}
      },
      "source": [
        "# Example 11-8. frenchdeck2.py: FrenchDeck2, a subclass of \n",
        "# collections.MutableSequence\n",
        "\n",
        "import collections\n",
        "\n",
        "Card = collections.namedtuple('Card', ['rank', 'suit'])\n",
        "\n",
        "class FrenchDeck:\n",
        "  ranks = [str(n) for n in range(2, 11)] + list('JQAK')\n",
        "  suits =  'spades diamonds clubs hearts'.split()\n",
        "  \n",
        "  def __init__(self):\n",
        "    self._cards = [Card(rank, suit) for suit in self.suits \n",
        "                                    for rank in self.ranks]\n",
        "\n",
        "  def __len__(self):\n",
        "    return len(self._cards)\n",
        "  \n",
        "  def __getitem__(self, position):\n",
        "    return self._cards[position]\n",
        "  \n",
        "  def __setitem__(self, position, value):\n",
        "    # __setitem__ is all we need to enable shuffling…\n",
        "    self._cards[position] = value\n",
        "    \n",
        "  def __delitem__(self, position):\n",
        "    # But subclassing MutableSequence forces us to implement __delitem__, an\n",
        "    # abstract method of that ABC\n",
        "    def self._cards[position]\n",
        "    \n",
        "  def insert(self, position, value):\n",
        "    # We are also required to implement insert, the third abstract method of\n",
        "    # MutableSequence.\n",
        "    self._cards.insert(position, value)\n",
        "  "
      ],
      "execution_count": 0,
      "outputs": []
    },
    {
      "cell_type": "markdown",
      "metadata": {
        "id": "E1_TOoyOzm37",
        "colab_type": "text"
      },
      "source": [
        "### Remark: Important\n",
        "\n",
        "Python does not check for the implementation of the abstract methods at import time\n",
        "(when the frenchdeck2.py module is loaded and compiled), but only at runtime when\n",
        "we actually try to instantiate FrenchDeck2. Then, __if we fail to implement any abstract\n",
        "method, we get a TypeError exception with a message such as \"Can't instantiate abstract class FrenchDeck2 with abstract methods \\_\\_delitem\\_\\_, insert\".\n",
        "That’s why we must implement \\_\\_delitem\\_\\_ and insert, even if our FrenchDeck2\n",
        "examples do not need those behaviors: the MutableSequence ABC demands them.__\n",
        "\n",
        "Remark:\n",
        "Source: https://www.quora.com/What-is-an-abstract-method-in-Python \n",
        "\n",
        "if you define a class using abc, creating an instance of a derived class will raise an exception if the derived class doesn’t contain implementations of all of the abstract methods."
      ]
    },
    {
      "cell_type": "markdown",
      "metadata": {
        "id": "rCP2hyySAm4h",
        "colab_type": "text"
      },
      "source": [
        "## ABCs in the Standard Library\n",
        "\n",
        "#### Iterable, Container, and Sized\n",
        "\n",
        "\n",
        "Every collection should either inherit from these ABCs or at least implement com‐\n",
        "patible protocols. Iterable supports iteration with __iter__, Container supports\n",
        "the in operator with __contains__, and Sized supports len() with __len__.\n",
        "\n",
        "\n",
        "#### Sequence, Mapping, and Set\n",
        "\n",
        "\n",
        "These are the main immutable collection types, and each has a mutable subclass. A\n",
        "detailed diagram for MutableSequence is in Figure 11-2; for MutableMapping and\n",
        "MutableSet, there are diagrams in Chapter 3 (Figures 3-1 and 3-2).\n",
        "\n",
        "\n",
        "#### MappingView\n",
        "\n",
        "\n",
        "In Python 3, the objects returned from the mapping methods .items(), .keys(),\n",
        "and .values() inherit from ItemsView, ValuesView, and ValuesView, respectively.\n",
        "The first two also inherit the rich interface of Set, with all the operators we saw in\n",
        "“Set Operations” on page 82.\n",
        "\n",
        "\n",
        "#### Callable and Hashable\n",
        "\n",
        "\n",
        "These ABCs are not so closely related to collections, but collections.abc was the\n",
        "first package to define ABCs in the standard library, and these two were deemed\n",
        "important enough to be included. I’ve never seen subclasses of either Callable or\n",
        "Hashable. Their main use is to support the insinstance built-in as a safe way of\n",
        "determining whether an object is callable or hashable.7\n",
        "\n",
        "\n",
        "#### Iterator\n",
        "\n",
        "\n",
        "Note that iterator subclasses Iterable. We discuss this further in Chapter 14"
      ]
    },
    {
      "cell_type": "markdown",
      "metadata": {
        "id": "IrnEqqKOCP3a",
        "colab_type": "text"
      },
      "source": [
        "## Defining and Using an ABC"
      ]
    },
    {
      "cell_type": "code",
      "metadata": {
        "id": "kS9XK3kAA4er",
        "colab_type": "code",
        "colab": {}
      },
      "source": [
        "# Example 11-9 shows the definition of the Tombola ABC.\n",
        "# Tombola is an ABC with two abstract methods and two concrete methods\n",
        "\n",
        "import abc\n",
        "# To define an ABC, subclass abc.ABC.\n",
        "class Tombola(abc.ABC):\n",
        "  \n",
        "  # An abstract method is marked with the @abstractmethod decorator, and often\n",
        "  # its body is empty except for a docstring.\n",
        "  @abc.abstractmethod\n",
        "  def load(self, iterable):\n",
        "    \"\"\"Add items from an iterable\"\"\"\n",
        "    \n",
        "  @abc.abstractmethod\n",
        "  def pick(self):\n",
        "    \"\"\"Remove item at random, returning it.\n",
        "       This method should raise `LookupError` when the instance is empty.\n",
        "    \"\"\"\n",
        "    \n",
        "  def loaded(self):\n",
        "    \"\"\"Return `True` if there's at least 1 item, `False` otherwise.\"\"\"\n",
        "    # Remark: Concrete methods in an ABC must rely only on the interface defined\n",
        "    # by the ABC (i.e., other concrete or abstract methods or properties of the \n",
        "    # ABC).\n",
        "    return bool(self.inspect())\n",
        "  \n",
        "  def inspect(self): # TO BE REVIEWD\n",
        "    \"\"\"Return a sorted tuple with the items currently inside.\"\"\"\n",
        "    items = []\n",
        "    # We can’t know how concrete subclasses will store the items, but we can \n",
        "    # build the inspect result by emptying the Tombola with successive calls to \n",
        "    # .pick()…\n",
        "    while True:\n",
        "      try:\n",
        "        items.append(self.pick())\n",
        "      except LookupError:\n",
        "        break\n",
        "    # …then use .load(…) to put everything back\n",
        "    self.load(items)\n",
        "    return tuple(sorted(items))"
      ],
      "execution_count": 0,
      "outputs": []
    },
    {
      "cell_type": "markdown",
      "metadata": {
        "id": "o3WINZYZGB2w",
        "colab_type": "text"
      },
      "source": [
        "### Remark\n",
        "\n",
        "An abstract method can actually have an implementation. Even if\n",
        "it does, subclasses will still be forced to override it, but they will be\n",
        "able to invoke the abstract method with super(), adding func‐\n",
        "tionality to it instead of implementing from scratch.\n",
        "\n",
        "### Remark\n",
        "The .inspect() method in Example 11-9 is perhaps a silly example, but it shows that,\n",
        "given .pick() and .load(…) we can inspect what’s inside the Tombola by picking all\n",
        "items and loading them back. The point of this example is to highlight that it’s OK to\n",
        "provide concrete methods in ABCs, as long as they only depend on other methods in\n",
        "the interface. Being aware of their internal data structures, concrete subclasses of Tombola may always override .inspect() with a smarter implementation, but they don’t have to.\n",
        "\n",
        "The .loaded() method in Example 11-9 may not be as silly, but it’s expensive: it\n",
        "calls .inspect() to build the sorted tuple just to apply bool() on it. This works, but a\n",
        "concrete subclass can do much better, as we’ll see."
      ]
    },
    {
      "cell_type": "code",
      "metadata": {
        "id": "OnA25gi7GEGd",
        "colab_type": "code",
        "outputId": "6fba7017-1b7d-4458-8f9e-e64520ccafa3",
        "colab": {
          "base_uri": "https://localhost:8080/",
          "height": 34
        }
      },
      "source": [
        "# Example 11-11. A fake Tombola doesn’t go undetected\n",
        "class Fake(Tombola): #\n",
        "  def pick(self):\n",
        "     return 13\n",
        "\n",
        "Fake "
      ],
      "execution_count": 0,
      "outputs": [
        {
          "output_type": "execute_result",
          "data": {
            "text/plain": [
              "__main__.Fake"
            ]
          },
          "metadata": {
            "tags": []
          },
          "execution_count": 2
        }
      ]
    },
    {
      "cell_type": "code",
      "metadata": {
        "id": "rJVNeEpfHZul",
        "colab_type": "code",
        "outputId": "0a30d28d-d9e6-43e1-aa59-6448121559ee",
        "colab": {
          "base_uri": "https://localhost:8080/",
          "height": 164
        }
      },
      "source": [
        "f = Fake()"
      ],
      "execution_count": 0,
      "outputs": [
        {
          "output_type": "error",
          "ename": "TypeError",
          "evalue": "ignored",
          "traceback": [
            "\u001b[0;31m---------------------------------------------------------------------------\u001b[0m",
            "\u001b[0;31mTypeError\u001b[0m                                 Traceback (most recent call last)",
            "\u001b[0;32m<ipython-input-3-a646eb69a2f6>\u001b[0m in \u001b[0;36m<module>\u001b[0;34m()\u001b[0m\n\u001b[0;32m----> 1\u001b[0;31m \u001b[0mf\u001b[0m \u001b[0;34m=\u001b[0m \u001b[0mFake\u001b[0m\u001b[0;34m(\u001b[0m\u001b[0;34m)\u001b[0m\u001b[0;34m\u001b[0m\u001b[0;34m\u001b[0m\u001b[0m\n\u001b[0m",
            "\u001b[0;31mTypeError\u001b[0m: Can't instantiate abstract class Fake with abstract methods load"
          ]
        }
      ]
    },
    {
      "cell_type": "markdown",
      "metadata": {
        "id": "o2mb6VLzH1Wz",
        "colab_type": "text"
      },
      "source": [
        "### interesting\n",
        "\n",
        "TypeError is raised when we try to instantiate Fake. The message is very clear:\n",
        "Fake is considered abstract because it failed to implement load, one of the\n",
        "abstract methods declared in the Tombola ABC."
      ]
    },
    {
      "cell_type": "code",
      "metadata": {
        "id": "a1v7nXBaJQ9w",
        "colab_type": "code",
        "colab": {}
      },
      "source": [
        "# Example 11-12. BingoCage is a concrete subclass of Tombola\n",
        "\n",
        "import random\n",
        "\n",
        "class BingoCage(Tombola):\n",
        "  \n",
        "  def __init__(self, items):\n",
        "    self._randomizer = random.SystemRandom()\n",
        "    self._items = []\n",
        "    \n",
        "    # Delegate initial loading to the .load(…) method\n",
        "    self.load(items)\n",
        "    \n",
        "  def load(self, items):\n",
        "    self._items.extend(items)\n",
        "    \n",
        "    # Instead of the plain random.shuffle() function, we use the .shuffle() method\n",
        "    # of our SystemRandom instance.\n",
        "    self._randomizer.shuffle(self._items)\n",
        "    \n",
        "  def pick(self):\n",
        "    try:\n",
        "      return self._items.pop()\n",
        "    except IndexError:\n",
        "      raise LookupError('pick from empty BingoCage')\n",
        "      \n",
        "  def __cal__(self):\n",
        "    \n",
        "    # __call__ is not needed to satisfy the Tombola\n",
        "    # interface, but there’s no harm in adding extra methods.\n",
        "    self.pick()"
      ],
      "execution_count": 0,
      "outputs": []
    },
    {
      "cell_type": "markdown",
      "metadata": {
        "id": "coRvfWx7nf50",
        "colab_type": "text"
      },
      "source": [
        "### Remark\n",
        "\n",
        "__BingoCage__ inherits the expensive loaded and the silly inspect methods from Tombola. Both could be overridden with much faster one-liners, as in Example 11-13. The\n",
        "point is: we can be lazy and just inherit the suboptimal concrete methods from an ABC.\n",
        "The methods inherited from Tombola are not as fast as they could be for BingoCage, but\n",
        "they do provide correct results for any Tombola subclass that correctly implements pick\n",
        "and load"
      ]
    },
    {
      "cell_type": "code",
      "metadata": {
        "id": "NbJMJHo5ntmM",
        "colab_type": "code",
        "colab": {}
      },
      "source": [
        "# Example 11-13.LotteryBlower is a concrete subclass that overrides the inspect\n",
        " # and loaded methods from Tombola\n",
        "  \n",
        "import random\n",
        "\n",
        "class LotteryBlower(Tombola):\n",
        "  \n",
        "  def __init__(self, iterable):\n",
        "    \n",
        "    # The initializer accepts any iterable: the argument is used to build a list.\n",
        "    self._balls = list(iterable)\n",
        "    \n",
        "  def load(self, iterable):\n",
        "    self._balls.extend(iterable)\n",
        "    \n",
        "  def pick(self):\n",
        "    \n",
        "    # The random.randrange(…) function raises ValueError if the range is empty, \n",
        "    # so we catch that and throw LookupError instead, to be compatible with \n",
        "    # Tombola.\n",
        "    try:\n",
        "      position = random.randrange(len(self._balls))\n",
        "      \n",
        "    except ValueError:\n",
        "      raise LookupError('pick from empty BingoCage')\n",
        "      \n",
        "    # Otherwise the randomly selected item is popped from self._balls.  \n",
        "    return self._balls.pop(position)\n",
        "  \n",
        "  def loaded(self):\n",
        "    # Override loaded to avoid calling inspect (as Tombola.loaded does in\n",
        "    # Example 11-9). We can make it faster by working with self._balls directly—\n",
        "    # no need to build a whole sorted tuple.\n",
        "    return bool(self._balls)\n",
        "  \n",
        "  def inspect(self):\n",
        "    # Override inspect with one-liner.\n",
        "    return tuple(sorted(self._balls))\n",
        "  \n",
        "  \n",
        "      \n",
        "    "
      ],
      "execution_count": 0,
      "outputs": []
    },
    {
      "cell_type": "markdown",
      "metadata": {
        "id": "yg95OMY3wvkb",
        "colab_type": "text"
      },
      "source": [
        "### Remark\n",
        "\n",
        "Example 11-13 illustrates an idiom worth mentioning: in \\_\\_init\\_\\_, self._balls stores\n",
        "list(iterable) and not just a reference to iterable (i.e., we did not merely assign\n",
        "iterable to self._balls). As mentioned before,13 this makes our LotteryBlower\n",
        "flexible because the iterable argument may be any iterable type. At the same time, we\n",
        "make sure to store its items in a list so we can pop items. And even if we always get\n",
        "lists as the iterable argument, list(iterable) produces a copy of the argument. \n",
        "which is a good practice considering we will be removing items from it and the client\n",
        "may not be expecting the list of items she provided to be changed."
      ]
    },
    {
      "cell_type": "markdown",
      "metadata": {
        "id": "2Dpo-lS_xYWe",
        "colab_type": "text"
      },
      "source": [
        "## A Virtual Subclass of Tombola\n",
        "\n",
        "In goose typing, we can register a class as a virtual subclass of an ABC, even if it does not\n",
        "inherit from it. When doing so, we promise that the class faithfully implements the\n",
        "interface defined in the ABC—and Python will believe us without checking. If we lie,\n",
        "we’ll be caught by the usual runtime exceptions.\n",
        "\n",
        "\n",
        "This is done by calling a register method on the ABC. The registered class then be‐\n",
        "comes a virtual subclass of the ABC, and will be recognized as such by functions like\n",
        "issubclass and isinstance, but it will not inherit any methods or attributes from the\n",
        "ABC.\n",
        "\n",
        "### Remark\n",
        "\n",
        "Virtual subclasses do not inherit from their registered ABCs, and\n",
        "are not checked for conformance to the ABC interface at any time,\n",
        "not even when they are instantiated. It’s up to the subclass to actually implement all the methods needed to avoid runtime errors"
      ]
    },
    {
      "cell_type": "code",
      "metadata": {
        "id": "iGR7Znkax4ui",
        "colab_type": "code",
        "colab": {}
      },
      "source": [
        ""
      ],
      "execution_count": 0,
      "outputs": []
    }
  ]
}