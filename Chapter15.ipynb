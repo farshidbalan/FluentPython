{
  "nbformat": 4,
  "nbformat_minor": 0,
  "metadata": {
    "colab": {
      "name": "Chapter15.ipynb",
      "version": "0.3.2",
      "provenance": [],
      "include_colab_link": true
    },
    "kernelspec": {
      "name": "python3",
      "display_name": "Python 3"
    }
  },
  "cells": [
    {
      "cell_type": "markdown",
      "metadata": {
        "id": "view-in-github",
        "colab_type": "text"
      },
      "source": [
        "<a href=\"https://colab.research.google.com/github/farshidbalan/FluentPython/blob/master/Chapter15.ipynb\" target=\"_parent\"><img src=\"https://colab.research.google.com/assets/colab-badge.svg\" alt=\"Open In Colab\"/></a>"
      ]
    },
    {
      "cell_type": "markdown",
      "metadata": {
        "id": "CO_elAvUAeMx",
        "colab_type": "text"
      },
      "source": [
        "# Context Managers and else Blocks\n"
      ]
    },
    {
      "cell_type": "markdown",
      "metadata": {
        "id": "8mc4E9l8BFHz",
        "colab_type": "text"
      },
      "source": [
        "The semantics of for/else, while/else, and try/else are closely related, but very\n",
        "different from if/else. Initially the word else actually hindered my understanding of\n",
        "these features, but eventually I got used to it.\n",
        "Here are the rules:\n",
        "\n",
        "for\n",
        "\n",
        "The else block will run only if and when the for loop runs to completion (i.e., not\n",
        "if the for is aborted with a break).\n",
        "\n",
        "while\n",
        "\n",
        "The else block will run only if and when the while loop exits because the condition\n",
        "became falsy (i.e., not when the while is aborted with a break).\n",
        "\n",
        "try\n",
        "\n",
        "The else block will only run if no exception is raised in the try block. The official\n",
        "docs also state: “Exceptions in the else clause are not handled by the preceding\n",
        "except clauses.”\n",
        "\n",
        "In all cases, the else clause is also skipped if an exception or a return, break, or\n",
        "continue statement causes control to jump out of the main block of the compound\n",
        "statement."
      ]
    },
    {
      "cell_type": "markdown",
      "metadata": {
        "id": "w-PSsE5WC7dT",
        "colab_type": "text"
      },
      "source": [
        "Context manager objects exist to control a with statement, just like iterators exist to\n",
        "control a for statement.\n",
        "\n",
        "The with statement was designed to simplify the try/finally pattern, which guarantees\n",
        "that some operation is performed after a block of code, even if the block is aborted\n",
        "because of an exception, a return or sys.exit() call. The code in the finally clause\n",
        "usually releases a critical resource or restores some previous state that was temporarily\n",
        "changed.\n",
        "\n",
        "The context manager protocol consists of the \\_\\_enter\\_\\_ and \\_\\_exit\\_\\_ methods. At the\n",
        "start of the with, \\_\\_enter\\_\\_ is invoked on the context manager object. The role of the\n",
        "finally clause is played by a call to \\_\\_exit\\_\\_ on the context manager object at the end\n",
        "of the with block."
      ]
    },
    {
      "cell_type": "code",
      "metadata": {
        "id": "120RRk00AfzW",
        "colab_type": "code",
        "colab": {}
      },
      "source": [
        "# Example 15-3. mirror.py: code for the LookingGlass context manager class\n",
        "\n",
        "class LookingGlass:\n",
        "  \n",
        "  def __enter__(self):\n",
        "    import sys\n",
        "    self.original_write = sys.stdout.write   # Hold the original sys.stdout.write method in an instance attribute for later use.\n",
        "    sys.stdout.write = self.reverse_write\n",
        "    \n",
        "    return 'JABBERWOCKY'\n",
        "  \n",
        "  def reverse_write(self, text):\n",
        "    self.original_write(text[::-1])\n",
        "    \n",
        "  def __exit__(self, exc_type, exc_value, traceback):\n",
        "    sys.stdout.write = self.original_write\n",
        "    if exc_type is ZeroDivisionError:\n",
        "      print('Please DO NOT divide by zero!')\n",
        "      return True"
      ],
      "execution_count": 0,
      "outputs": []
    },
    {
      "cell_type": "markdown",
      "metadata": {
        "id": "LjYlt0ASRHUI",
        "colab_type": "text"
      },
      "source": [
        "## Using @contextmanager\n",
        "\n",
        "This function is a decorator that can be used to define a factory function for with statement context managers, without needing to create a class or separate \\_\\_enter\\_\\_() and \\_\\_exit\\_\\_() methods.\n",
        "\n",
        "While many objects natively support use in with statements, sometimes a resource needs to be managed that isn’t a context manager in its own right, and doesn’t implement a close() method for use with contextlib.\n",
        "\n",
        "\n",
        "In a generator decorated with @contextmanager, yield is used to split the body of the\n",
        "function in two parts: everything before the yield will be executed at the beginning of\n",
        "the while block when the interpreter calls \\_\\_enter\\_\\_; the code after yield will run\n",
        "when \\_\\_exit\\_\\_ is called at the end of the block"
      ]
    },
    {
      "cell_type": "code",
      "metadata": {
        "id": "ROcQJx_3NmkD",
        "colab_type": "code",
        "colab": {}
      },
      "source": [
        "# example 15-5. mirror_gen.py: a context manager implemented with a generator\n",
        "import contextlib\n",
        "@contextlib.contextmanager\n",
        "def looking_glass():\n",
        "  import sys\n",
        "  original_write = sys.stdout.write\n",
        "  \n",
        "  def reverse_write(text):              # Define custom reverse_write function; original_write will be available in the closure.\n",
        "    original_write(text[::-1])\n",
        "    \n",
        "  sys.stdout.write = reverse_write\n",
        "  yield 'JABBERWOCKY'\n",
        "  sys.stdout.write = original_write"
      ],
      "execution_count": 0,
      "outputs": []
    },
    {
      "cell_type": "code",
      "metadata": {
        "id": "7m5v_1TkdD_l",
        "colab_type": "code",
        "colab": {
          "base_uri": "https://localhost:8080/",
          "height": 51
        },
        "outputId": "44e4cbc4-f863-408c-e269-bd81998fd8e2"
      },
      "source": [
        "# Example 15-6. Test driving the looking_glass context manager function\n",
        "with looking_glass() as what:\n",
        "  print('Alice, Kitty and Snowdrop')\n",
        "  print(what)"
      ],
      "execution_count": 2,
      "outputs": [
        {
          "output_type": "stream",
          "text": [
            "pordwonS dna yttiK ,ecilA\n",
            "YKCOWREBBAJ\n"
          ],
          "name": "stdout"
        }
      ]
    },
    {
      "cell_type": "markdown",
      "metadata": {
        "id": "PcSE-EcNd-Nh",
        "colab_type": "text"
      },
      "source": [
        "### Remark\n",
        "\n",
        "Essentially the contextlib.contextmanager decorator wraps the function in a class\n",
        "that implements the \\_\\_enter\\_\\_ and \\_\\_exit\\_\\_ methods.4\n",
        "The \\_\\_enter\\_\\_ method of that class:\n",
        "1. Invokes the generator function and holds on to the generator object—let’s call it gen.\n",
        "2. Calls next(gen) to make it run to the yield keyword.\n",
        "3. Returns the value yielded by next(gen), so it can be bound to a target variable in\n",
        "the with/as form.\n",
        "\n",
        "When the with block terminates, the \\_\\_exit\\_\\_ method:\n",
        "1. Checks an exception was passed as exc_type; if so, gen.throw(exception) is in‐\n",
        "voked, causing the exception to be raised in the yield line inside the generator\n",
        "function body.\n",
        "2. Otherwise, next(gen) is called, resuming the execution of the generator function\n",
        "body after the yield."
      ]
    },
    {
      "cell_type": "code",
      "metadata": {
        "id": "11q8FUCUdcAq",
        "colab_type": "code",
        "colab": {}
      },
      "source": [
        "# Example 15-7. mirror_gen_exc.py: generator-based context manager implementing exception handling—same external behavior as Example 15-3\n",
        "import contextlib\n",
        "@contextlib.contextmanager\n",
        "def looking_glass():\n",
        "  import sys\n",
        "  original_write = sys.stdout.write\n",
        "  \n",
        "  def reverse_write(text):             \n",
        "    original_write(text[::-1])\n",
        "    \n",
        "  sys.stdout.write = reverse_write\n",
        "  msg = ''\n",
        "  try:\n",
        "    yield 'JABBERWOCKY'\n",
        "  except ZeroDivisionError:\n",
        "    msg = 'Please DO NOT divide by zero!'\n",
        "  finally:\n",
        "    sys.stdout.write = original_write\n",
        "    if msg:\n",
        "      print(msg)"
      ],
      "execution_count": 0,
      "outputs": []
    },
    {
      "cell_type": "markdown",
      "metadata": {
        "id": "o4n5X9BGgTi3",
        "colab_type": "text"
      },
      "source": [
        "## Further Reading\n",
        "Chapter 8, “Compound Statements,” in The Python Language Reference says pretty much\n",
        "everything there is to say about else clauses in if, for, while, and try statements.\n",
        "Regarding Pythonic usage of try/except, with or without else, Raymond Hettinger\n",
        "has a brilliant answer to the question “Is it a good practice to use try-except-else in\n",
        "Python?” in StackOverflow. Alex Martelli’s Python in a Nutshell, 2E (O’Reilly), has a\n",
        "chapter about exceptions with an excellent discussion of the EAFP style, crediting com‐\n",
        "puting pioneer Grace Hopper for coining the phrase “It’s easier to ask forgiveness than\n",
        "permission\"."
      ]
    },
    {
      "cell_type": "code",
      "metadata": {
        "id": "kKNHYyxvgZ0N",
        "colab_type": "code",
        "colab": {}
      },
      "source": [
        ""
      ],
      "execution_count": 0,
      "outputs": []
    }
  ]
}