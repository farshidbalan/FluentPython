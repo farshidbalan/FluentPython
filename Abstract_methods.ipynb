{
  "nbformat": 4,
  "nbformat_minor": 0,
  "metadata": {
    "colab": {
      "name": "Abstract methods.ipynb",
      "version": "0.3.2",
      "provenance": [],
      "include_colab_link": true
    },
    "kernelspec": {
      "name": "python3",
      "display_name": "Python 3"
    }
  },
  "cells": [
    {
      "cell_type": "markdown",
      "metadata": {
        "id": "view-in-github",
        "colab_type": "text"
      },
      "source": [
        "<a href=\"https://colab.research.google.com/github/farshidbalan/FluentPython/blob/master/Abstract_methods.ipynb\" target=\"_parent\"><img src=\"https://colab.research.google.com/assets/colab-badge.svg\" alt=\"Open In Colab\"/></a>"
      ]
    },
    {
      "cell_type": "markdown",
      "metadata": {
        "id": "5xqAGbvf4_Xg",
        "colab_type": "text"
      },
      "source": [
        "Source: https://julien.danjou.info/guide-python-static-class-abstract-methods/ \n",
        "\n",
        "An abstract method is a method defined in a base class, but that may not provide any implementation. In Java, it would describe the methods of an interface.\n",
        "\n",
        "So the simplest way to write an abstract method in Python is:"
      ]
    },
    {
      "cell_type": "code",
      "metadata": {
        "id": "0BEdK_Sx5Iqx",
        "colab_type": "code",
        "colab": {}
      },
      "source": [
        "class Pizza(object):\n",
        "    def get_radius(self):\n",
        "        raise NotImplementedError"
      ],
      "execution_count": 0,
      "outputs": []
    },
    {
      "cell_type": "markdown",
      "metadata": {
        "id": "skkfxJru5JWP",
        "colab_type": "text"
      },
      "source": [
        "Any class inheriting from Pizza should implement and override the __get_radius__ method, otherwise an exception would be raised.\n",
        "\n",
        "This particular way of implementing abstract method has a drawback. If you write a class that inherits from Pizza and forget to implement get_radius, the error will only be raised when you'll try to use that method."
      ]
    },
    {
      "cell_type": "code",
      "metadata": {
        "id": "XdW-A3U98VeK",
        "colab_type": "code",
        "colab": {
          "base_uri": "https://localhost:8080/",
          "height": 267
        },
        "outputId": "65a0d0dc-2d2e-4b03-81a7-5288663c0f34"
      },
      "source": [
        ">>> Pizza()\n",
        ">>> Pizza().get_radius()\n"
      ],
      "execution_count": 3,
      "outputs": [
        {
          "output_type": "error",
          "ename": "NotImplementedError",
          "evalue": "ignored",
          "traceback": [
            "\u001b[0;31m---------------------------------------------------------------------------\u001b[0m",
            "\u001b[0;31mNotImplementedError\u001b[0m                       Traceback (most recent call last)",
            "\u001b[0;32m<ipython-input-3-05bee864b34f>\u001b[0m in \u001b[0;36m<module>\u001b[0;34m()\u001b[0m\n\u001b[1;32m      1\u001b[0m \u001b[0mPizza\u001b[0m\u001b[0;34m(\u001b[0m\u001b[0;34m)\u001b[0m\u001b[0;34m\u001b[0m\u001b[0;34m\u001b[0m\u001b[0m\n\u001b[0;32m----> 2\u001b[0;31m \u001b[0mPizza\u001b[0m\u001b[0;34m(\u001b[0m\u001b[0;34m)\u001b[0m\u001b[0;34m.\u001b[0m\u001b[0mget_radius\u001b[0m\u001b[0;34m(\u001b[0m\u001b[0;34m)\u001b[0m\u001b[0;34m\u001b[0m\u001b[0;34m\u001b[0m\u001b[0m\n\u001b[0m",
            "\u001b[0;32m<ipython-input-1-cc0ea4c7451d>\u001b[0m in \u001b[0;36mget_radius\u001b[0;34m(self)\u001b[0m\n\u001b[1;32m      1\u001b[0m \u001b[0;32mclass\u001b[0m \u001b[0mPizza\u001b[0m\u001b[0;34m(\u001b[0m\u001b[0mobject\u001b[0m\u001b[0;34m)\u001b[0m\u001b[0;34m:\u001b[0m\u001b[0;34m\u001b[0m\u001b[0;34m\u001b[0m\u001b[0m\n\u001b[1;32m      2\u001b[0m     \u001b[0;32mdef\u001b[0m \u001b[0mget_radius\u001b[0m\u001b[0;34m(\u001b[0m\u001b[0mself\u001b[0m\u001b[0;34m)\u001b[0m\u001b[0;34m:\u001b[0m\u001b[0;34m\u001b[0m\u001b[0;34m\u001b[0m\u001b[0m\n\u001b[0;32m----> 3\u001b[0;31m         \u001b[0;32mraise\u001b[0m \u001b[0mNotImplementedError\u001b[0m\u001b[0;34m\u001b[0m\u001b[0;34m\u001b[0m\u001b[0m\n\u001b[0m",
            "\u001b[0;31mNotImplementedError\u001b[0m: "
          ]
        }
      ]
    },
    {
      "cell_type": "markdown",
      "metadata": {
        "id": "lSEkdl7k-z0I",
        "colab_type": "text"
      },
      "source": [
        "here's a way to trigger this way earlier, when the object is being instantiated, using the abc module that's provided with Python."
      ]
    },
    {
      "cell_type": "code",
      "metadata": {
        "id": "3nXCQODQ8W2g",
        "colab_type": "code",
        "colab": {}
      },
      "source": [
        "import abc\n",
        "\n",
        "class BasePizza(object):\n",
        "    __metaclass__  = abc.ABCMeta\n",
        "\n",
        "    @abc.abstractmethod\n",
        "    def get_radius(self):\n",
        "         \"\"\"Method that should do something.\"\"\""
      ],
      "execution_count": 0,
      "outputs": []
    },
    {
      "cell_type": "markdown",
      "metadata": {
        "id": "QaS3QPQd_G-2",
        "colab_type": "text"
      },
      "source": [
        "Using abc and its special class, as soon as you'll try to instantiate BasePizza or any class inheriting from it, you'll get a TypeError.\n",
        "\n"
      ]
    },
    {
      "cell_type": "code",
      "metadata": {
        "id": "otw_lWME-_Ex",
        "colab_type": "code",
        "colab": {
          "base_uri": "https://localhost:8080/",
          "height": 34
        },
        "outputId": "70dc87d2-49d5-483e-d250-54463722da3c"
      },
      "source": [
        ">>> BasePizza()\n"
      ],
      "execution_count": 6,
      "outputs": [
        {
          "output_type": "execute_result",
          "data": {
            "text/plain": [
              "<__main__.BasePizza at 0x7f2314a6d1d0>"
            ]
          },
          "metadata": {
            "tags": []
          },
          "execution_count": 6
        }
      ]
    }
  ]
}