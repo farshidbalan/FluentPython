{
  "nbformat": 4,
  "nbformat_minor": 0,
  "metadata": {
    "colab": {
      "name": "Interfaces in Python.ipynb",
      "version": "0.3.2",
      "provenance": [],
      "include_colab_link": true
    },
    "kernelspec": {
      "name": "python3",
      "display_name": "Python 3"
    }
  },
  "cells": [
    {
      "cell_type": "markdown",
      "metadata": {
        "id": "view-in-github",
        "colab_type": "text"
      },
      "source": [
        "<a href=\"https://colab.research.google.com/github/farshidbalan/FluentPython/blob/master/Interfaces_in_Python.ipynb\" target=\"_parent\"><img src=\"https://colab.research.google.com/assets/colab-badge.svg\" alt=\"Open In Colab\"/></a>"
      ]
    },
    {
      "cell_type": "markdown",
      "metadata": {
        "id": "EKKs1EJPXPc7",
        "colab_type": "text"
      },
      "source": [
        "# Interfaces in Python: Protocols and ABCs\n",
        "\n",
        "Source: http://masnun.rocks/2017/04/15/interfaces-in-python-protocols-and-abcs/ \n",
        "\n",
        "\n",
        "The idea of interface is really simple - it is the description of how an object behaves. An interface tells us what an object can do to play it’s role in a system. In object oriented programming, an interface is a set of publicly accessible methods on an object which can be used by other parts of the program to interact with that object. Interfaces set clear boundaries and help us organize our code better. In some langauges like Java, interfaces are part of the language syntax and strictly enforced. However, in Python, things are a little different. In this post, we will explore how interfaces can be implemented in Python.\n",
        "\n",
        "## Informal Interfaces: Protocols / Duck Typing\n",
        "There’s no interface keyword in Python. The Java / C# way of using interfaces is not available here. In the dynamic language world, things are more implicit. We’re more focused on how an object behaves, rather than it’s type/class.\n",
        "\n",
        "__If it talks and walks like a duck, then it is a duck__\n",
        "\n",
        "So if we have an object that can fly and quack like a duck, we consider it as a duck. This called “Duck Typing”. In runtime, instead of checking the type of an object, we try to invoke a method we expect the object to have. If it behaves the way we expected, we’re fine and move along. But if it doesn’t, things might blow up. To be safe, we often handle the exceptions in a try..except block or use hasattr to check if an object has the specific method.\n",
        "\n",
        "\n",
        "In the Python world, we often hear “file like object” or “an iterable” - if an object has a read method, it can be treated as a file like object, if it has an \\_\\_iter\\_\\_ magic method, it is an iterable. So any object, regardless of it’s class/type, can conform to a certain interface just by implementing the expected behavior (methods). These informal interfaces are termed as protocols. Since they are informal, they can not be formally enforced. They are mostly illustrated in the documentations or defined by convention. All the cool magic methods you have heard about - \\_\\_len\\_\\_, \\_\\_contains\\_\\_, \\_\\_iter\\_\\_ - they all help an object to conform to some sort of protocols.\n",
        "\n"
      ]
    },
    {
      "cell_type": "code",
      "metadata": {
        "id": "m4gmlmBUYM8e",
        "colab_type": "code",
        "outputId": "fc5bdb73-e41b-47ae-e808-a82d0bd0933c",
        "colab": {
          "base_uri": "https://localhost:8080/",
          "height": 86
        }
      },
      "source": [
        "class Team:\n",
        "    def __init__(self, members):\n",
        "        self.__members = members\n",
        "\n",
        "    def __len__(self):\n",
        "        return len(self.__members)\n",
        "\n",
        "    def __contains__(self, member):\n",
        "        return member in self.__members\n",
        "\n",
        "\n",
        "justice_league_fav = Team([\"batman\", \"wonder woman\", \"flash\"])\n",
        "\n",
        "# Sized protocol\n",
        "print(len(justice_league_fav))\n",
        "\n",
        "# Container protocol\n",
        "print(\"batman\" in justice_league_fav)\n",
        "print(\"superman\" in justice_league_fav)\n",
        "print(\"cyborg\" not in justice_league_fav)"
      ],
      "execution_count": 0,
      "outputs": [
        {
          "output_type": "stream",
          "text": [
            "3\n",
            "True\n",
            "False\n",
            "True\n"
          ],
          "name": "stdout"
        }
      ]
    },
    {
      "cell_type": "markdown",
      "metadata": {
        "id": "MMwRTWQ0YTZm",
        "colab_type": "text"
      },
      "source": [
        "In our above example, by implementing the \\_\\_len\\_\\_ and \\_\\_contains\\_\\_ method, we can now directly use the len function on a Team instance and check for membership using the in operator. If we add the \\_\\_iter\\_\\_ method to implement the iterable protocol, we would even be able to do something like:"
      ]
    },
    {
      "cell_type": "code",
      "metadata": {
        "id": "ccZRUrvKYOAk",
        "colab_type": "code",
        "colab": {}
      },
      "source": [
        "for member in justice_league_fav:\n",
        "    print(member)"
      ],
      "execution_count": 0,
      "outputs": []
    },
    {
      "cell_type": "markdown",
      "metadata": {
        "id": "hu5A21OKYiPH",
        "colab_type": "text"
      },
      "source": [
        "Without implementing the \\_\\_iter\\_\\_ method, if we try to iterate over the team, we will get an error like:\n",
        "\n",
        "TypeError: 'Team' object is not iterable\n",
        "So we can see that protocols are like informal interfaces. We can implement a protocol by implementing the methods expected by it."
      ]
    },
    {
      "cell_type": "markdown",
      "metadata": {
        "id": "9e8LMojXY8ZC",
        "colab_type": "text"
      },
      "source": [
        "## Formal Interfaces: ABCs\n",
        "\n",
        "While protocols work fine in many cases, there are situations where informal interfaces or duck typing in general can cause confusion. For example, a Bird and Aeroplane both can fly(). But they are not the same thing even if they implement the same interfaces / protocols. Abstract Base Classes or ABCs can help solve this issue.\n",
        "\n",
        "The concept behind ABCs is simple - \n",
        "1. we define base classes which are abstract in nature. \n",
        "2. We define certain methods on the base classes as abstract methods. \n",
        "\n",
        "THEN:  __any objects deriving from these bases classes are forced to implement those methods.__ And since we’re using base classes, if we see an object has our class as a base class, we can say that this object implements the interface. That is now we can use types to tell if an object implements a certain interface. Let’s see an example."
      ]
    },
    {
      "cell_type": "code",
      "metadata": {
        "id": "cB-XyqagYoZt",
        "colab_type": "code",
        "colab": {}
      },
      "source": [
        "import abc\n",
        "\n",
        "class Bird(abc.ABC):\n",
        "    @abc.abstractmethod\n",
        "    def fly(self):\n",
        "        pass"
      ],
      "execution_count": 0,
      "outputs": []
    },
    {
      "cell_type": "markdown",
      "metadata": {
        "id": "XaxHFZlVaBIe",
        "colab_type": "text"
      },
      "source": [
        "There’s the abc module which has a metaclass named ABCMeta. ABCs are created from this metaclass. So we can either use it directly as the metaclass of our ABC (something like this - class Bird(metaclass=abc.ABCMeta):) or we can subclass from the abc.ABC class which has the abc.ABCMeta as it’s metaclass already.\n",
        "\n",
        "Then we have to use the abc.abstractmethod decorator to mark our methods abstract. \n",
        "\n",
        "Important: __if any class derives from our base Bird class, it must implement the fly method too.__ The following code would fail:"
      ]
    },
    {
      "cell_type": "code",
      "metadata": {
        "id": "7CCadDj1Zahq",
        "colab_type": "code",
        "outputId": "76bd5940-d495-48d5-9104-4b2aa7f28e91",
        "colab": {
          "base_uri": "https://localhost:8080/",
          "height": 199
        }
      },
      "source": [
        "class Parrot(Bird):\n",
        "    pass\n",
        "\n",
        "p = Parrot()\n"
      ],
      "execution_count": 0,
      "outputs": [
        {
          "output_type": "error",
          "ename": "TypeError",
          "evalue": "ignored",
          "traceback": [
            "\u001b[0;31m---------------------------------------------------------------------------\u001b[0m",
            "\u001b[0;31mTypeError\u001b[0m                                 Traceback (most recent call last)",
            "\u001b[0;32m<ipython-input-3-d76f7476ac6d>\u001b[0m in \u001b[0;36m<module>\u001b[0;34m()\u001b[0m\n\u001b[1;32m      2\u001b[0m     \u001b[0;32mpass\u001b[0m\u001b[0;34m\u001b[0m\u001b[0;34m\u001b[0m\u001b[0m\n\u001b[1;32m      3\u001b[0m \u001b[0;34m\u001b[0m\u001b[0m\n\u001b[0;32m----> 4\u001b[0;31m \u001b[0mp\u001b[0m \u001b[0;34m=\u001b[0m \u001b[0mParrot\u001b[0m\u001b[0;34m(\u001b[0m\u001b[0;34m)\u001b[0m\u001b[0;34m\u001b[0m\u001b[0;34m\u001b[0m\u001b[0m\n\u001b[0m",
            "\u001b[0;31mTypeError\u001b[0m: Can't instantiate abstract class Parrot with abstract methods fly"
          ]
        }
      ]
    },
    {
      "cell_type": "markdown",
      "metadata": {
        "id": "OdNnMvIcaWUR",
        "colab_type": "text"
      },
      "source": [
        "to fix it we write"
      ]
    },
    {
      "cell_type": "code",
      "metadata": {
        "id": "mUlHAhIEaZN9",
        "colab_type": "code",
        "colab": {}
      },
      "source": [
        "class Parrot(Bird):\n",
        "    def fly(self):\n",
        "        print(\"Flying\")\n",
        "\n",
        "\n",
        "p = Parrot()"
      ],
      "execution_count": 0,
      "outputs": []
    },
    {
      "cell_type": "markdown",
      "metadata": {
        "id": "oS7bR7Igaw81",
        "colab_type": "text"
      },
      "source": [
        "Now let’s define another ABC named Aeroplane like this:"
      ]
    },
    {
      "cell_type": "code",
      "metadata": {
        "id": "G4uElB6saRjN",
        "colab_type": "code",
        "colab": {}
      },
      "source": [
        "class Aeroplane(abc.ABC):\n",
        "    @abc.abstractmethod\n",
        "    def fly(self):\n",
        "        pass\n",
        "\n",
        "\n",
        "class Boeing(Aeroplane):\n",
        "    def fly(self):\n",
        "        print(\"Flying!\")\n",
        "\n",
        "b = Boeing()"
      ],
      "execution_count": 0,
      "outputs": []
    },
    {
      "cell_type": "markdown",
      "metadata": {
        "id": "1Sd4ZrR7bW3Q",
        "colab_type": "text"
      },
      "source": [
        "Now if we compare:"
      ]
    },
    {
      "cell_type": "code",
      "metadata": {
        "id": "SJQ-FbPda0Kj",
        "colab_type": "code",
        "outputId": "ed63ae27-b3c7-4401-daff-2ab72d3e59e8",
        "colab": {
          "base_uri": "https://localhost:8080/",
          "height": 34
        }
      },
      "source": [
        "isinstance(p, Aeroplane)"
      ],
      "execution_count": 0,
      "outputs": [
        {
          "output_type": "execute_result",
          "data": {
            "text/plain": [
              "False"
            ]
          },
          "metadata": {
            "tags": []
          },
          "execution_count": 8
        }
      ]
    },
    {
      "cell_type": "code",
      "metadata": {
        "id": "10zxyF4Rbclj",
        "colab_type": "code",
        "outputId": "c8760122-8232-4bcb-939f-eb2f9bdf174c",
        "colab": {
          "base_uri": "https://localhost:8080/",
          "height": 34
        }
      },
      "source": [
        "isinstance(b, Bird)"
      ],
      "execution_count": 0,
      "outputs": [
        {
          "output_type": "execute_result",
          "data": {
            "text/plain": [
              "False"
            ]
          },
          "metadata": {
            "tags": []
          },
          "execution_count": 7
        }
      ]
    },
    {
      "cell_type": "markdown",
      "metadata": {
        "id": "nud57jcddLWL",
        "colab_type": "text"
      },
      "source": [
        "We can see even though both objects have the same method fly but we can now differentiate easily which one implements the Bird interface and which implements the Aeroplane interface.\n",
        "\n",
        "We saw how we can create our own, custom ABCs. But it is often discouraged to create custom ABCs and rather use/subclass the built in ones. The Python standard library has many useful ABCs that we can easily reuse. We can get a list of useful built in ABCs in the collections.abc module - https://docs.python.org/3/library/collections.abc.html#module-collections.abc. Before writing your own, please do check if there’s an ABC for the same purpose in the standard library."
      ]
    },
    {
      "cell_type": "markdown",
      "metadata": {
        "id": "5f_nD6jueS7T",
        "colab_type": "text"
      },
      "source": [
        "## ABCs and Virtual Subclass\n",
        "We can also register a class as a virtual subclass of an ABC. In that case, even if that class doesn’t subclass our ABC, it will still be treated as a subclass of the ABC (and thus accepted to have implemented the interface). Example codes will be able to demonstrate this better:"
      ]
    },
    {
      "cell_type": "code",
      "metadata": {
        "id": "Nx1uhyG0eaI4",
        "colab_type": "code",
        "colab": {}
      },
      "source": [
        "@Bird.register\n",
        "class Robin:\n",
        "    pass\n",
        "\n",
        "r = Robin()"
      ],
      "execution_count": 0,
      "outputs": []
    },
    {
      "cell_type": "markdown",
      "metadata": {
        "id": "mWGfAA4_enXE",
        "colab_type": "text"
      },
      "source": [
        "And then:\n",
        "\n"
      ]
    },
    {
      "cell_type": "code",
      "metadata": {
        "id": "PG8CqbtdehUl",
        "colab_type": "code",
        "outputId": "1aa1bca6-9f21-4bd2-8819-b69fa5d52acf",
        "colab": {
          "base_uri": "https://localhost:8080/",
          "height": 34
        }
      },
      "source": [
        ">>> issubclass(Robin, Bird)\n",
        "True\n",
        ">>> isinstance(r, Bird)\n",
        "True\n",
        ">>>"
      ],
      "execution_count": 0,
      "outputs": [
        {
          "output_type": "execute_result",
          "data": {
            "text/plain": [
              "True"
            ]
          },
          "metadata": {
            "tags": []
          },
          "execution_count": 10
        }
      ]
    },
    {
      "cell_type": "markdown",
      "metadata": {
        "id": "SMI5AagiewMV",
        "colab_type": "text"
      },
      "source": [
        "In this case, even if Robin does not subclass our ABC or define the abstract method, we can register it as a Bird. issubclass and isinstance behavior can be overloaded by adding two relevant magic methods. Read more on that here - https://www.python.org/dev/peps/pep-3119/#overloading-isinstance-and-issubclass"
      ]
    },
    {
      "cell_type": "markdown",
      "metadata": {
        "id": "TlZexv_AeIHW",
        "colab_type": "text"
      },
      "source": [
        "### Other Sources:\n",
        "\n",
        "https://pymotw.com/3/abc/ \n",
        "\n",
        "https://bip.weizmann.ac.il/course/python/PyMOTW/PyMOTW/docs/abc/index.html "
      ]
    },
    {
      "cell_type": "markdown",
      "metadata": {
        "id": "h3VWhf6BhOpD",
        "colab_type": "text"
      },
      "source": [
        "# A new type of subclass¶\n",
        "With the introduction of delegation-based instance and subclass checks, Python provides a new type of subclass, and thus a new way to relate classes together. Now a subclass may be a real subclass, obtained using inheritance\n",
        "\n",
        "class ChildClass(ParentClass):\n",
        "    pass\n",
        "or can be a virtual subclass, obtained through registration"
      ]
    },
    {
      "cell_type": "code",
      "metadata": {
        "id": "F0ZQDmAdhVwS",
        "colab_type": "code",
        "outputId": "eb2cf966-9860-42dd-a7d9-0e515e86178f",
        "colab": {
          "base_uri": "https://localhost:8080/",
          "height": 182
        }
      },
      "source": [
        "class ChildClass(ParentClass):\n",
        "    pass"
      ],
      "execution_count": 0,
      "outputs": [
        {
          "output_type": "error",
          "ename": "NameError",
          "evalue": "ignored",
          "traceback": [
            "\u001b[0;31m---------------------------------------------------------------------------\u001b[0m",
            "\u001b[0;31mNameError\u001b[0m                                 Traceback (most recent call last)",
            "\u001b[0;32m<ipython-input-12-c5fb81c65c62>\u001b[0m in \u001b[0;36m<module>\u001b[0;34m()\u001b[0m\n\u001b[0;32m----> 1\u001b[0;31m \u001b[0;32mclass\u001b[0m \u001b[0mChildClass\u001b[0m\u001b[0;34m(\u001b[0m\u001b[0mParentClass\u001b[0m\u001b[0;34m)\u001b[0m\u001b[0;34m:\u001b[0m\u001b[0;34m\u001b[0m\u001b[0;34m\u001b[0m\u001b[0m\n\u001b[0m\u001b[1;32m      2\u001b[0m     \u001b[0;32mpass\u001b[0m\u001b[0;34m\u001b[0m\u001b[0;34m\u001b[0m\u001b[0m\n",
            "\u001b[0;31mNameError\u001b[0m: name 'ParentClass' is not defined"
          ]
        }
      ]
    },
    {
      "cell_type": "markdown",
      "metadata": {
        "id": "YaZOBhgMha0P",
        "colab_type": "text"
      },
      "source": [
        "or can be a virtual subclass, obtained through registration\n"
      ]
    },
    {
      "cell_type": "code",
      "metadata": {
        "id": "Bf2wIR53hbpI",
        "colab_type": "code",
        "outputId": "896e37e1-ec06-4866-96dc-15dab17304d8",
        "colab": {
          "base_uri": "https://localhost:8080/",
          "height": 164
        }
      },
      "source": [
        "ParentClass.register(ChildClass)"
      ],
      "execution_count": 0,
      "outputs": [
        {
          "output_type": "error",
          "ename": "NameError",
          "evalue": "ignored",
          "traceback": [
            "\u001b[0;31m---------------------------------------------------------------------------\u001b[0m",
            "\u001b[0;31mNameError\u001b[0m                                 Traceback (most recent call last)",
            "\u001b[0;32m<ipython-input-13-eebd88b7eaa6>\u001b[0m in \u001b[0;36m<module>\u001b[0;34m()\u001b[0m\n\u001b[0;32m----> 1\u001b[0;31m \u001b[0mParentClass\u001b[0m\u001b[0;34m.\u001b[0m\u001b[0mregister\u001b[0m\u001b[0;34m(\u001b[0m\u001b[0mChildClass\u001b[0m\u001b[0;34m)\u001b[0m\u001b[0;34m\u001b[0m\u001b[0;34m\u001b[0m\u001b[0m\n\u001b[0m",
            "\u001b[0;31mNameError\u001b[0m: name 'ParentClass' is not defined"
          ]
        }
      ]
    },
    {
      "cell_type": "markdown",
      "metadata": {
        "id": "cMasxZjEhqYh",
        "colab_type": "text"
      },
      "source": [
        "### What is the  difference between a real and a virtual subclass?\n",
        "\n",
        "a real subclass knows its relationship with the parent class through its \\_\\_bases\\_\\_ attribute, and can thus implicitly delegate the resolution of missing methods. A virtual subclass knows nothing about the class that registered it, and nowhere in the subclass will you find something that links it to the parent class. Thus, a virtual parent class is useful only as a categorization."
      ]
    },
    {
      "cell_type": "markdown",
      "metadata": {
        "id": "5xPdLFfZiRdz",
        "colab_type": "text"
      },
      "source": [
        "### Abstract Base Classes¶\n",
        "Classes that can register other classes, thus becoming virtual parents of those, are called in Python Abstract Base Classes, or ABCs.\n",
        "\n",
        "The name of this new language element is important. ABCs are first of all classes, just like any other class you can create in Python, and they can be subclassed in the usual way to create taxonomies. They are also meant to be base classes, that is classes that represent fundamental behaviours or categories. Last, they are abstract. This has a very precise meaning in Python and will be the subject of the last part of this post.\n",
        "\n",
        "The classes provided by the collections module are Abstract Base Classes, and they set themselves as virtual parents of some base types in the same module. If you check the _collections_abc.py file in your Python 3 installation (for example in /usr/lib/python3.4/_collections_abc.py) you will find code like this"
      ]
    },
    {
      "cell_type": "markdown",
      "metadata": {
        "id": "CPy5El2mjJn-",
        "colab_type": "text"
      },
      "source": [
        ""
      ]
    },
    {
      "cell_type": "code",
      "metadata": {
        "id": "fWENEpyIirXi",
        "colab_type": "code",
        "outputId": "c24f7b51-d537-4a91-9b0b-da5d35a08203",
        "colab": {
          "base_uri": "https://localhost:8080/",
          "height": 370
        }
      },
      "source": [
        "[...]\n",
        "\n",
        "Sequence.register(tuple)\n",
        "Sequence.register(str)\n",
        "Sequence.register(range)\n",
        "\n",
        "[...]\n",
        "\n",
        "MutableSequence.register(list)\n",
        "\n",
        "[...]"
      ],
      "execution_count": 0,
      "outputs": [
        {
          "output_type": "error",
          "ename": "ModuleNotFoundError",
          "evalue": "ignored",
          "traceback": [
            "\u001b[0;31m---------------------------------------------------------------------------\u001b[0m",
            "\u001b[0;31mModuleNotFoundError\u001b[0m                       Traceback (most recent call last)",
            "\u001b[0;32m<ipython-input-15-7e244756c641>\u001b[0m in \u001b[0;36m<module>\u001b[0;34m()\u001b[0m\n\u001b[1;32m      1\u001b[0m \u001b[0;34m[\u001b[0m\u001b[0;34m...\u001b[0m\u001b[0;34m]\u001b[0m\u001b[0;34m\u001b[0m\u001b[0;34m\u001b[0m\u001b[0m\n\u001b[1;32m      2\u001b[0m \u001b[0;34m\u001b[0m\u001b[0m\n\u001b[0;32m----> 3\u001b[0;31m \u001b[0;32mimport\u001b[0m \u001b[0mSequence\u001b[0m\u001b[0;34m\u001b[0m\u001b[0;34m\u001b[0m\u001b[0m\n\u001b[0m\u001b[1;32m      4\u001b[0m \u001b[0mSequence\u001b[0m\u001b[0;34m.\u001b[0m\u001b[0mregister\u001b[0m\u001b[0;34m(\u001b[0m\u001b[0mtuple\u001b[0m\u001b[0;34m)\u001b[0m\u001b[0;34m\u001b[0m\u001b[0;34m\u001b[0m\u001b[0m\n\u001b[1;32m      5\u001b[0m \u001b[0mSequence\u001b[0m\u001b[0;34m.\u001b[0m\u001b[0mregister\u001b[0m\u001b[0;34m(\u001b[0m\u001b[0mstr\u001b[0m\u001b[0;34m)\u001b[0m\u001b[0;34m\u001b[0m\u001b[0;34m\u001b[0m\u001b[0m\n",
            "\u001b[0;31mModuleNotFoundError\u001b[0m: No module named 'Sequence'",
            "",
            "\u001b[0;31m---------------------------------------------------------------------------\u001b[0;32m\nNOTE: If your import is failing due to a missing package, you can\nmanually install dependencies using either !pip or !apt.\n\nTo view examples of installing some common dependencies, click the\n\"Open Examples\" button below.\n\u001b[0;31m---------------------------------------------------------------------------\u001b[0m\n"
          ]
        }
      ]
    },
    {
      "cell_type": "markdown",
      "metadata": {
        "id": "gXQMw1GnjPJp",
        "colab_type": "text"
      },
      "source": [
        "Where the Sequence and the MutableSequence ABCs register some built-in types of Python.\n",
        "\n",
        "__It is very important to understand that registering a class does not imply any form of check about methods or attributes. Registering is just the promise that a given behaviour is provided by the registered class.__\n",
        "\n",
        "To demonstrate this let me provide you a very simple example made using one of the collections classes"
      ]
    },
    {
      "cell_type": "code",
      "metadata": {
        "id": "6qTCHVD-itK1",
        "colab_type": "code",
        "colab": {}
      },
      "source": [
        ""
      ],
      "execution_count": 0,
      "outputs": []
    }
  ]
}