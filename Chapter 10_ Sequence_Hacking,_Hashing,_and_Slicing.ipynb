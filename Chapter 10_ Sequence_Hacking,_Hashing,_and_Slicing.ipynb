{
  "nbformat": 4,
  "nbformat_minor": 0,
  "metadata": {
    "colab": {
      "name": "Chapter 10. Sequence Hacking, Hashing, and Slicing.ipynb",
      "version": "0.3.2",
      "provenance": [],
      "include_colab_link": true
    },
    "kernelspec": {
      "name": "python3",
      "display_name": "Python 3"
    }
  },
  "cells": [
    {
      "cell_type": "markdown",
      "metadata": {
        "id": "view-in-github",
        "colab_type": "text"
      },
      "source": [
        "<a href=\"https://colab.research.google.com/github/farshidbalan/FluentPython/blob/master/Chapter%C2%A010_%C2%A0Sequence_Hacking%2C_Hashing%2C_and_Slicing.ipynb\" target=\"_parent\"><img src=\"https://colab.research.google.com/assets/colab-badge.svg\" alt=\"Open In Colab\"/></a>"
      ]
    },
    {
      "cell_type": "markdown",
      "metadata": {
        "id": "4kQG8tVcDhFH",
        "colab_type": "text"
      },
      "source": [
        "# Vector Take #1: Vector2d Compatible"
      ]
    },
    {
      "cell_type": "code",
      "metadata": {
        "id": "Sr8hYUHJDmQl",
        "colab_type": "code",
        "colab": {}
      },
      "source": [
        "from array import array\n",
        "import reprlib\n",
        "import math"
      ],
      "execution_count": 0,
      "outputs": []
    },
    {
      "cell_type": "code",
      "metadata": {
        "id": "Ualmgm6ODs1i",
        "colab_type": "code",
        "colab": {}
      },
      "source": [
        "class Vector:\n",
        "  typecode = 'd'\n",
        "  \n",
        "  def __init__(self, component):\n",
        "    # The self._components instance “protected” attribute will hold an array \n",
        "    # with the Vector components.\n",
        "    self._components = array(self.typecode, components)\n",
        "    \n",
        "  def __iter__(self):\n",
        "    # To allow iteration, we return an iterator over self._components\n",
        "    return iter(self._components)\n",
        "\n",
        "  def __repr__(self):\n",
        "    # Use reprlib.repr() to get a limited-length representation of \n",
        "    # self._components (e.g., array('d', [0.0, 1.0, 2.0, 3.0, 4.0, ...])).\n",
        "    components = reprlib.repr(self._components)\n",
        "    \n",
        "    # Remove the array('d', prefix and the trailing ) before plugging the string \n",
        "    # into a Vector constructor call.\n",
        "    components = components[components.find('['): -1]\n",
        "    return f'Vector({components})'\n",
        "  \n",
        "  def __bytes__(self):\n",
        "    # Build a bytes object directly from self._components\n",
        "    return bytes([ord(self.typecode)]) + bytes(self._components)\n",
        "  \n",
        "  def __eq__(self, other):\n",
        "    return tuple(self) == tuple(other)\n",
        "  \n",
        "  def __abs__(self):\n",
        "    return math.sqrt(sum(x*x for x in self))\n",
        "  \n",
        "  def __boll__(self):\n",
        "    return bool(abs(self))\n",
        "  \n",
        "  @classmethod\n",
        "  def frombytes(cls, octets):\n",
        "    typecode = chr(octets[0])\n",
        "    memv = memoryview(octets[1:]).cast(typecode)\n",
        "    #  we pass the memoryview directly to the constructor\n",
        "    return cls(memv)"
      ],
      "execution_count": 0,
      "outputs": []
    },
    {
      "cell_type": "markdown",
      "metadata": {
        "id": "6smtf9nKKYQD",
        "colab_type": "text"
      },
      "source": [
        "### Remark:\n",
        "\n",
        "The way I used reprlib.repr deserves some elaboration. That function produces safe\n",
        "representations of large or recursive structures by limiting the length of the output string\n",
        "and marking the cut with '...'. I wanted the repr of a Vector to look like Vector([3.0,\n",
        "4.0, 5.0]) and not Vector(array('d', [3.0, 4.0, 5.0])), because the fact that\n",
        "there is an array inside a Vector is an implementation detail. Because these constructor\n",
        "calls build identical Vector objects, I prefer the simpler syntax using a list argument."
      ]
    },
    {
      "cell_type": "code",
      "metadata": {
        "id": "NBF-mVDoKbbN",
        "colab_type": "code",
        "colab": {}
      },
      "source": [
        ""
      ],
      "execution_count": 0,
      "outputs": []
    }
  ]
}