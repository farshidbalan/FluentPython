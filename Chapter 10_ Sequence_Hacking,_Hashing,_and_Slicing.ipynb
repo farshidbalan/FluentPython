{
  "nbformat": 4,
  "nbformat_minor": 0,
  "metadata": {
    "colab": {
      "name": "Chapter 10. Sequence Hacking, Hashing, and Slicing.ipynb",
      "version": "0.3.2",
      "provenance": [],
      "include_colab_link": true
    },
    "kernelspec": {
      "name": "python3",
      "display_name": "Python 3"
    }
  },
  "cells": [
    {
      "cell_type": "markdown",
      "metadata": {
        "id": "view-in-github",
        "colab_type": "text"
      },
      "source": [
        "<a href=\"https://colab.research.google.com/github/farshidbalan/FluentPython/blob/master/Chapter%C2%A010_%C2%A0Sequence_Hacking%2C_Hashing%2C_and_Slicing.ipynb\" target=\"_parent\"><img src=\"https://colab.research.google.com/assets/colab-badge.svg\" alt=\"Open In Colab\"/></a>"
      ]
    },
    {
      "cell_type": "markdown",
      "metadata": {
        "id": "4kQG8tVcDhFH",
        "colab_type": "text"
      },
      "source": [
        "##  Vector Take #1: Vector2d Compatible"
      ]
    },
    {
      "cell_type": "code",
      "metadata": {
        "id": "Sr8hYUHJDmQl",
        "colab_type": "code",
        "colab": {}
      },
      "source": [
        "from array import array\n",
        "import reprlib\n",
        "import math"
      ],
      "execution_count": 0,
      "outputs": []
    },
    {
      "cell_type": "code",
      "metadata": {
        "id": "Ualmgm6ODs1i",
        "colab_type": "code",
        "colab": {}
      },
      "source": [
        "class Vector:\n",
        "  typecode = 'd'\n",
        "  \n",
        "  def __init__(self, components):\n",
        "    # The self._components instance “protected” attribute will hold an array \n",
        "    # with the Vector components.\n",
        "    self._components = array(self.typecode, components)\n",
        "    \n",
        "  def __iter__(self):\n",
        "    # To allow iteration, we return an iterator over self._components\n",
        "    return iter(self._components)\n",
        "\n",
        "  def __repr__(self):\n",
        "    # Use reprlib.repr() to get a limited-length representation of \n",
        "    # self._components (e.g., array('d', [0.0, 1.0, 2.0, 3.0, 4.0, ...])).\n",
        "    components = reprlib.repr(self._components)\n",
        "    \n",
        "    # Remove the array('d', prefix and the trailing ) before plugging the string \n",
        "    # into a Vector constructor call.\n",
        "    components = components[components.find('['): -1]\n",
        "    return f'Vector({components})'\n",
        "  \n",
        "  def __bytes__(self):\n",
        "    # Build a bytes object directly from self._components\n",
        "    return bytes([ord(self.typecode)]) + bytes(self._components)\n",
        "  \n",
        "  def __eq__(self, other):\n",
        "    return tuple(self) == tuple(other)\n",
        "  \n",
        "  def __abs__(self):\n",
        "    return math.sqrt(sum(x*x for x in self))\n",
        "  \n",
        "  def __boll__(self):\n",
        "    return bool(abs(self))\n",
        "  \n",
        "  @classmethod\n",
        "  def frombytes(cls, octets):\n",
        "    typecode = chr(octets[0])\n",
        "    memv = memoryview(octets[1:]).cast(typecode)\n",
        "    #  we pass the memoryview directly to the constructor\n",
        "    return cls(memv)"
      ],
      "execution_count": 0,
      "outputs": []
    },
    {
      "cell_type": "markdown",
      "metadata": {
        "id": "6smtf9nKKYQD",
        "colab_type": "text"
      },
      "source": [
        "### Remark\n",
        "\n",
        "The way I used reprlib.repr deserves some elaboration. That function produces safe\n",
        "representations of large or recursive structures by limiting the length of the output string\n",
        "and marking the cut with '...'. I wanted the repr of a Vector to look like Vector([3.0,\n",
        "4.0, 5.0]) and not Vector(array('d', [3.0, 4.0, 5.0])), because the fact that\n",
        "there is an array inside a Vector is an implementation detail. Because these constructor\n",
        "calls build identical Vector objects, I prefer the simpler syntax using a list argument.\n",
        "\n",
        "\n",
        "### Protocol\n",
        "In the context of object-oriented programming, __a protocol is an informal interface,\n",
        "defined only in documentation and not in code__. For example, the sequence protocol in\n",
        "Python entails just the  --len-- and  --getitem-- methods. Any class Spam that imple‐\n",
        "ments those methods with the standard signature and semantics can be used anywhere\n",
        "a sequence is expected. Whether Spam is a subclass of this or that is irrelevant; all that"
      ]
    },
    {
      "cell_type": "code",
      "metadata": {
        "id": "NBF-mVDoKbbN",
        "colab_type": "code",
        "colab": {}
      },
      "source": [
        ""
      ],
      "execution_count": 0,
      "outputs": []
    },
    {
      "cell_type": "markdown",
      "metadata": {
        "id": "XPmRb7HsCWrU",
        "colab_type": "text"
      },
      "source": [
        "## Vector Take #2: A Sliceable Sequence"
      ]
    },
    {
      "cell_type": "code",
      "metadata": {
        "id": "xAatwPzLCYqw",
        "colab_type": "code",
        "colab": {}
      },
      "source": [
        "class Vector:\n",
        "  typecode = 'd'\n",
        "  \n",
        "  def __init__(self, components):\n",
        "    # The self._components instance “protected” attribute will hold an array \n",
        "    # with the Vector components.\n",
        "    self._components = array(self.typecode, components)\n",
        "    \n",
        "  def __iter__(self):\n",
        "    # To allow iteration, we return an iterator over self._components\n",
        "    return iter(self._components)\n",
        "\n",
        "  def __repr__(self):\n",
        "    # Use reprlib.repr() to get a limited-length representation of \n",
        "    # self._components (e.g., array('d', [0.0, 1.0, 2.0, 3.0, 4.0, ...])).\n",
        "    components = reprlib.repr(self._components)\n",
        "    \n",
        "    # Remove the array('d', prefix and the trailing ) before plugging the string \n",
        "    # into a Vector constructor call.\n",
        "    components = components[components.find('['): -1]\n",
        "    return f'Vector({components})'\n",
        "  \n",
        "  def __bytes__(self):\n",
        "    # Build a bytes object directly from self._components\n",
        "    return bytes([ord(self.typecode)]) + bytes(self._components)\n",
        "  \n",
        "  def __eq__(self, other):\n",
        "    return tuple(self) == tuple(other)\n",
        "  \n",
        "  def __abs__(self):\n",
        "    return math.sqrt(sum(x*x for x in self))\n",
        "  \n",
        "  def __boll__(self):\n",
        "    return bool(abs(self))\n",
        "  \n",
        "  @classmethod\n",
        "  def frombytes(cls, octets):\n",
        "    typecode = chr(octets[0])\n",
        "    memv = memoryview(octets[1:]).cast(typecode)\n",
        "    #  we pass the memoryview directly to the constructor\n",
        "    return cls(memv)\n",
        "  \n",
        "  def __len__(self):\n",
        "    return len(self._components)\n",
        "  \n",
        "  \n",
        "  def __getitem__(self, index):\n",
        "    return self._components[index]"
      ],
      "execution_count": 0,
      "outputs": []
    },
    {
      "cell_type": "code",
      "metadata": {
        "id": "cz4YGSyhC6B9",
        "colab_type": "code",
        "colab": {
          "base_uri": "https://localhost:8080/",
          "height": 34
        },
        "outputId": "c27c1e8a-6173-4a72-98b2-5a23afe1c99e"
      },
      "source": [
        "v1 = Vector([3, 4, 5])\n",
        "len(v1)"
      ],
      "execution_count": 7,
      "outputs": [
        {
          "output_type": "execute_result",
          "data": {
            "text/plain": [
              "3"
            ]
          },
          "metadata": {
            "tags": []
          },
          "execution_count": 7
        }
      ]
    },
    {
      "cell_type": "code",
      "metadata": {
        "id": "h3gbGiPZDIS4",
        "colab_type": "code",
        "colab": {
          "base_uri": "https://localhost:8080/",
          "height": 34
        },
        "outputId": "c4dd110d-093b-4c33-cc1e-ad02034ffefc"
      },
      "source": [
        "v2 = Vector(range(10))\n",
        "\n",
        "v2[1:4]"
      ],
      "execution_count": 9,
      "outputs": [
        {
          "output_type": "execute_result",
          "data": {
            "text/plain": [
              "array('d', [1.0, 2.0, 3.0])"
            ]
          },
          "metadata": {
            "tags": []
          },
          "execution_count": 9
        }
      ]
    },
    {
      "cell_type": "markdown",
      "metadata": {
        "id": "KCLiW2-AD5dm",
        "colab_type": "text"
      },
      "source": [
        "### Remark\n",
        "\n",
        "As you can see, even slicing is supported—but not very well. It would be better if a slice\n",
        "of a Vector was also a Vector instance and not a array. The old FrenchDeck class has\n",
        "a similar problem: when you slice it, you get a list. In the case of Vector, a lot of\n",
        "functionality is lost when slicing produces plain arrays.\n",
        "Consider the built-in sequence types: every one of them, when sliced, produces a new\n",
        "instance of its own type, and not of some other type.\n",
        "To make Vector produce slices as Vector instances, we can’t just delegate the slicing to\n",
        "array. We need to analyze the arguments we get in --getitem-- and do the right thing"
      ]
    },
    {
      "cell_type": "code",
      "metadata": {
        "id": "7mDzPqXVD96V",
        "colab_type": "code",
        "colab": {}
      },
      "source": [
        "import numbers\n",
        "class Vector:\n",
        "  typecode = 'd'\n",
        "  \n",
        "  def __init__(self, components):\n",
        "    # The self._components instance “protected” attribute will hold an array \n",
        "    # with the Vector components.\n",
        "    self._components = array(self.typecode, components)\n",
        "    \n",
        "  def __iter__(self):\n",
        "    # To allow iteration, we return an iterator over self._components\n",
        "    return iter(self._components)\n",
        "\n",
        "  def __repr__(self):\n",
        "    # Use reprlib.repr() to get a limited-length representation of \n",
        "    # self._components (e.g., array('d', [0.0, 1.0, 2.0, 3.0, 4.0, ...])).\n",
        "    components = reprlib.repr(self._components)\n",
        "    \n",
        "    # Remove the array('d', prefix and the trailing ) before plugging the string \n",
        "    # into a Vector constructor call.\n",
        "    components = components[components.find('['): -1]\n",
        "    return f'Vector({components})'\n",
        "  \n",
        "  def __bytes__(self):\n",
        "    # Build a bytes object directly from self._components\n",
        "    return bytes([ord(self.typecode)]) + bytes(self._components)\n",
        "  \n",
        "  def __eq__(self, other):\n",
        "    return tuple(self) == tuple(other)\n",
        "  \n",
        "  def __abs__(self):\n",
        "    return math.sqrt(sum(x*x for x in self))\n",
        "  \n",
        "  def __boll__(self):\n",
        "    return bool(abs(self))\n",
        "  \n",
        "  @classmethod\n",
        "  def frombytes(cls, octets):\n",
        "    typecode = chr(octets[0])\n",
        "    memv = memoryview(octets[1:]).cast(typecode)\n",
        "    \n",
        "    #  we pass the memoryview directly to the constructor\n",
        "    return cls(memv)\n",
        "  \n",
        "  def __len__(self):\n",
        "    return len(self._components)\n",
        "  \n",
        "  def __getitem__(self, index):\n",
        "    # Get the class of the instance (i.e., Vector) for later use.\n",
        "    cls = type(self)\n",
        "    \n",
        "    # If the index argument is a slice…\n",
        "    if isinstance(index, slice):\n",
        "      \n",
        "      # …invoke the class to build another Vector instance from a slice of the\n",
        "      # _components array.\n",
        "      return cls(self._components[index])\n",
        "    \n",
        "    # If the index is an int or some other kind of integer…\n",
        "    elif isinstance(index, numbers.Integral):\n",
        "      \n",
        "      # …just return the specific item from _components. \n",
        "      return self._components[index]\n",
        "    \n",
        "    else:\n",
        "      # Otherwise, raise an exception.\n",
        "      msg = '{cls.__name__} indices must be integers'\n",
        "      raise TypeError(msg.format(cls=cls))"
      ],
      "execution_count": 0,
      "outputs": []
    },
    {
      "cell_type": "code",
      "metadata": {
        "id": "hpFLjOOcXGgj",
        "colab_type": "code",
        "colab": {
          "base_uri": "https://localhost:8080/",
          "height": 34
        },
        "outputId": "b9e5bb37-122b-4f23-a271-a9a46d22c6ee"
      },
      "source": [
        "v3 = Vector(range(7))\n",
        "v3[-1]"
      ],
      "execution_count": 16,
      "outputs": [
        {
          "output_type": "execute_result",
          "data": {
            "text/plain": [
              "6.0"
            ]
          },
          "metadata": {
            "tags": []
          },
          "execution_count": 16
        }
      ]
    },
    {
      "cell_type": "code",
      "metadata": {
        "id": "5jni7O0wZydX",
        "colab_type": "code",
        "colab": {
          "base_uri": "https://localhost:8080/",
          "height": 34
        },
        "outputId": "cd592945-5539-4677-e2bf-b0e9d44c8f42"
      },
      "source": [
        "v3[1:3]"
      ],
      "execution_count": 17,
      "outputs": [
        {
          "output_type": "execute_result",
          "data": {
            "text/plain": [
              "Vector([1.0, 2.0])"
            ]
          },
          "metadata": {
            "tags": []
          },
          "execution_count": 17
        }
      ]
    },
    {
      "cell_type": "code",
      "metadata": {
        "id": "y3Q50VxOaMFh",
        "colab_type": "code",
        "colab": {
          "base_uri": "https://localhost:8080/",
          "height": 250
        },
        "outputId": "abd6a17d-62cb-41a4-e4ad-aedfe7026542"
      },
      "source": [
        "v3[1, 4]"
      ],
      "execution_count": 18,
      "outputs": [
        {
          "output_type": "error",
          "ename": "TypeError",
          "evalue": "ignored",
          "traceback": [
            "\u001b[0;31m---------------------------------------------------------------------------\u001b[0m",
            "\u001b[0;31mTypeError\u001b[0m                                 Traceback (most recent call last)",
            "\u001b[0;32m<ipython-input-18-fadcd438285e>\u001b[0m in \u001b[0;36m<module>\u001b[0;34m()\u001b[0m\n\u001b[0;32m----> 1\u001b[0;31m \u001b[0mv3\u001b[0m\u001b[0;34m[\u001b[0m\u001b[0;36m1\u001b[0m\u001b[0;34m,\u001b[0m \u001b[0;36m4\u001b[0m\u001b[0;34m]\u001b[0m\u001b[0;34m\u001b[0m\u001b[0;34m\u001b[0m\u001b[0m\n\u001b[0m",
            "\u001b[0;32m<ipython-input-15-29b25c3b2d55>\u001b[0m in \u001b[0;36m__getitem__\u001b[0;34m(self, index)\u001b[0m\n\u001b[1;32m     61\u001b[0m       \u001b[0;31m# Otherwise, raise an exception.\u001b[0m\u001b[0;34m\u001b[0m\u001b[0;34m\u001b[0m\u001b[0;34m\u001b[0m\u001b[0m\n\u001b[1;32m     62\u001b[0m       \u001b[0mmsg\u001b[0m \u001b[0;34m=\u001b[0m \u001b[0;34m'{cls.__name__} indices must be integers'\u001b[0m\u001b[0;34m\u001b[0m\u001b[0;34m\u001b[0m\u001b[0m\n\u001b[0;32m---> 63\u001b[0;31m       \u001b[0;32mraise\u001b[0m \u001b[0mTypeError\u001b[0m\u001b[0;34m(\u001b[0m\u001b[0mmsg\u001b[0m\u001b[0;34m.\u001b[0m\u001b[0mformat\u001b[0m\u001b[0;34m(\u001b[0m\u001b[0mcls\u001b[0m\u001b[0;34m=\u001b[0m\u001b[0mcls\u001b[0m\u001b[0;34m)\u001b[0m\u001b[0;34m)\u001b[0m\u001b[0;34m\u001b[0m\u001b[0;34m\u001b[0m\u001b[0m\n\u001b[0m",
            "\u001b[0;31mTypeError\u001b[0m: Vector indices must be integers"
          ]
        }
      ]
    },
    {
      "cell_type": "markdown",
      "metadata": {
        "id": "1UowXCF7agjF",
        "colab_type": "text"
      },
      "source": [
        "## Vector Take #3: Dynamic Attribute Access"
      ]
    },
    {
      "cell_type": "code",
      "metadata": {
        "id": "n877G2d4aif0",
        "colab_type": "code",
        "colab": {}
      },
      "source": [
        ""
      ],
      "execution_count": 0,
      "outputs": []
    }
  ]
}