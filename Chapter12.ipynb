{
  "nbformat": 4,
  "nbformat_minor": 0,
  "metadata": {
    "colab": {
      "name": "Chapter12.ipynb",
      "version": "0.3.2",
      "provenance": [],
      "include_colab_link": true
    },
    "kernelspec": {
      "name": "python3",
      "display_name": "Python 3"
    }
  },
  "cells": [
    {
      "cell_type": "markdown",
      "metadata": {
        "id": "view-in-github",
        "colab_type": "text"
      },
      "source": [
        "<a href=\"https://colab.research.google.com/github/farshidbalan/FluentPython/blob/master/Chapter12.ipynb\" target=\"_parent\"><img src=\"https://colab.research.google.com/assets/colab-badge.svg\" alt=\"Open In Colab\"/></a>"
      ]
    },
    {
      "cell_type": "markdown",
      "metadata": {
        "id": "J07e-A5iKAwU",
        "colab_type": "text"
      },
      "source": [
        "# Inheritance: For Good or For Worse"
      ]
    },
    {
      "cell_type": "markdown",
      "metadata": {
        "id": "vXgbiMXUKfBY",
        "colab_type": "text"
      },
      "source": [
        "## Subclassing Built-In Types Is Tricky"
      ]
    },
    {
      "cell_type": "code",
      "metadata": {
        "id": "VcKGzW0lOeoU",
        "colab_type": "code",
        "colab": {
          "base_uri": "https://localhost:8080/",
          "height": 34
        },
        "outputId": "2eeca4c8-8a45-4639-d40b-60ca8c927a0c"
      },
      "source": [
        "# Example 12-2. The __getitem__ of AnswerDict is bypassed by dict.update\n",
        "\n",
        "class AnswerDict(dict):\n",
        "  def __getitem__(self, key):\n",
        "    return 42\n",
        "  \n",
        "ad = AnswerDict(a='foo')\n",
        "ad['a']"
      ],
      "execution_count": 1,
      "outputs": [
        {
          "output_type": "execute_result",
          "data": {
            "text/plain": [
              "42"
            ]
          },
          "metadata": {
            "tags": []
          },
          "execution_count": 1
        }
      ]
    },
    {
      "cell_type": "code",
      "metadata": {
        "id": "4c5RKeaPO1fo",
        "colab_type": "code",
        "colab": {
          "base_uri": "https://localhost:8080/",
          "height": 34
        },
        "outputId": "ac789777-e467-4a01-a2ed-d8199a5f9bbd"
      },
      "source": [
        "dd = {}\n",
        "dd.update(ad)\n",
        "dd['a']"
      ],
      "execution_count": 5,
      "outputs": [
        {
          "output_type": "execute_result",
          "data": {
            "text/plain": [
              "'foo'"
            ]
          },
          "metadata": {
            "tags": []
          },
          "execution_count": 5
        }
      ]
    },
    {
      "cell_type": "code",
      "metadata": {
        "id": "FCe6-pHDPKyB",
        "colab_type": "code",
        "colab": {
          "base_uri": "https://localhost:8080/",
          "height": 34
        },
        "outputId": "4459fb82-b964-42fa-f11f-82bd3d66083c"
      },
      "source": [
        "dd"
      ],
      "execution_count": 6,
      "outputs": [
        {
          "output_type": "execute_result",
          "data": {
            "text/plain": [
              "{'a': 'foo'}"
            ]
          },
          "metadata": {
            "tags": []
          },
          "execution_count": 6
        }
      ]
    },
    {
      "cell_type": "code",
      "metadata": {
        "id": "HrqCN5e_PStJ",
        "colab_type": "code",
        "colab": {}
      },
      "source": [
        "# The dict.update method ignored our AnswerDict.__getitem__."
      ],
      "execution_count": 0,
      "outputs": []
    },
    {
      "cell_type": "markdown",
      "metadata": {
        "id": "0bSAvI8ePQDt",
        "colab_type": "text"
      },
      "source": [
        "# The dict.update method ignored our AnswerDict.__getitem__."
      ]
    },
    {
      "cell_type": "markdown",
      "metadata": {
        "id": "DvAP0ilEM1M4",
        "colab_type": "text"
      },
      "source": [
        "### Remark\n",
        "\n",
        "Subclassing built-in types like dict or list or str directly is errorprone because the built-in methods mostly ignore user-defined\n",
        "overrides. Instead of subclassing the built-ins, derive your classes\n",
        "from the collections module using UserDict, UserList, and\n",
        "UserString, which are designed to be easily extended."
      ]
    },
    {
      "cell_type": "code",
      "metadata": {
        "id": "a6KN1yHwKCmq",
        "colab_type": "code",
        "colab": {
          "base_uri": "https://localhost:8080/",
          "height": 34
        },
        "outputId": "0bb9cffa-52b3-4952-b13f-2b8ee80d9db0"
      },
      "source": [
        "import collections\n",
        "\n",
        "class DoppelDict2(collections.UserDict):\n",
        "  def __setitem__(self, key, value):\n",
        "    super().__setitem__(key, [value] * 2)\n",
        "    \n",
        "dd = DoppelDict2(one=1)\n",
        "dd"
      ],
      "execution_count": 11,
      "outputs": [
        {
          "output_type": "execute_result",
          "data": {
            "text/plain": [
              "{'one': [1, 1]}"
            ]
          },
          "metadata": {
            "tags": []
          },
          "execution_count": 11
        }
      ]
    },
    {
      "cell_type": "code",
      "metadata": {
        "id": "4Hx-kFG_PkhI",
        "colab_type": "code",
        "colab": {
          "base_uri": "https://localhost:8080/",
          "height": 34
        },
        "outputId": "a98bcf5e-e7af-4c49-bdbe-7610938da7d5"
      },
      "source": [
        "class AnswerDict2(collections.UserDict):\n",
        "  def __getitem__(self, key):\n",
        "    return 42\n",
        "  \n",
        "ad = AnswerDict2(a='foo')\n",
        "ad['a']\n"
      ],
      "execution_count": 12,
      "outputs": [
        {
          "output_type": "execute_result",
          "data": {
            "text/plain": [
              "42"
            ]
          },
          "metadata": {
            "tags": []
          },
          "execution_count": 12
        }
      ]
    },
    {
      "cell_type": "code",
      "metadata": {
        "id": "9xvRMo7lRk8R",
        "colab_type": "code",
        "colab": {
          "base_uri": "https://localhost:8080/",
          "height": 34
        },
        "outputId": "ba2bd98f-fa9e-4cca-eb66-ac799f619e6d"
      },
      "source": [
        "d = {}\n",
        "d.update(ad)\n",
        "d['a']"
      ],
      "execution_count": 13,
      "outputs": [
        {
          "output_type": "execute_result",
          "data": {
            "text/plain": [
              "42"
            ]
          },
          "metadata": {
            "tags": []
          },
          "execution_count": 13
        }
      ]
    },
    {
      "cell_type": "code",
      "metadata": {
        "id": "JO79ukxmRq5w",
        "colab_type": "code",
        "colab": {
          "base_uri": "https://localhost:8080/",
          "height": 34
        },
        "outputId": "f2595d1d-085d-454f-cc8f-c53f9fa35c4a"
      },
      "source": [
        "d"
      ],
      "execution_count": 14,
      "outputs": [
        {
          "output_type": "execute_result",
          "data": {
            "text/plain": [
              "{'a': 42}"
            ]
          },
          "metadata": {
            "tags": []
          },
          "execution_count": 14
        }
      ]
    },
    {
      "cell_type": "markdown",
      "metadata": {
        "id": "X4_NP6NZSHx0",
        "colab_type": "text"
      },
      "source": [
        "### Remark\n",
        "\n",
        "__MyWords__\n",
        "When we try to inherit from built-in classes in Python, we cannot overrid the special methods which are implemented in C. For this mean, we should override collections.UserDick or Collections.UserList methods. \n",
        "\n",
        "\n",
        "The problem described in this section applies only to method delegation\n",
        "within the C language implementation of the built-in types, and only affects userdefined classes derived directly from those types. If you subclass from a class coded in Python, such as UserDict or MutableMapping, you will not be troubled by this."
      ]
    },
    {
      "cell_type": "markdown",
      "metadata": {
        "id": "oTnQsCMdUEuh",
        "colab_type": "text"
      },
      "source": [
        "## Multiple Inheritance and Method Resolution Order"
      ]
    },
    {
      "cell_type": "code",
      "metadata": {
        "id": "uMbqQxRQUQ9o",
        "colab_type": "code",
        "colab": {}
      },
      "source": [
        "# Example 12-4. diamond.py: classes A, B, C, and D form\n",
        "class A:\n",
        "  def ping(self):\n",
        "    print('ping:', self)\n",
        "    \n",
        "class B(A):\n",
        "    def pong(self):\n",
        "      print('pong:', self)\n",
        "      \n",
        "class C(A):\n",
        "  def pong(self):\n",
        "    print('PONG:', self)\n",
        "    \n",
        "class D(B, C):\n",
        "  \n",
        "  def ping(self):\n",
        "    super().ping()\n",
        "    print('post-ping:', self)\n",
        "    \n",
        "    \n",
        "  def pingpong(self):\n",
        "    self.ping()   \n",
        "    super().ping() # The recommended way to delegate method calls to superclasses is the super() built-in function\n",
        "    self.pong()\n",
        "    super().pong()\n",
        "    C.pong(self)"
      ],
      "execution_count": 0,
      "outputs": []
    },
    {
      "cell_type": "code",
      "metadata": {
        "id": "haoQdhoVWCuz",
        "colab_type": "code",
        "colab": {
          "base_uri": "https://localhost:8080/",
          "height": 34
        },
        "outputId": "676d1ba2-76ba-4977-bb6a-4440caecb8da"
      },
      "source": [
        "d = D()\n",
        "d.pong()"
      ],
      "execution_count": 18,
      "outputs": [
        {
          "output_type": "stream",
          "text": [
            "pong: <__main__.D object at 0x7f801cd824a8>\n"
          ],
          "name": "stdout"
        }
      ]
    },
    {
      "cell_type": "code",
      "metadata": {
        "id": "glhYKMLOWvBG",
        "colab_type": "code",
        "colab": {
          "base_uri": "https://localhost:8080/",
          "height": 34
        },
        "outputId": "356fd71f-0151-4d68-dc02-08070b384431"
      },
      "source": [
        "C.pong(d) # You can always call a method on a superclass directly, passing the instance as an explicit argument."
      ],
      "execution_count": 21,
      "outputs": [
        {
          "output_type": "stream",
          "text": [
            "PONG: <__main__.D object at 0x7f801cd824a8>\n"
          ],
          "name": "stdout"
        }
      ]
    },
    {
      "cell_type": "markdown",
      "metadata": {
        "id": "hDCFSET6XGZg",
        "colab_type": "text"
      },
      "source": [
        "### Method Resolution Order (MRO)\n",
        "\n",
        "The ambiguity of a call like d.pong() is resolved because Python follows a specific order\n",
        "when traversing the inheritance graph. That order is called MRO: Method Resolution\n",
        "Order. Classes have an attribute called \\_\\_mro\\_\\_ holding a tuple of references to the\n",
        "superclasses in MRO order, from the current class all the way to the object class. For\n",
        "the D class, this is the \\_\\_mro\\_\\_"
      ]
    },
    {
      "cell_type": "code",
      "metadata": {
        "id": "F-aJlvE1Wxxt",
        "colab_type": "code",
        "colab": {
          "base_uri": "https://localhost:8080/",
          "height": 34
        },
        "outputId": "61de6105-5f10-4ec6-e66e-95bb98c36f54"
      },
      "source": [
        "D.__mro__"
      ],
      "execution_count": 22,
      "outputs": [
        {
          "output_type": "execute_result",
          "data": {
            "text/plain": [
              "(__main__.D, __main__.B, __main__.C, __main__.A, object)"
            ]
          },
          "metadata": {
            "tags": []
          },
          "execution_count": 22
        }
      ]
    },
    {
      "cell_type": "code",
      "metadata": {
        "id": "r40LIB8FXgLC",
        "colab_type": "code",
        "colab": {}
      },
      "source": [
        ""
      ],
      "execution_count": 0,
      "outputs": []
    }
  ]
}